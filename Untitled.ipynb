{
 "cells": [
  {
   "cell_type": "code",
   "execution_count": 1,
   "metadata": {},
   "outputs": [],
   "source": [
    "import numpy as np # linear algebra\n",
    "import pandas as pd # data processing, CSV file I/O (e.g. pd.read_csv)\n",
    "import os\n",
    "from pathlib import Path"
   ]
  },
  {
   "cell_type": "code",
   "execution_count": 2,
   "metadata": {},
   "outputs": [],
   "source": [
    "abc = !pwd\n",
    "isLocal = (abc[0].find('anooshhari') != 0)"
   ]
  },
  {
   "cell_type": "code",
   "execution_count": 3,
   "metadata": {},
   "outputs": [],
   "source": [
    "if isLocal:\n",
    "    base_directory = \"/Users/anooshhari/Documents/Anoosh/Masters/Spring 21/Classes/6100 - BigData Analytics for C/Project/indoor-location-navigation\"\n",
    "    base_git = base_directory\n",
    "    test_directory = \"/Users/anooshhari/Documents/Anoosh/Masters/Spring 21/Classes/6100 - BigData Analytics for C/Project/indoor-location-navigation/test\"\n",
    "else:\n",
    "    base_directory = \"/kaggle/input/indoor-location-navigation/\"\n",
    "    base_git = \"/kaggle/working/\""
   ]
  },
  {
   "cell_type": "code",
   "execution_count": 4,
   "metadata": {},
   "outputs": [],
   "source": [
    "if not isLocal:\n",
    "    !git clone https://github.com/location-competition/indoor-location-competition-20.git"
   ]
  },
  {
   "cell_type": "code",
   "execution_count": 5,
   "metadata": {},
   "outputs": [],
   "source": [
    "import sys\n",
    "sys.path.append(base_git +'/indoor-location-competition-20')\n",
    "from io_f import read_data_file"
   ]
  },
  {
   "cell_type": "code",
   "execution_count": 6,
   "metadata": {},
   "outputs": [],
   "source": [
    "import glob\n",
    "\n",
    "txtfiles = []\n",
    "for file in glob.glob(f\"{base_directory}/train/*/*/*.txt\"):\n",
    "    lst = file.split(\"/\")[-3:]\n",
    "    lst.append(file)\n",
    "    txtfiles.append(lst)"
   ]
  },
  {
   "cell_type": "code",
   "execution_count": 7,
   "metadata": {},
   "outputs": [],
   "source": [
    "df = pd.DataFrame(txtfiles,columns=['site_id','floor','path_id',\"file_path\"])\n",
    "df[\"file_data\"] = None"
   ]
  },
  {
   "cell_type": "code",
   "execution_count": 8,
   "metadata": {},
   "outputs": [
    {
     "data": {
      "text/html": [
       "<div>\n",
       "<style scoped>\n",
       "    .dataframe tbody tr th:only-of-type {\n",
       "        vertical-align: middle;\n",
       "    }\n",
       "\n",
       "    .dataframe tbody tr th {\n",
       "        vertical-align: top;\n",
       "    }\n",
       "\n",
       "    .dataframe thead th {\n",
       "        text-align: right;\n",
       "    }\n",
       "</style>\n",
       "<table border=\"1\" class=\"dataframe\">\n",
       "  <thead>\n",
       "    <tr style=\"text-align: right;\">\n",
       "      <th></th>\n",
       "      <th>site_id</th>\n",
       "      <th>floor</th>\n",
       "      <th>path_id</th>\n",
       "      <th>file_path</th>\n",
       "      <th>file_data</th>\n",
       "    </tr>\n",
       "  </thead>\n",
       "  <tbody>\n",
       "    <tr>\n",
       "      <th>0</th>\n",
       "      <td>5a0546857ecc773753327266</td>\n",
       "      <td>F4</td>\n",
       "      <td>5d79be0d43d77a0006b63a6d.txt</td>\n",
       "      <td>/Users/anooshhari/Documents/Anoosh/Masters/Spr...</td>\n",
       "      <td>None</td>\n",
       "    </tr>\n",
       "    <tr>\n",
       "      <th>1</th>\n",
       "      <td>5a0546857ecc773753327266</td>\n",
       "      <td>F4</td>\n",
       "      <td>5d79be0043d77a0006b63a5f.txt</td>\n",
       "      <td>/Users/anooshhari/Documents/Anoosh/Masters/Spr...</td>\n",
       "      <td>None</td>\n",
       "    </tr>\n",
       "    <tr>\n",
       "      <th>2</th>\n",
       "      <td>5a0546857ecc773753327266</td>\n",
       "      <td>F4</td>\n",
       "      <td>5d11dc04ffe23f0008604f57.txt</td>\n",
       "      <td>/Users/anooshhari/Documents/Anoosh/Masters/Spr...</td>\n",
       "      <td>None</td>\n",
       "    </tr>\n",
       "    <tr>\n",
       "      <th>3</th>\n",
       "      <td>5a0546857ecc773753327266</td>\n",
       "      <td>F4</td>\n",
       "      <td>5d8f0a4db6e29d0006fb8c36.txt</td>\n",
       "      <td>/Users/anooshhari/Documents/Anoosh/Masters/Spr...</td>\n",
       "      <td>None</td>\n",
       "    </tr>\n",
       "    <tr>\n",
       "      <th>4</th>\n",
       "      <td>5a0546857ecc773753327266</td>\n",
       "      <td>F4</td>\n",
       "      <td>5d8f0a52d5bae80006eb8de3.txt</td>\n",
       "      <td>/Users/anooshhari/Documents/Anoosh/Masters/Spr...</td>\n",
       "      <td>None</td>\n",
       "    </tr>\n",
       "  </tbody>\n",
       "</table>\n",
       "</div>"
      ],
      "text/plain": [
       "                    site_id floor                       path_id  \\\n",
       "0  5a0546857ecc773753327266    F4  5d79be0d43d77a0006b63a6d.txt   \n",
       "1  5a0546857ecc773753327266    F4  5d79be0043d77a0006b63a5f.txt   \n",
       "2  5a0546857ecc773753327266    F4  5d11dc04ffe23f0008604f57.txt   \n",
       "3  5a0546857ecc773753327266    F4  5d8f0a4db6e29d0006fb8c36.txt   \n",
       "4  5a0546857ecc773753327266    F4  5d8f0a52d5bae80006eb8de3.txt   \n",
       "\n",
       "                                           file_path file_data  \n",
       "0  /Users/anooshhari/Documents/Anoosh/Masters/Spr...      None  \n",
       "1  /Users/anooshhari/Documents/Anoosh/Masters/Spr...      None  \n",
       "2  /Users/anooshhari/Documents/Anoosh/Masters/Spr...      None  \n",
       "3  /Users/anooshhari/Documents/Anoosh/Masters/Spr...      None  \n",
       "4  /Users/anooshhari/Documents/Anoosh/Masters/Spr...      None  "
      ]
     },
     "execution_count": 8,
     "metadata": {},
     "output_type": "execute_result"
    }
   ],
   "source": [
    "site1_b1 = df[df.site_id.eq('5a0546857ecc773753327266')]\n",
    "site1_b1.head()"
   ]
  },
  {
   "cell_type": "code",
   "execution_count": 9,
   "metadata": {},
   "outputs": [],
   "source": [
    "def remove_timestamp_column(data):\n",
    "    for k,v in data.items():\n",
    "        if k in ['acce','gyro','magn','ahrs']:\n",
    "            data[k] = v[:,1:]\n",
    "    return data"
   ]
  },
  {
   "cell_type": "code",
   "execution_count": 10,
   "metadata": {},
   "outputs": [],
   "source": [
    "# read_data_file(site1_b1.file_path.values[0])\n",
    "for i,row in site1_b1.iterrows():\n",
    "    readData = read_data_file(row.file_path)\n",
    "    row.file_data = pd.DataFrame.from_dict({k:list(v) for k,v in remove_timestamp_column(readData.__dict__).items()}, orient='index', dtype=object).transpose()"
   ]
  },
  {
   "cell_type": "code",
   "execution_count": 11,
   "metadata": {},
   "outputs": [
    {
     "name": "stdout",
     "output_type": "stream",
     "text": [
      "Empty DataFrame\n",
      "Columns: [acce, gyro, magn, ahrs, floor]\n",
      "Index: []\n"
     ]
    },
    {
     "data": {
      "text/html": [
       "<div>\n",
       "<style scoped>\n",
       "    .dataframe tbody tr th:only-of-type {\n",
       "        vertical-align: middle;\n",
       "    }\n",
       "\n",
       "    .dataframe tbody tr th {\n",
       "        vertical-align: top;\n",
       "    }\n",
       "\n",
       "    .dataframe thead th {\n",
       "        text-align: right;\n",
       "    }\n",
       "</style>\n",
       "<table border=\"1\" class=\"dataframe\">\n",
       "  <thead>\n",
       "    <tr style=\"text-align: right;\">\n",
       "      <th></th>\n",
       "      <th>acce</th>\n",
       "      <th>gyro</th>\n",
       "      <th>magn</th>\n",
       "      <th>ahrs</th>\n",
       "      <th>floor</th>\n",
       "    </tr>\n",
       "  </thead>\n",
       "  <tbody>\n",
       "    <tr>\n",
       "      <th>0</th>\n",
       "      <td>[-1.4918823, 0.34014893, 10.652069]</td>\n",
       "      <td>[0.2646942, -0.29737854, 0.27461243]</td>\n",
       "      <td>[-23.14148, -18.16864, -23.690796]</td>\n",
       "      <td>[0.06200746, 0.026087942, -0.87248856]</td>\n",
       "      <td>F4</td>\n",
       "    </tr>\n",
       "    <tr>\n",
       "      <th>1</th>\n",
       "      <td>[-1.5619049, 0.4065857, 10.006226]</td>\n",
       "      <td>[0.2641449, -0.27552795, 0.22401428]</td>\n",
       "      <td>[-25.195312, -19.537354, -25.686646]</td>\n",
       "      <td>[0.06252557, 0.021754283, -0.8709258]</td>\n",
       "      <td>F4</td>\n",
       "    </tr>\n",
       "    <tr>\n",
       "      <th>2</th>\n",
       "      <td>[-1.6876068, 0.5298767, 9.641113]</td>\n",
       "      <td>[0.2055664, -0.17752075, 0.21813965]</td>\n",
       "      <td>[-25.195312, -17.48352, -25.686646]</td>\n",
       "      <td>[0.067413874, 0.016335025, -0.86725426]</td>\n",
       "      <td>F4</td>\n",
       "    </tr>\n",
       "    <tr>\n",
       "      <th>3</th>\n",
       "      <td>[-1.6343384, 0.6310425, 9.501663]</td>\n",
       "      <td>[0.15975952, -0.05343628, 0.24797058]</td>\n",
       "      <td>[-23.14148, -17.48352, -23.690796]</td>\n",
       "      <td>[0.067413874, 0.016335025, -0.86725426]</td>\n",
       "      <td>F4</td>\n",
       "    </tr>\n",
       "    <tr>\n",
       "      <th>4</th>\n",
       "      <td>[-1.5900421, 0.7214203, 9.437012]</td>\n",
       "      <td>[0.17041016, 0.004638672, 0.25810242]</td>\n",
       "      <td>[-23.14148, -19.537354, -24.35608]</td>\n",
       "      <td>[0.07057936, 0.014525489, -0.8652526]</td>\n",
       "      <td>F4</td>\n",
       "    </tr>\n",
       "  </tbody>\n",
       "</table>\n",
       "</div>"
      ],
      "text/plain": [
       "                                  acce                                   gyro  \\\n",
       "0  [-1.4918823, 0.34014893, 10.652069]   [0.2646942, -0.29737854, 0.27461243]   \n",
       "1   [-1.5619049, 0.4065857, 10.006226]   [0.2641449, -0.27552795, 0.22401428]   \n",
       "2    [-1.6876068, 0.5298767, 9.641113]   [0.2055664, -0.17752075, 0.21813965]   \n",
       "3    [-1.6343384, 0.6310425, 9.501663]  [0.15975952, -0.05343628, 0.24797058]   \n",
       "4    [-1.5900421, 0.7214203, 9.437012]  [0.17041016, 0.004638672, 0.25810242]   \n",
       "\n",
       "                                   magn  \\\n",
       "0    [-23.14148, -18.16864, -23.690796]   \n",
       "1  [-25.195312, -19.537354, -25.686646]   \n",
       "2   [-25.195312, -17.48352, -25.686646]   \n",
       "3    [-23.14148, -17.48352, -23.690796]   \n",
       "4    [-23.14148, -19.537354, -24.35608]   \n",
       "\n",
       "                                      ahrs floor  \n",
       "0   [0.06200746, 0.026087942, -0.87248856]    F4  \n",
       "1    [0.06252557, 0.021754283, -0.8709258]    F4  \n",
       "2  [0.067413874, 0.016335025, -0.86725426]    F4  \n",
       "3  [0.067413874, 0.016335025, -0.86725426]    F4  \n",
       "4    [0.07057936, 0.014525489, -0.8652526]    F4  "
      ]
     },
     "execution_count": 11,
     "metadata": {},
     "output_type": "execute_result"
    }
   ],
   "source": [
    "data_combined = pd.DataFrame(columns=['acce','gyro','magn','ahrs','floor'])\n",
    "print(data_combined)\n",
    "for i,data in site1_b1.iterrows():\n",
    "    current = data.file_data[['acce','gyro','magn','ahrs']].dropna()\n",
    "    current['floor'] = data.floor\n",
    "    current.reset_index(drop=True)\n",
    "#     print(type(data))\n",
    "#     print(type(current))\n",
    "#     break\n",
    "    data_combined = pd.concat([data_combined, current])\n",
    "# print(data_combined)\n",
    "data_combined.head()"
   ]
  },
  {
   "cell_type": "code",
   "execution_count": 12,
   "metadata": {},
   "outputs": [],
   "source": [
    "def floor_to_numeric(floor):\n",
    "    if 'F' in floor:\n",
    "        return int(floor.replace('F',''))-1\n",
    "    elif 'B' in floor:\n",
    "        return (int(floor.replace('B','')))*(-1)"
   ]
  },
  {
   "cell_type": "code",
   "execution_count": 13,
   "metadata": {},
   "outputs": [],
   "source": [
    "data_combined_copy = data_combined.copy()\n",
    "data_combined_copy.floor = data_combined_copy.floor.apply(floor_to_numeric)"
   ]
  },
  {
   "cell_type": "code",
   "execution_count": 14,
   "metadata": {},
   "outputs": [
    {
     "data": {
      "text/html": [
       "<div>\n",
       "<style scoped>\n",
       "    .dataframe tbody tr th:only-of-type {\n",
       "        vertical-align: middle;\n",
       "    }\n",
       "\n",
       "    .dataframe tbody tr th {\n",
       "        vertical-align: top;\n",
       "    }\n",
       "\n",
       "    .dataframe thead th {\n",
       "        text-align: right;\n",
       "    }\n",
       "</style>\n",
       "<table border=\"1\" class=\"dataframe\">\n",
       "  <thead>\n",
       "    <tr style=\"text-align: right;\">\n",
       "      <th></th>\n",
       "      <th>acce</th>\n",
       "      <th>gyro</th>\n",
       "      <th>magn</th>\n",
       "      <th>ahrs</th>\n",
       "      <th>floor</th>\n",
       "    </tr>\n",
       "  </thead>\n",
       "  <tbody>\n",
       "    <tr>\n",
       "      <th>0</th>\n",
       "      <td>[-1.4918823, 0.34014893, 10.652069]</td>\n",
       "      <td>[0.2646942, -0.29737854, 0.27461243]</td>\n",
       "      <td>[-23.14148, -18.16864, -23.690796]</td>\n",
       "      <td>[0.06200746, 0.026087942, -0.87248856]</td>\n",
       "      <td>3</td>\n",
       "    </tr>\n",
       "    <tr>\n",
       "      <th>1</th>\n",
       "      <td>[-1.5619049, 0.4065857, 10.006226]</td>\n",
       "      <td>[0.2641449, -0.27552795, 0.22401428]</td>\n",
       "      <td>[-25.195312, -19.537354, -25.686646]</td>\n",
       "      <td>[0.06252557, 0.021754283, -0.8709258]</td>\n",
       "      <td>3</td>\n",
       "    </tr>\n",
       "    <tr>\n",
       "      <th>2</th>\n",
       "      <td>[-1.6876068, 0.5298767, 9.641113]</td>\n",
       "      <td>[0.2055664, -0.17752075, 0.21813965]</td>\n",
       "      <td>[-25.195312, -17.48352, -25.686646]</td>\n",
       "      <td>[0.067413874, 0.016335025, -0.86725426]</td>\n",
       "      <td>3</td>\n",
       "    </tr>\n",
       "    <tr>\n",
       "      <th>3</th>\n",
       "      <td>[-1.6343384, 0.6310425, 9.501663]</td>\n",
       "      <td>[0.15975952, -0.05343628, 0.24797058]</td>\n",
       "      <td>[-23.14148, -17.48352, -23.690796]</td>\n",
       "      <td>[0.067413874, 0.016335025, -0.86725426]</td>\n",
       "      <td>3</td>\n",
       "    </tr>\n",
       "    <tr>\n",
       "      <th>4</th>\n",
       "      <td>[-1.5900421, 0.7214203, 9.437012]</td>\n",
       "      <td>[0.17041016, 0.004638672, 0.25810242]</td>\n",
       "      <td>[-23.14148, -19.537354, -24.35608]</td>\n",
       "      <td>[0.07057936, 0.014525489, -0.8652526]</td>\n",
       "      <td>3</td>\n",
       "    </tr>\n",
       "  </tbody>\n",
       "</table>\n",
       "</div>"
      ],
      "text/plain": [
       "                                  acce                                   gyro  \\\n",
       "0  [-1.4918823, 0.34014893, 10.652069]   [0.2646942, -0.29737854, 0.27461243]   \n",
       "1   [-1.5619049, 0.4065857, 10.006226]   [0.2641449, -0.27552795, 0.22401428]   \n",
       "2    [-1.6876068, 0.5298767, 9.641113]   [0.2055664, -0.17752075, 0.21813965]   \n",
       "3    [-1.6343384, 0.6310425, 9.501663]  [0.15975952, -0.05343628, 0.24797058]   \n",
       "4    [-1.5900421, 0.7214203, 9.437012]  [0.17041016, 0.004638672, 0.25810242]   \n",
       "\n",
       "                                   magn  \\\n",
       "0    [-23.14148, -18.16864, -23.690796]   \n",
       "1  [-25.195312, -19.537354, -25.686646]   \n",
       "2   [-25.195312, -17.48352, -25.686646]   \n",
       "3    [-23.14148, -17.48352, -23.690796]   \n",
       "4    [-23.14148, -19.537354, -24.35608]   \n",
       "\n",
       "                                      ahrs  floor  \n",
       "0   [0.06200746, 0.026087942, -0.87248856]      3  \n",
       "1    [0.06252557, 0.021754283, -0.8709258]      3  \n",
       "2  [0.067413874, 0.016335025, -0.86725426]      3  \n",
       "3  [0.067413874, 0.016335025, -0.86725426]      3  \n",
       "4    [0.07057936, 0.014525489, -0.8652526]      3  "
      ]
     },
     "execution_count": 14,
     "metadata": {},
     "output_type": "execute_result"
    }
   ],
   "source": [
    "data_combined_copy.head()"
   ]
  },
  {
   "cell_type": "code",
   "execution_count": 15,
   "metadata": {},
   "outputs": [],
   "source": [
    "data_combined_copy.acce = data_combined_copy.acce.apply(lambda x: x/np.sqrt((x**2).sum()))\n",
    "data_combined_copy.gyro = data_combined_copy.gyro.apply(lambda x: x/np.sqrt((x**2).sum()))\n",
    "data_combined_copy.magn = data_combined_copy.magn.apply(lambda x: x/np.sqrt((x**2).sum()))\n",
    "data_combined_copy.ahrs = data_combined_copy.ahrs.apply(lambda x: x/np.sqrt((x**2).sum()))"
   ]
  },
  {
   "cell_type": "code",
   "execution_count": 16,
   "metadata": {},
   "outputs": [],
   "source": [
    "import keras\n",
    "from keras import layers\n",
    "from sklearn.model_selection import train_test_split\n",
    "import tensorflow as tf"
   ]
  },
  {
   "cell_type": "code",
   "execution_count": 17,
   "metadata": {},
   "outputs": [
    {
     "name": "stdout",
     "output_type": "stream",
     "text": [
      "(611484, 5)\n",
      "(407656, 5)\n"
     ]
    }
   ],
   "source": [
    "train, test = train_test_split(data_combined_copy, test_size=0.4)\n",
    "print(train.shape)\n",
    "print(test.shape)"
   ]
  },
  {
   "cell_type": "code",
   "execution_count": 41,
   "metadata": {},
   "outputs": [],
   "source": [
    "# dataset = tf.datAUTOTUNEa.Dataset.from_tensor_slices((train[['acce','gyro','magn','ahrs']].values, train.floor.values))"
   ]
  },
  {
   "cell_type": "code",
   "execution_count": 18,
   "metadata": {},
   "outputs": [],
   "source": [
    "data_combined_junk = data_combined_copy.copy()\n",
    "data_combined_junk[['acce_x','acce_y','acce_z']] = pd.DataFrame(data_combined_junk.acce.tolist(), index= data_combined_junk.index)\n",
    "data_combined_junk[['gyro_x','gyro_y','gyro_z']] = pd.DataFrame(data_combined_junk.gyro.tolist(), index= data_combined_junk.index)\n",
    "data_combined_junk[['magn_x','magn_y','magn_z']] = pd.DataFrame(data_combined_junk.magn.tolist(), index= data_combined_junk.index)\n",
    "data_combined_junk[['ahrs_x','ahrs_y','ahrs_z']] = pd.DataFrame(data_combined_junk.ahrs.tolist(), index= data_combined_junk.index)"
   ]
  },
  {
   "cell_type": "code",
   "execution_count": 19,
   "metadata": {},
   "outputs": [],
   "source": [
    "data_combined_split = data_combined_junk[data_combined_junk.columns[4:]].copy()"
   ]
  },
  {
   "cell_type": "code",
   "execution_count": 20,
   "metadata": {},
   "outputs": [],
   "source": [
    "data_combined_split.head()\n",
    "train, test = train_test_split(data_combined_split, test_size=0.4)\n",
    "dataset = tf.data.Dataset.from_tensor_slices((train[train.columns[1:]].values, train['floor'].values+1))"
   ]
  },
  {
   "cell_type": "code",
   "execution_count": 21,
   "metadata": {},
   "outputs": [],
   "source": [
    "train_data = dataset.shuffle(len(dataset)).batch(1)"
   ]
  },
  {
   "cell_type": "code",
   "execution_count": 22,
   "metadata": {},
   "outputs": [],
   "source": [
    "def get_compiled_model():\n",
    "  model_new = tf.keras.Sequential([\n",
    "    tf.keras.layers.Dense(150, activation='relu'),\n",
    "    tf.keras.layers.Dense(150, activation='relu'),\n",
    "    tf.keras.layers.Dense(data_combined_junk.floor.value_counts().keys().size, activation='softmax')\n",
    "  ])\n",
    "\n",
    "  model_new.compile(optimizer='adam',\n",
    "                loss=tf.keras.losses.SparseCategoricalCrossentropy(),\n",
    "                metrics=['accuracy'])\n",
    "  return model_new"
   ]
  },
  {
   "cell_type": "code",
   "execution_count": 23,
   "metadata": {},
   "outputs": [
    {
     "name": "stdout",
     "output_type": "stream",
     "text": [
      "Epoch 1/20\n",
      "611484/611484 [==============================] - 476s 777us/step - loss: 1.2392 - accuracy: 0.4414\n",
      "Epoch 2/20\n",
      "611484/611484 [==============================] - 472s 770us/step - loss: 1.2075 - accuracy: 0.4597\n",
      "Epoch 3/20\n",
      "611484/611484 [==============================] - 574s 937us/step - loss: 1.2027 - accuracy: 0.4624\n",
      "Epoch 4/20\n",
      "611484/611484 [==============================] - 646s 1ms/step - loss: 1.2088 - accuracy: 0.4585\n",
      "Epoch 5/20\n",
      "611484/611484 [==============================] - 562s 917us/step - loss: 1.2086 - accuracy: 0.4600\n",
      "Epoch 6/20\n",
      "611484/611484 [==============================] - 501s 818us/step - loss: 1.2089 - accuracy: 0.4609\n",
      "Epoch 7/20\n",
      "611484/611484 [==============================] - 454s 741us/step - loss: 1.2101 - accuracy: 0.4610\n",
      "Epoch 8/20\n",
      "611484/611484 [==============================] - 545s 890us/step - loss: 1.2113 - accuracy: 0.4582\n",
      "Epoch 9/20\n",
      "611484/611484 [==============================] - 452s 737us/step - loss: 1.2133 - accuracy: 0.4555\n",
      "Epoch 10/20\n",
      "611484/611484 [==============================] - 453s 739us/step - loss: 1.2130 - accuracy: 0.4562\n",
      "Epoch 11/20\n",
      "611484/611484 [==============================] - 458s 748us/step - loss: 1.2162 - accuracy: 0.4517\n",
      "Epoch 12/20\n",
      "611484/611484 [==============================] - 460s 750us/step - loss: 1.2161 - accuracy: 0.4517\n",
      "Epoch 13/20\n",
      "611484/611484 [==============================] - 460s 750us/step - loss: 1.2165 - accuracy: 0.4471\n",
      "Epoch 14/20\n",
      "611484/611484 [==============================] - 495s 809us/step - loss: 1.2258 - accuracy: 0.4463\n",
      "Epoch 15/20\n",
      "611484/611484 [==============================] - 576s 941us/step - loss: 1.2199 - accuracy: 0.4452\n",
      "Epoch 16/20\n",
      "611484/611484 [==============================] - 518s 846us/step - loss: 1.2200 - accuracy: 0.4466\n",
      "Epoch 17/20\n",
      "611484/611484 [==============================] - 544s 889us/step - loss: 1.2201 - accuracy: 0.4475\n",
      "Epoch 18/20\n",
      "611484/611484 [==============================] - 633s 1ms/step - loss: 1.2221 - accuracy: 0.4453\n",
      "Epoch 19/20\n",
      "611484/611484 [==============================] - 668s 1ms/step - loss: 1.2223 - accuracy: 0.4456\n",
      "Epoch 20/20\n",
      "611484/611484 [==============================] - 671s 1ms/step - loss: 1.2250 - accuracy: 0.4443\n"
     ]
    },
    {
     "data": {
      "text/plain": [
       "<tensorflow.python.keras.callbacks.History at 0x7ff28d631f70>"
      ]
     },
     "execution_count": 23,
     "metadata": {},
     "output_type": "execute_result"
    }
   ],
   "source": [
    "model_new = get_compiled_model()\n",
    "model_new.fit(train_data, epochs=20)"
   ]
  },
  {
   "cell_type": "code",
   "execution_count": null,
   "metadata": {},
   "outputs": [],
   "source": [
    "import pickle"
   ]
  },
  {
   "cell_type": "code",
   "execution_count": null,
   "metadata": {},
   "outputs": [],
   "source": [
    "filename = 'finalized_model.sav'\n",
    "pickle.dump(model, open(filename, 'wb'))"
   ]
  },
  {
   "cell_type": "code",
   "execution_count": null,
   "metadata": {},
   "outputs": [],
   "source": [
    "# loaded_model = pickle.load(open(filename, 'rb'))\n",
    "# result = loaded_model.score(X_test, Y_test)\n",
    "# print(result)"
   ]
  },
  {
   "cell_type": "code",
   "execution_count": 60,
   "metadata": {},
   "outputs": [
    {
     "data": {
      "text/plain": [
       "magn        796\n",
       "ibeacon    1242\n",
       "dtype: int64"
      ]
     },
     "execution_count": 60,
     "metadata": {},
     "output_type": "execute_result"
    }
   ],
   "source": [
    "site1_b1.file_data.values[0][['magn','ibeacon']].isna().sum()"
   ]
  },
  {
   "cell_type": "code",
   "execution_count": 61,
   "metadata": {},
   "outputs": [],
   "source": [
    "def comp_metric(xhat, yhat, fhat, x, y, f):\n",
    "    intermediate = np.sqrt(np.power(xhat-x, 2) + np.power(yhat-y, 2)) + 15 * np.abs(fhat-f)\n",
    "    return intermediate.sum()/xhat.shape[0]"
   ]
  },
  {
   "cell_type": "code",
   "execution_count": null,
   "metadata": {},
   "outputs": [],
   "source": []
  }
 ],
 "metadata": {
  "kernelspec": {
   "display_name": "Python 3",
   "language": "python",
   "name": "python3"
  },
  "language_info": {
   "codemirror_mode": {
    "name": "ipython",
    "version": 3
   },
   "file_extension": ".py",
   "mimetype": "text/x-python",
   "name": "python",
   "nbconvert_exporter": "python",
   "pygments_lexer": "ipython3",
   "version": "3.8.5"
  },
  "toc": {
   "base_numbering": 1,
   "nav_menu": {},
   "number_sections": true,
   "sideBar": true,
   "skip_h1_title": false,
   "title_cell": "Table of Contents",
   "title_sidebar": "Contents",
   "toc_cell": false,
   "toc_position": {},
   "toc_section_display": true,
   "toc_window_display": false
  }
 },
 "nbformat": 4,
 "nbformat_minor": 4
}
