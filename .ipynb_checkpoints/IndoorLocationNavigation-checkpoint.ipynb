{
 "cells": [
  {
   "cell_type": "code",
   "execution_count": 1,
   "metadata": {},
   "outputs": [],
   "source": [
    "import numpy as np # linear algebra\n",
    "import pandas as pd # data processing, CSV file I/O (e.g. pd.read_csv)\n",
    "import os\n",
    "from pathlib import Path"
   ]
  },
  {
   "cell_type": "code",
   "execution_count": 2,
   "metadata": {},
   "outputs": [],
   "source": [
    "abc = !pwd\n",
    "isLocal = (abc[0].find('anooshhari') != 0)"
   ]
  },
  {
   "cell_type": "code",
   "execution_count": 3,
   "metadata": {},
   "outputs": [],
   "source": [
    "if isLocal:\n",
    "    base_directory = \"/Users/anooshhari/Documents/Anoosh/Masters/Spring 21/Classes/6100 - BigData Analytics for C/Project/indoor-location-navigation\"\n",
    "    base_git = base_directory\n",
    "else:\n",
    "    base_directory = \"/kaggle/input/indoor-location-navigation/\"\n",
    "    base_git = \"/kaggle/working/\""
   ]
  },
  {
   "cell_type": "code",
   "execution_count": 4,
   "metadata": {},
   "outputs": [],
   "source": [
    "if not isLocal:\n",
    "    !git clone https://github.com/location-competition/indoor-location-competition-20.git"
   ]
  },
  {
   "cell_type": "code",
   "execution_count": 5,
   "metadata": {},
   "outputs": [
    {
     "name": "stdout",
     "output_type": "stream",
     "text": [
      "/Users/anooshhari/Documents/Anoosh/Masters/Spring 21/Classes/6100 - BigData Analytics for C/Indoor Location Navigation\r\n"
     ]
    }
   ],
   "source": [
    "import sys\n",
    "sys.path.append(base_git +'/indoor-location-competition-20')\n",
    "!pwd\n",
    "from io_f import read_data_file"
   ]
  },
  {
   "cell_type": "code",
   "execution_count": 6,
   "metadata": {},
   "outputs": [],
   "source": [
    "import glob\n",
    "\n",
    "txtfiles = []\n",
    "for file in glob.glob(f\"{base_directory}/train/*/*/*.txt\"):\n",
    "    lst = file.split(\"/\")[-3:]\n",
    "    lst.append(file)\n",
    "    txtfiles.append(lst)"
   ]
  },
  {
   "cell_type": "code",
   "execution_count": 7,
   "metadata": {},
   "outputs": [
    {
     "data": {
      "text/plain": [
       "514"
      ]
     },
     "execution_count": 7,
     "metadata": {},
     "output_type": "execute_result"
    }
   ],
   "source": [
    "len(txtfiles)\n",
    "# base_directory\n",
    "# isLocal"
   ]
  },
  {
   "cell_type": "code",
   "execution_count": 8,
   "metadata": {},
   "outputs": [],
   "source": [
    "df = pd.DataFrame(txtfiles,columns=['site_id','floor','path_id',\"file_path\"])\n",
    "df[\"file_data\"] = None"
   ]
  },
  {
   "cell_type": "code",
   "execution_count": null,
   "metadata": {},
   "outputs": [],
   "source": [
    "df['']"
   ]
  },
  {
   "cell_type": "code",
   "execution_count": 9,
   "metadata": {},
   "outputs": [
    {
     "data": {
      "text/plain": [
       "(514, 5)"
      ]
     },
     "execution_count": 9,
     "metadata": {},
     "output_type": "execute_result"
    }
   ],
   "source": [
    "df.shape"
   ]
  },
  {
   "cell_type": "code",
   "execution_count": 10,
   "metadata": {},
   "outputs": [
    {
     "data": {
      "text/html": [
       "<div>\n",
       "<style scoped>\n",
       "    .dataframe tbody tr th:only-of-type {\n",
       "        vertical-align: middle;\n",
       "    }\n",
       "\n",
       "    .dataframe tbody tr th {\n",
       "        vertical-align: top;\n",
       "    }\n",
       "\n",
       "    .dataframe thead th {\n",
       "        text-align: right;\n",
       "    }\n",
       "</style>\n",
       "<table border=\"1\" class=\"dataframe\">\n",
       "  <thead>\n",
       "    <tr style=\"text-align: right;\">\n",
       "      <th></th>\n",
       "      <th>site_id</th>\n",
       "      <th>floor</th>\n",
       "      <th>path_id</th>\n",
       "      <th>file_path</th>\n",
       "      <th>file_data</th>\n",
       "    </tr>\n",
       "  </thead>\n",
       "  <tbody>\n",
       "    <tr>\n",
       "      <th>0</th>\n",
       "      <td>5a0546857ecc773753327266</td>\n",
       "      <td>F4</td>\n",
       "      <td>5d79be0d43d77a0006b63a6d.txt</td>\n",
       "      <td>/Users/anooshhari/Documents/Anoosh/Masters/Spr...</td>\n",
       "      <td>None</td>\n",
       "    </tr>\n",
       "    <tr>\n",
       "      <th>1</th>\n",
       "      <td>5a0546857ecc773753327266</td>\n",
       "      <td>F4</td>\n",
       "      <td>5d79be0043d77a0006b63a5f.txt</td>\n",
       "      <td>/Users/anooshhari/Documents/Anoosh/Masters/Spr...</td>\n",
       "      <td>None</td>\n",
       "    </tr>\n",
       "    <tr>\n",
       "      <th>2</th>\n",
       "      <td>5a0546857ecc773753327266</td>\n",
       "      <td>F4</td>\n",
       "      <td>5d11dc04ffe23f0008604f57.txt</td>\n",
       "      <td>/Users/anooshhari/Documents/Anoosh/Masters/Spr...</td>\n",
       "      <td>None</td>\n",
       "    </tr>\n",
       "    <tr>\n",
       "      <th>3</th>\n",
       "      <td>5a0546857ecc773753327266</td>\n",
       "      <td>F4</td>\n",
       "      <td>5d8f0a4db6e29d0006fb8c36.txt</td>\n",
       "      <td>/Users/anooshhari/Documents/Anoosh/Masters/Spr...</td>\n",
       "      <td>None</td>\n",
       "    </tr>\n",
       "    <tr>\n",
       "      <th>4</th>\n",
       "      <td>5a0546857ecc773753327266</td>\n",
       "      <td>F4</td>\n",
       "      <td>5d8f0a52d5bae80006eb8de3.txt</td>\n",
       "      <td>/Users/anooshhari/Documents/Anoosh/Masters/Spr...</td>\n",
       "      <td>None</td>\n",
       "    </tr>\n",
       "  </tbody>\n",
       "</table>\n",
       "</div>"
      ],
      "text/plain": [
       "                    site_id floor                       path_id  \\\n",
       "0  5a0546857ecc773753327266    F4  5d79be0d43d77a0006b63a6d.txt   \n",
       "1  5a0546857ecc773753327266    F4  5d79be0043d77a0006b63a5f.txt   \n",
       "2  5a0546857ecc773753327266    F4  5d11dc04ffe23f0008604f57.txt   \n",
       "3  5a0546857ecc773753327266    F4  5d8f0a4db6e29d0006fb8c36.txt   \n",
       "4  5a0546857ecc773753327266    F4  5d8f0a52d5bae80006eb8de3.txt   \n",
       "\n",
       "                                           file_path file_data  \n",
       "0  /Users/anooshhari/Documents/Anoosh/Masters/Spr...      None  \n",
       "1  /Users/anooshhari/Documents/Anoosh/Masters/Spr...      None  \n",
       "2  /Users/anooshhari/Documents/Anoosh/Masters/Spr...      None  \n",
       "3  /Users/anooshhari/Documents/Anoosh/Masters/Spr...      None  \n",
       "4  /Users/anooshhari/Documents/Anoosh/Masters/Spr...      None  "
      ]
     },
     "execution_count": 10,
     "metadata": {},
     "output_type": "execute_result"
    }
   ],
   "source": [
    "df.head()"
   ]
  },
  {
   "cell_type": "code",
   "execution_count": 11,
   "metadata": {},
   "outputs": [],
   "source": [
    "site1_b1 = df[df.site_id.eq('5a0546857ecc773753327266') & df.floor.eq('B1')]"
   ]
  },
  {
   "cell_type": "code",
   "execution_count": 13,
   "metadata": {},
   "outputs": [
    {
     "name": "stderr",
     "output_type": "stream",
     "text": [
      "<ipython-input-13-59f1103276a2>:1: SettingWithCopyWarning: \n",
      "A value is trying to be set on a copy of a slice from a DataFrame.\n",
      "Try using .loc[row_indexer,col_indexer] = value instead\n",
      "\n",
      "See the caveats in the documentation: https://pandas.pydata.org/pandas-docs/stable/user_guide/indexing.html#returning-a-view-versus-a-copy\n",
      "  site1_b1['site_path_timestamp'] = site1_b1.apply(lambda row : row.site_id+\"_\"+row.path_id, axis=1)\n"
     ]
    }
   ],
   "source": [
    "site1_b1['site_path_timestamp'] = site1_b1.apply(lambda row : row.site_id+\"_\"+row.path_id.split(\".\")[0], axis=1)"
   ]
  },
  {
   "cell_type": "code",
   "execution_count": 37,
   "metadata": {},
   "outputs": [
    {
     "ename": "ValueError",
     "evalue": "If using all scalar values, you must pass an index",
     "output_type": "error",
     "traceback": [
      "\u001b[0;31m---------------------------------------------------------------------------\u001b[0m",
      "\u001b[0;31mValueError\u001b[0m                                Traceback (most recent call last)",
      "\u001b[0;32m<ipython-input-37-00ad9cc1ff48>\u001b[0m in \u001b[0;36m<module>\u001b[0;34m\u001b[0m\n\u001b[1;32m      2\u001b[0m \u001b[0;32mfor\u001b[0m \u001b[0mi\u001b[0m\u001b[0;34m,\u001b[0m\u001b[0mrow\u001b[0m \u001b[0;32min\u001b[0m \u001b[0msite1_b1\u001b[0m\u001b[0;34m.\u001b[0m\u001b[0miterrows\u001b[0m\u001b[0;34m(\u001b[0m\u001b[0;34m)\u001b[0m\u001b[0;34m:\u001b[0m\u001b[0;34m\u001b[0m\u001b[0;34m\u001b[0m\u001b[0m\n\u001b[1;32m      3\u001b[0m     \u001b[0mreadData\u001b[0m \u001b[0;34m=\u001b[0m \u001b[0mread_data_file\u001b[0m\u001b[0;34m(\u001b[0m\u001b[0mrow\u001b[0m\u001b[0;34m.\u001b[0m\u001b[0mfile_path\u001b[0m\u001b[0;34m)\u001b[0m\u001b[0;34m\u001b[0m\u001b[0;34m\u001b[0m\u001b[0m\n\u001b[0;32m----> 4\u001b[0;31m     \u001b[0mrow\u001b[0m\u001b[0;34m.\u001b[0m\u001b[0mfile_data\u001b[0m \u001b[0;34m=\u001b[0m \u001b[0mpd\u001b[0m\u001b[0;34m.\u001b[0m\u001b[0mDataFrame\u001b[0m\u001b[0;34m(\u001b[0m\u001b[0mreadData\u001b[0m\u001b[0;34m.\u001b[0m\u001b[0m__dict__\u001b[0m\u001b[0;34m)\u001b[0m\u001b[0;34m\u001b[0m\u001b[0;34m\u001b[0m\u001b[0m\n\u001b[0m",
      "\u001b[0;32m~/opt/anaconda3/lib/python3.8/site-packages/pandas/core/frame.py\u001b[0m in \u001b[0;36m__init__\u001b[0;34m(self, data, index, columns, dtype, copy)\u001b[0m\n\u001b[1;32m    466\u001b[0m \u001b[0;34m\u001b[0m\u001b[0m\n\u001b[1;32m    467\u001b[0m         \u001b[0;32melif\u001b[0m \u001b[0misinstance\u001b[0m\u001b[0;34m(\u001b[0m\u001b[0mdata\u001b[0m\u001b[0;34m,\u001b[0m \u001b[0mdict\u001b[0m\u001b[0;34m)\u001b[0m\u001b[0;34m:\u001b[0m\u001b[0;34m\u001b[0m\u001b[0;34m\u001b[0m\u001b[0m\n\u001b[0;32m--> 468\u001b[0;31m             \u001b[0mmgr\u001b[0m \u001b[0;34m=\u001b[0m \u001b[0minit_dict\u001b[0m\u001b[0;34m(\u001b[0m\u001b[0mdata\u001b[0m\u001b[0;34m,\u001b[0m \u001b[0mindex\u001b[0m\u001b[0;34m,\u001b[0m \u001b[0mcolumns\u001b[0m\u001b[0;34m,\u001b[0m \u001b[0mdtype\u001b[0m\u001b[0;34m=\u001b[0m\u001b[0mdtype\u001b[0m\u001b[0;34m)\u001b[0m\u001b[0;34m\u001b[0m\u001b[0;34m\u001b[0m\u001b[0m\n\u001b[0m\u001b[1;32m    469\u001b[0m         \u001b[0;32melif\u001b[0m \u001b[0misinstance\u001b[0m\u001b[0;34m(\u001b[0m\u001b[0mdata\u001b[0m\u001b[0;34m,\u001b[0m \u001b[0mma\u001b[0m\u001b[0;34m.\u001b[0m\u001b[0mMaskedArray\u001b[0m\u001b[0;34m)\u001b[0m\u001b[0;34m:\u001b[0m\u001b[0;34m\u001b[0m\u001b[0;34m\u001b[0m\u001b[0m\n\u001b[1;32m    470\u001b[0m             \u001b[0;32mimport\u001b[0m \u001b[0mnumpy\u001b[0m\u001b[0;34m.\u001b[0m\u001b[0mma\u001b[0m\u001b[0;34m.\u001b[0m\u001b[0mmrecords\u001b[0m \u001b[0;32mas\u001b[0m \u001b[0mmrecords\u001b[0m\u001b[0;34m\u001b[0m\u001b[0;34m\u001b[0m\u001b[0m\n",
      "\u001b[0;32m~/opt/anaconda3/lib/python3.8/site-packages/pandas/core/internals/construction.py\u001b[0m in \u001b[0;36minit_dict\u001b[0;34m(data, index, columns, dtype)\u001b[0m\n\u001b[1;32m    281\u001b[0m             \u001b[0marr\u001b[0m \u001b[0;32mif\u001b[0m \u001b[0;32mnot\u001b[0m \u001b[0mis_datetime64tz_dtype\u001b[0m\u001b[0;34m(\u001b[0m\u001b[0marr\u001b[0m\u001b[0;34m)\u001b[0m \u001b[0;32melse\u001b[0m \u001b[0marr\u001b[0m\u001b[0;34m.\u001b[0m\u001b[0mcopy\u001b[0m\u001b[0;34m(\u001b[0m\u001b[0;34m)\u001b[0m \u001b[0;32mfor\u001b[0m \u001b[0marr\u001b[0m \u001b[0;32min\u001b[0m \u001b[0marrays\u001b[0m\u001b[0;34m\u001b[0m\u001b[0;34m\u001b[0m\u001b[0m\n\u001b[1;32m    282\u001b[0m         ]\n\u001b[0;32m--> 283\u001b[0;31m     \u001b[0;32mreturn\u001b[0m \u001b[0marrays_to_mgr\u001b[0m\u001b[0;34m(\u001b[0m\u001b[0marrays\u001b[0m\u001b[0;34m,\u001b[0m \u001b[0mdata_names\u001b[0m\u001b[0;34m,\u001b[0m \u001b[0mindex\u001b[0m\u001b[0;34m,\u001b[0m \u001b[0mcolumns\u001b[0m\u001b[0;34m,\u001b[0m \u001b[0mdtype\u001b[0m\u001b[0;34m=\u001b[0m\u001b[0mdtype\u001b[0m\u001b[0;34m)\u001b[0m\u001b[0;34m\u001b[0m\u001b[0;34m\u001b[0m\u001b[0m\n\u001b[0m\u001b[1;32m    284\u001b[0m \u001b[0;34m\u001b[0m\u001b[0m\n\u001b[1;32m    285\u001b[0m \u001b[0;34m\u001b[0m\u001b[0m\n",
      "\u001b[0;32m~/opt/anaconda3/lib/python3.8/site-packages/pandas/core/internals/construction.py\u001b[0m in \u001b[0;36marrays_to_mgr\u001b[0;34m(arrays, arr_names, index, columns, dtype, verify_integrity)\u001b[0m\n\u001b[1;32m     76\u001b[0m         \u001b[0;31m# figure out the index, if necessary\u001b[0m\u001b[0;34m\u001b[0m\u001b[0;34m\u001b[0m\u001b[0;34m\u001b[0m\u001b[0m\n\u001b[1;32m     77\u001b[0m         \u001b[0;32mif\u001b[0m \u001b[0mindex\u001b[0m \u001b[0;32mis\u001b[0m \u001b[0;32mNone\u001b[0m\u001b[0;34m:\u001b[0m\u001b[0;34m\u001b[0m\u001b[0;34m\u001b[0m\u001b[0m\n\u001b[0;32m---> 78\u001b[0;31m             \u001b[0mindex\u001b[0m \u001b[0;34m=\u001b[0m \u001b[0mextract_index\u001b[0m\u001b[0;34m(\u001b[0m\u001b[0marrays\u001b[0m\u001b[0;34m)\u001b[0m\u001b[0;34m\u001b[0m\u001b[0;34m\u001b[0m\u001b[0m\n\u001b[0m\u001b[1;32m     79\u001b[0m         \u001b[0;32melse\u001b[0m\u001b[0;34m:\u001b[0m\u001b[0;34m\u001b[0m\u001b[0;34m\u001b[0m\u001b[0m\n\u001b[1;32m     80\u001b[0m             \u001b[0mindex\u001b[0m \u001b[0;34m=\u001b[0m \u001b[0mensure_index\u001b[0m\u001b[0;34m(\u001b[0m\u001b[0mindex\u001b[0m\u001b[0;34m)\u001b[0m\u001b[0;34m\u001b[0m\u001b[0;34m\u001b[0m\u001b[0m\n",
      "\u001b[0;32m~/opt/anaconda3/lib/python3.8/site-packages/pandas/core/internals/construction.py\u001b[0m in \u001b[0;36mextract_index\u001b[0;34m(data)\u001b[0m\n\u001b[1;32m    385\u001b[0m \u001b[0;34m\u001b[0m\u001b[0m\n\u001b[1;32m    386\u001b[0m         \u001b[0;32mif\u001b[0m \u001b[0;32mnot\u001b[0m \u001b[0mindexes\u001b[0m \u001b[0;32mand\u001b[0m \u001b[0;32mnot\u001b[0m \u001b[0mraw_lengths\u001b[0m\u001b[0;34m:\u001b[0m\u001b[0;34m\u001b[0m\u001b[0;34m\u001b[0m\u001b[0m\n\u001b[0;32m--> 387\u001b[0;31m             \u001b[0;32mraise\u001b[0m \u001b[0mValueError\u001b[0m\u001b[0;34m(\u001b[0m\u001b[0;34m\"If using all scalar values, you must pass an index\"\u001b[0m\u001b[0;34m)\u001b[0m\u001b[0;34m\u001b[0m\u001b[0;34m\u001b[0m\u001b[0m\n\u001b[0m\u001b[1;32m    388\u001b[0m \u001b[0;34m\u001b[0m\u001b[0m\n\u001b[1;32m    389\u001b[0m         \u001b[0;32mif\u001b[0m \u001b[0mhave_series\u001b[0m\u001b[0;34m:\u001b[0m\u001b[0;34m\u001b[0m\u001b[0;34m\u001b[0m\u001b[0m\n",
      "\u001b[0;31mValueError\u001b[0m: If using all scalar values, you must pass an index"
     ]
    }
   ],
   "source": [
    "# read_data_file(site1_b1.file_path.values[0])\n",
    "for i,row in site1_b1.iterrows():\n",
    "    readData = read_data_file(row.file_path)\n",
    "    row.file_data = pd.DataFrame(readData.__dict__)"
   ]
  },
  {
   "cell_type": "code",
   "execution_count": 19,
   "metadata": {},
   "outputs": [],
   "source": [
    "df[\"step_positions\"] = None"
   ]
  },
  {
   "cell_type": "code",
   "execution_count": 76,
   "metadata": {},
   "outputs": [],
   "source": [
    "site1_b1_updated = site1_b1[['site_path_timestamp', 'file_data','file_path']].copy()"
   ]
  },
  {
   "cell_type": "code",
   "execution_count": 28,
   "metadata": {},
   "outputs": [],
   "source": [
    "# for i, row in site1_b1.iterrows():\n",
    "#     for key in row.file_data.keys():\n",
    "#         sensor_data_site1_b1[key].extend(list(row.file_data[key]))\n",
    "colums = list(site1_b1_updated.file_data.values[0].__dict__.keys())"
   ]
  },
  {
   "cell_type": "code",
   "execution_count": 51,
   "metadata": {},
   "outputs": [
    {
     "ename": "TypeError",
     "evalue": "'builtin_function_or_method' object is not iterable",
     "output_type": "error",
     "traceback": [
      "\u001b[0;31m---------------------------------------------------------------------------\u001b[0m",
      "\u001b[0;31mTypeError\u001b[0m                                 Traceback (most recent call last)",
      "\u001b[0;32m<ipython-input-51-6e2c13800e35>\u001b[0m in \u001b[0;36m<module>\u001b[0;34m\u001b[0m\n\u001b[1;32m      3\u001b[0m \u001b[0;31m#     print(sensor_data_site1_b1)\u001b[0m\u001b[0;34m\u001b[0m\u001b[0;34m\u001b[0m\u001b[0;34m\u001b[0m\u001b[0m\n\u001b[1;32m      4\u001b[0m \u001b[0;31m# pd.DataFrame({k:list(v) for k,v in d.items()})\u001b[0m\u001b[0;34m\u001b[0m\u001b[0;34m\u001b[0m\u001b[0;34m\u001b[0m\u001b[0m\n\u001b[0;32m----> 5\u001b[0;31m \u001b[0mdata\u001b[0m \u001b[0;34m=\u001b[0m \u001b[0;34m{\u001b[0m\u001b[0mk\u001b[0m\u001b[0;34m:\u001b[0m\u001b[0mlist\u001b[0m\u001b[0;34m(\u001b[0m\u001b[0mv\u001b[0m\u001b[0;34m)\u001b[0m \u001b[0;32mfor\u001b[0m \u001b[0mk\u001b[0m\u001b[0;34m,\u001b[0m\u001b[0mv\u001b[0m \u001b[0;32min\u001b[0m \u001b[0msite1_b1_updated\u001b[0m\u001b[0;34m.\u001b[0m\u001b[0mfile_data\u001b[0m\u001b[0;34m.\u001b[0m\u001b[0mvalues\u001b[0m\u001b[0;34m[\u001b[0m\u001b[0;36m0\u001b[0m\u001b[0;34m]\u001b[0m\u001b[0;34m.\u001b[0m\u001b[0m__dict__\u001b[0m\u001b[0;34m.\u001b[0m\u001b[0mitems\u001b[0m\u001b[0;34m}\u001b[0m\u001b[0;34m\u001b[0m\u001b[0;34m\u001b[0m\u001b[0m\n\u001b[0m\u001b[1;32m      6\u001b[0m \u001b[0mdatframe\u001b[0m \u001b[0;34m=\u001b[0m \u001b[0mpd\u001b[0m\u001b[0;34m.\u001b[0m\u001b[0mDataFrame\u001b[0m\u001b[0;34m(\u001b[0m\u001b[0mdata\u001b[0m\u001b[0;34m)\u001b[0m\u001b[0;34m\u001b[0m\u001b[0;34m\u001b[0m\u001b[0m\n",
      "\u001b[0;31mTypeError\u001b[0m: 'builtin_function_or_method' object is not iterable"
     ]
    }
   ],
   "source": [
    "# for key in site1_b1.file_data.values[0].keys():\n",
    "#     sensor_data_site1_b1[key].extend(row.file_data[key])\n",
    "#     print(sensor_data_site1_b1)\n",
    "# pd.DataFrame({k:list(v) for k,v in d.items()})\n",
    "data = {k:list(v) for k,v in site1_b1_updated.file_data.values[0].__dict__.items}\n",
    "datframe = pd.DataFrame(data)"
   ]
  },
  {
   "cell_type": "code",
   "execution_count": 80,
   "metadata": {},
   "outputs": [],
   "source": [
    "# type(list(site1_b1_updated.file_data.values[0].__dict__.values())[0])\n",
    "dataframe = pd.DataFrame.from_dict({k:list(v) for k,v in site1_b1_updated.file_data.values[0].items()}, orient='index')\n"
   ]
  },
  {
   "cell_type": "code",
   "execution_count": 82,
   "metadata": {},
   "outputs": [],
   "source": [
    "dataframe = dataframe.transpose()"
   ]
  },
  {
   "cell_type": "code",
   "execution_count": 111,
   "metadata": {
    "scrolled": true
   },
   "outputs": [
    {
     "data": {
      "text/html": [
       "<div>\n",
       "<style scoped>\n",
       "    .dataframe tbody tr th:only-of-type {\n",
       "        vertical-align: middle;\n",
       "    }\n",
       "\n",
       "    .dataframe tbody tr th {\n",
       "        vertical-align: top;\n",
       "    }\n",
       "\n",
       "    .dataframe thead th {\n",
       "        text-align: right;\n",
       "    }\n",
       "</style>\n",
       "<table border=\"1\" class=\"dataframe\">\n",
       "  <thead>\n",
       "    <tr style=\"text-align: right;\">\n",
       "      <th></th>\n",
       "      <th>acce</th>\n",
       "      <th>acce_uncali</th>\n",
       "      <th>gyro</th>\n",
       "      <th>gyro_uncali</th>\n",
       "      <th>magn</th>\n",
       "      <th>magn_uncali</th>\n",
       "      <th>ahrs</th>\n",
       "      <th>wifi</th>\n",
       "      <th>ibeacon</th>\n",
       "      <th>waypoint</th>\n",
       "    </tr>\n",
       "  </thead>\n",
       "  <tbody>\n",
       "    <tr>\n",
       "      <th>0</th>\n",
       "      <td>[1578464553140.0, -0.97288513, 4.024185, 8.651...</td>\n",
       "      <td>[1578464553140.0, -1.0770416, 4.1917725, 8.360...</td>\n",
       "      <td>[1578464553140.0, 0.07858276, -0.25498962, -0....</td>\n",
       "      <td>[1578464553140.0, 0.035614014, -0.36131287, -0...</td>\n",
       "      <td>[1578464553140.0, -33.62732, -9.300232, -21.29...</td>\n",
       "      <td>[1578464553140.0, -30.525208, 6.9381714, -345....</td>\n",
       "      <td>[1578464553140.0, 0.20643814, -0.12951683, -0....</td>\n",
       "      <td>[1578464553216, 02f6962ba3377969370d83878c6b09...</td>\n",
       "      <td>[1578464553229, d9c573b719a17da4836208fc436f87...</td>\n",
       "      <td>[1578464553030.0, 178.33347, 171.01176]</td>\n",
       "    </tr>\n",
       "    <tr>\n",
       "      <th>1</th>\n",
       "      <td>[1578464553160.0, -0.8765259, 4.035553, 8.643845]</td>\n",
       "      <td>[1578464553160.0, -0.97288513, 4.024185, 8.651...</td>\n",
       "      <td>[1578464553160.0, 0.15473938, -0.19586182, -0....</td>\n",
       "      <td>[1578464553160.0, 0.06864929, -0.25105286, -0....</td>\n",
       "      <td>[1578464553160.0, -35.014343, -7.913208, -19.9...</td>\n",
       "      <td>[1578464553160.0, -31.912231, 8.325195, -344.2...</td>\n",
       "      <td>[1578464553160.0, 0.20057018, -0.128523, -0.69...</td>\n",
       "      <td>[1578464553216, 6372b6c4f5a4078e73e2a5834e1fc1...</td>\n",
       "      <td>[1578464553375, d9c573b719a17da4836208fc436f87...</td>\n",
       "      <td>[1578464560379.0, 183.30205, 170.70773]</td>\n",
       "    </tr>\n",
       "    <tr>\n",
       "      <th>2</th>\n",
       "      <td>[1578464553180.0, -0.683197, 4.008026, 8.233246]</td>\n",
       "      <td>[1578464553180.0, -0.8765259, 4.035553, 8.643845]</td>\n",
       "      <td>[1578464553180.0, 0.19256592, -0.19213867, -0....</td>\n",
       "      <td>[1578464553180.0, 0.14480591, -0.19192505, -0....</td>\n",
       "      <td>[1578464553180.0, -32.933044, -9.300232, -17.9...</td>\n",
       "      <td>[1578464553180.0, -29.830933, 6.9381714, -342....</td>\n",
       "      <td>[1578464553180.0, 0.19698174, -0.12924607, -0....</td>\n",
       "      <td>[1578464553216, 02f6962ba3377969370d83878c6b09...</td>\n",
       "      <td>[1578464553411, d9c573b719a17da4836208fc436f87...</td>\n",
       "      <td>[1578464571372.0, 177.93846, 166.63974]</td>\n",
       "    </tr>\n",
       "    <tr>\n",
       "      <th>3</th>\n",
       "      <td>[1578464553200.0, -0.66104126, 4.0068207, 8.00...</td>\n",
       "      <td>[1578464553200.0, -0.683197, 4.008026, 8.233246]</td>\n",
       "      <td>[1578464553200.0, 0.12385559, -0.2027893, -0.2...</td>\n",
       "      <td>[1578464553200.0, 0.18263245, -0.1882019, -0.1...</td>\n",
       "      <td>[1578464553200.0, -34.321594, -9.994507, -19.2...</td>\n",
       "      <td>[1578464553200.0, -31.219482, 6.2438965, -343....</td>\n",
       "      <td>[1578464553200.0, 0.19482803, -0.13218704, -0....</td>\n",
       "      <td>[1578464553216, da39a3ee5e6b4b0d3255bfef956018...</td>\n",
       "      <td>[1578464553435, 89cb11b04122cef23388b0da06bd42...</td>\n",
       "      <td>[1578464585953.0, 181.98328, 161.74864]</td>\n",
       "    </tr>\n",
       "    <tr>\n",
       "      <th>4</th>\n",
       "      <td>[1578464553220.0, -0.7113342, 3.9816895, 8.238...</td>\n",
       "      <td>[1578464553220.0, -0.683197, 4.008026, 8.233246]</td>\n",
       "      <td>[1578464553220.0, 0.0002746582, -0.22729492, -...</td>\n",
       "      <td>[1578464553220.0, 0.18263245, -0.1882019, -0.1...</td>\n",
       "      <td>[1578464553220.0, -34.321594, -9.994507, -19.2...</td>\n",
       "      <td>[1578464553220.0, -31.219482, 6.2438965, -343....</td>\n",
       "      <td>[1578464553220.0, 0.19482803, -0.13218704, -0....</td>\n",
       "      <td>[1578464553216, 5e846097b54c7c432b6491b416c82a...</td>\n",
       "      <td>[1578464553619, d9c573b719a17da4836208fc436f87...</td>\n",
       "      <td>None</td>\n",
       "    </tr>\n",
       "    <tr>\n",
       "      <th>...</th>\n",
       "      <td>...</td>\n",
       "      <td>...</td>\n",
       "      <td>...</td>\n",
       "      <td>...</td>\n",
       "      <td>...</td>\n",
       "      <td>...</td>\n",
       "      <td>...</td>\n",
       "      <td>...</td>\n",
       "      <td>...</td>\n",
       "      <td>...</td>\n",
       "    </tr>\n",
       "    <tr>\n",
       "      <th>1711</th>\n",
       "      <td>[1578464587789.0, -1.3942871, 5.19075, 8.144058]</td>\n",
       "      <td>[1578464587789.0, -1.6301117, 5.2147064, 8.303...</td>\n",
       "      <td>[1578464587789.0, 0.30548096, 0.46513367, -0.0...</td>\n",
       "      <td>[1578464587789.0, 0.2955475, 0.46907043, -0.00...</td>\n",
       "      <td>[1578464587789.0, -7.9589844, -34.970093, -7.1...</td>\n",
       "      <td>[1578464587789.0, -4.8568726, -18.73169, -331....</td>\n",
       "      <td>[1578464587789.0, 0.135137, -0.26841542, -0.92...</td>\n",
       "      <td>[1578464572764, 6372b6c4f5a4078e73e2a5834e1fc1...</td>\n",
       "      <td>None</td>\n",
       "      <td>None</td>\n",
       "    </tr>\n",
       "    <tr>\n",
       "      <th>1712</th>\n",
       "      <td>[1578464587809.0, -2.0065918, 5.4397583, 6.747...</td>\n",
       "      <td>[1578464587809.0, -1.3942871, 5.19075, 8.144058]</td>\n",
       "      <td>[1578464587809.0, 0.35128784, 0.44648743, -0.0...</td>\n",
       "      <td>[1578464587809.0, 0.34135437, 0.4504242, -0.06...</td>\n",
       "      <td>[1578464587809.0, -7.9589844, -34.275818, -5.7...</td>\n",
       "      <td>[1578464587809.0, -4.8568726, -18.037415, -330...</td>\n",
       "      <td>[1578464587809.0, 0.14007306, -0.270645, -0.92...</td>\n",
       "      <td>[1578464572764, da39a3ee5e6b4b0d3255bfef956018...</td>\n",
       "      <td>None</td>\n",
       "      <td>None</td>\n",
       "    </tr>\n",
       "    <tr>\n",
       "      <th>1713</th>\n",
       "      <td>[1578464587829.0, -2.3884735, 5.354767, 8.400848]</td>\n",
       "      <td>[1578464587829.0, -2.0065918, 5.4397583, 6.747...</td>\n",
       "      <td>[1578464587829.0, 0.19522095, 0.37139893, -0.0...</td>\n",
       "      <td>[1578464587829.0, 0.18528748, 0.3753357, -0.05...</td>\n",
       "      <td>[1578464587829.0, -9.346008, -33.581543, -5.10...</td>\n",
       "      <td>[1578464587829.0, -6.2438965, -17.34314, -329....</td>\n",
       "      <td>[1578464587829.0, 0.14422405, -0.27173775, -0....</td>\n",
       "      <td>[1578464572764, da39a3ee5e6b4b0d3255bfef956018...</td>\n",
       "      <td>None</td>\n",
       "      <td>None</td>\n",
       "    </tr>\n",
       "    <tr>\n",
       "      <th>1714</th>\n",
       "      <td>[1578464587849.0, -2.144867, 5.621704, 8.94252]</td>\n",
       "      <td>[1578464587849.0, -2.3884735, 5.354767, 8.400848]</td>\n",
       "      <td>[1578464587849.0, -0.092941284, -0.18681335, -...</td>\n",
       "      <td>[1578464587849.0, -0.102874756, -0.18287659, -...</td>\n",
       "      <td>[1578464587849.0, -8.651733, -34.275818, -7.80...</td>\n",
       "      <td>[1578464587849.0, -5.5496216, -18.037415, -332...</td>\n",
       "      <td>[1578464587849.0, 0.14255099, -0.27107298, -0....</td>\n",
       "      <td>[1578464572764, da39a3ee5e6b4b0d3255bfef956018...</td>\n",
       "      <td>None</td>\n",
       "      <td>None</td>\n",
       "    </tr>\n",
       "    <tr>\n",
       "      <th>1715</th>\n",
       "      <td>[1578464587870.0, -1.6360931, 5.2955017, 8.147...</td>\n",
       "      <td>[1578464587870.0, -2.144867, 5.621704, 8.94252]</td>\n",
       "      <td>[1578464587870.0, -0.10145569, -0.35351562, 0....</td>\n",
       "      <td>[1578464587870.0, -0.11138916, -0.34957886, 0....</td>\n",
       "      <td>[1578464587870.0, -8.651733, -35.66284, -7.125...</td>\n",
       "      <td>[1578464587870.0, -5.5496216, -19.424438, -331...</td>\n",
       "      <td>[1578464587870.0, 0.1391183, -0.27074945, -0.9...</td>\n",
       "      <td>[1578464572764, da39a3ee5e6b4b0d3255bfef956018...</td>\n",
       "      <td>None</td>\n",
       "      <td>None</td>\n",
       "    </tr>\n",
       "  </tbody>\n",
       "</table>\n",
       "<p>1716 rows × 10 columns</p>\n",
       "</div>"
      ],
      "text/plain": [
       "                                                   acce  \\\n",
       "0     [1578464553140.0, -0.97288513, 4.024185, 8.651...   \n",
       "1     [1578464553160.0, -0.8765259, 4.035553, 8.643845]   \n",
       "2      [1578464553180.0, -0.683197, 4.008026, 8.233246]   \n",
       "3     [1578464553200.0, -0.66104126, 4.0068207, 8.00...   \n",
       "4     [1578464553220.0, -0.7113342, 3.9816895, 8.238...   \n",
       "...                                                 ...   \n",
       "1711   [1578464587789.0, -1.3942871, 5.19075, 8.144058]   \n",
       "1712  [1578464587809.0, -2.0065918, 5.4397583, 6.747...   \n",
       "1713  [1578464587829.0, -2.3884735, 5.354767, 8.400848]   \n",
       "1714    [1578464587849.0, -2.144867, 5.621704, 8.94252]   \n",
       "1715  [1578464587870.0, -1.6360931, 5.2955017, 8.147...   \n",
       "\n",
       "                                            acce_uncali  \\\n",
       "0     [1578464553140.0, -1.0770416, 4.1917725, 8.360...   \n",
       "1     [1578464553160.0, -0.97288513, 4.024185, 8.651...   \n",
       "2     [1578464553180.0, -0.8765259, 4.035553, 8.643845]   \n",
       "3      [1578464553200.0, -0.683197, 4.008026, 8.233246]   \n",
       "4      [1578464553220.0, -0.683197, 4.008026, 8.233246]   \n",
       "...                                                 ...   \n",
       "1711  [1578464587789.0, -1.6301117, 5.2147064, 8.303...   \n",
       "1712   [1578464587809.0, -1.3942871, 5.19075, 8.144058]   \n",
       "1713  [1578464587829.0, -2.0065918, 5.4397583, 6.747...   \n",
       "1714  [1578464587849.0, -2.3884735, 5.354767, 8.400848]   \n",
       "1715    [1578464587870.0, -2.144867, 5.621704, 8.94252]   \n",
       "\n",
       "                                                   gyro  \\\n",
       "0     [1578464553140.0, 0.07858276, -0.25498962, -0....   \n",
       "1     [1578464553160.0, 0.15473938, -0.19586182, -0....   \n",
       "2     [1578464553180.0, 0.19256592, -0.19213867, -0....   \n",
       "3     [1578464553200.0, 0.12385559, -0.2027893, -0.2...   \n",
       "4     [1578464553220.0, 0.0002746582, -0.22729492, -...   \n",
       "...                                                 ...   \n",
       "1711  [1578464587789.0, 0.30548096, 0.46513367, -0.0...   \n",
       "1712  [1578464587809.0, 0.35128784, 0.44648743, -0.0...   \n",
       "1713  [1578464587829.0, 0.19522095, 0.37139893, -0.0...   \n",
       "1714  [1578464587849.0, -0.092941284, -0.18681335, -...   \n",
       "1715  [1578464587870.0, -0.10145569, -0.35351562, 0....   \n",
       "\n",
       "                                            gyro_uncali  \\\n",
       "0     [1578464553140.0, 0.035614014, -0.36131287, -0...   \n",
       "1     [1578464553160.0, 0.06864929, -0.25105286, -0....   \n",
       "2     [1578464553180.0, 0.14480591, -0.19192505, -0....   \n",
       "3     [1578464553200.0, 0.18263245, -0.1882019, -0.1...   \n",
       "4     [1578464553220.0, 0.18263245, -0.1882019, -0.1...   \n",
       "...                                                 ...   \n",
       "1711  [1578464587789.0, 0.2955475, 0.46907043, -0.00...   \n",
       "1712  [1578464587809.0, 0.34135437, 0.4504242, -0.06...   \n",
       "1713  [1578464587829.0, 0.18528748, 0.3753357, -0.05...   \n",
       "1714  [1578464587849.0, -0.102874756, -0.18287659, -...   \n",
       "1715  [1578464587870.0, -0.11138916, -0.34957886, 0....   \n",
       "\n",
       "                                                   magn  \\\n",
       "0     [1578464553140.0, -33.62732, -9.300232, -21.29...   \n",
       "1     [1578464553160.0, -35.014343, -7.913208, -19.9...   \n",
       "2     [1578464553180.0, -32.933044, -9.300232, -17.9...   \n",
       "3     [1578464553200.0, -34.321594, -9.994507, -19.2...   \n",
       "4     [1578464553220.0, -34.321594, -9.994507, -19.2...   \n",
       "...                                                 ...   \n",
       "1711  [1578464587789.0, -7.9589844, -34.970093, -7.1...   \n",
       "1712  [1578464587809.0, -7.9589844, -34.275818, -5.7...   \n",
       "1713  [1578464587829.0, -9.346008, -33.581543, -5.10...   \n",
       "1714  [1578464587849.0, -8.651733, -34.275818, -7.80...   \n",
       "1715  [1578464587870.0, -8.651733, -35.66284, -7.125...   \n",
       "\n",
       "                                            magn_uncali  \\\n",
       "0     [1578464553140.0, -30.525208, 6.9381714, -345....   \n",
       "1     [1578464553160.0, -31.912231, 8.325195, -344.2...   \n",
       "2     [1578464553180.0, -29.830933, 6.9381714, -342....   \n",
       "3     [1578464553200.0, -31.219482, 6.2438965, -343....   \n",
       "4     [1578464553220.0, -31.219482, 6.2438965, -343....   \n",
       "...                                                 ...   \n",
       "1711  [1578464587789.0, -4.8568726, -18.73169, -331....   \n",
       "1712  [1578464587809.0, -4.8568726, -18.037415, -330...   \n",
       "1713  [1578464587829.0, -6.2438965, -17.34314, -329....   \n",
       "1714  [1578464587849.0, -5.5496216, -18.037415, -332...   \n",
       "1715  [1578464587870.0, -5.5496216, -19.424438, -331...   \n",
       "\n",
       "                                                   ahrs  \\\n",
       "0     [1578464553140.0, 0.20643814, -0.12951683, -0....   \n",
       "1     [1578464553160.0, 0.20057018, -0.128523, -0.69...   \n",
       "2     [1578464553180.0, 0.19698174, -0.12924607, -0....   \n",
       "3     [1578464553200.0, 0.19482803, -0.13218704, -0....   \n",
       "4     [1578464553220.0, 0.19482803, -0.13218704, -0....   \n",
       "...                                                 ...   \n",
       "1711  [1578464587789.0, 0.135137, -0.26841542, -0.92...   \n",
       "1712  [1578464587809.0, 0.14007306, -0.270645, -0.92...   \n",
       "1713  [1578464587829.0, 0.14422405, -0.27173775, -0....   \n",
       "1714  [1578464587849.0, 0.14255099, -0.27107298, -0....   \n",
       "1715  [1578464587870.0, 0.1391183, -0.27074945, -0.9...   \n",
       "\n",
       "                                                   wifi  \\\n",
       "0     [1578464553216, 02f6962ba3377969370d83878c6b09...   \n",
       "1     [1578464553216, 6372b6c4f5a4078e73e2a5834e1fc1...   \n",
       "2     [1578464553216, 02f6962ba3377969370d83878c6b09...   \n",
       "3     [1578464553216, da39a3ee5e6b4b0d3255bfef956018...   \n",
       "4     [1578464553216, 5e846097b54c7c432b6491b416c82a...   \n",
       "...                                                 ...   \n",
       "1711  [1578464572764, 6372b6c4f5a4078e73e2a5834e1fc1...   \n",
       "1712  [1578464572764, da39a3ee5e6b4b0d3255bfef956018...   \n",
       "1713  [1578464572764, da39a3ee5e6b4b0d3255bfef956018...   \n",
       "1714  [1578464572764, da39a3ee5e6b4b0d3255bfef956018...   \n",
       "1715  [1578464572764, da39a3ee5e6b4b0d3255bfef956018...   \n",
       "\n",
       "                                                ibeacon  \\\n",
       "0     [1578464553229, d9c573b719a17da4836208fc436f87...   \n",
       "1     [1578464553375, d9c573b719a17da4836208fc436f87...   \n",
       "2     [1578464553411, d9c573b719a17da4836208fc436f87...   \n",
       "3     [1578464553435, 89cb11b04122cef23388b0da06bd42...   \n",
       "4     [1578464553619, d9c573b719a17da4836208fc436f87...   \n",
       "...                                                 ...   \n",
       "1711                                               None   \n",
       "1712                                               None   \n",
       "1713                                               None   \n",
       "1714                                               None   \n",
       "1715                                               None   \n",
       "\n",
       "                                     waypoint  \n",
       "0     [1578464553030.0, 178.33347, 171.01176]  \n",
       "1     [1578464560379.0, 183.30205, 170.70773]  \n",
       "2     [1578464571372.0, 177.93846, 166.63974]  \n",
       "3     [1578464585953.0, 181.98328, 161.74864]  \n",
       "4                                        None  \n",
       "...                                       ...  \n",
       "1711                                     None  \n",
       "1712                                     None  \n",
       "1713                                     None  \n",
       "1714                                     None  \n",
       "1715                                     None  \n",
       "\n",
       "[1716 rows x 10 columns]"
      ]
     },
     "execution_count": 111,
     "metadata": {},
     "output_type": "execute_result"
    }
   ],
   "source": [
    "dataframe.shape\n",
    "dataframe[dataframe.notna().acce]"
   ]
  },
  {
   "cell_type": "code",
   "execution_count": 187,
   "metadata": {},
   "outputs": [
    {
     "data": {
      "text/plain": [
       "0       False\n",
       "1       False\n",
       "2       False\n",
       "3       False\n",
       "4       False\n",
       "        ...  \n",
       "3125     True\n",
       "3126     True\n",
       "3127     True\n",
       "3128     True\n",
       "3129     True\n",
       "Name: acce, Length: 3130, dtype: bool"
      ]
     },
     "execution_count": 187,
     "metadata": {},
     "output_type": "execute_result"
    }
   ],
   "source": [
    "dataframe."
   ]
  },
  {
   "cell_type": "code",
   "execution_count": 93,
   "metadata": {},
   "outputs": [
    {
     "name": "stdout",
     "output_type": "stream",
     "text": [
      "Processing /Users/anooshhari/Documents/Anoosh/Masters/Spring 21/Classes/6100 - BigData Analytics for C/Project/indoor-location-navigation/train/5a0546857ecc773753327266/B1/5e1581d4f4c3420006d52109.txt...\n"
     ]
    }
   ],
   "source": [
    "single_path_data = calibrate_magnetic_wifi_ibeacon_to_position(site1_b1.file_path.values[0:1])\n",
    "# site1_b1.file_path.values[0]"
   ]
  },
  {
   "cell_type": "code",
   "execution_count": 97,
   "metadata": {},
   "outputs": [
    {
     "data": {
      "text/plain": [
       "31"
      ]
     },
     "execution_count": 97,
     "metadata": {},
     "output_type": "execute_result"
    }
   ],
   "source": [
    "len(list(single_path_data.keys()))"
   ]
  },
  {
   "cell_type": "code",
   "execution_count": 117,
   "metadata": {},
   "outputs": [
    {
     "data": {
      "text/plain": [
       "274    5a0546857ecc773753327266_5e1581d4f4c3420006d52109\n",
       "275    5a0546857ecc773753327266_5e157315a280850006f3d00d\n",
       "276    5a0546857ecc773753327266_5e158ed7f4c3420006d5216a\n",
       "277    5a0546857ecc773753327266_5e1580b61506f2000638fc60\n",
       "278    5a0546857ecc773753327266_5e1580aff4c3420006d520d6\n",
       "                             ...                        \n",
       "378    5a0546857ecc773753327266_5e1581d81506f2000638fc84\n",
       "379    5a0546857ecc773753327266_5e15731aa280850006f3d00f\n",
       "380    5a0546857ecc773753327266_5e1580b1f4c3420006d520d8\n",
       "381    5a0546857ecc773753327266_5e157310a280850006f3d009\n",
       "382    5a0546857ecc773753327266_5e1580aa1506f2000638fc52\n",
       "Name: site_path_timestamp, Length: 109, dtype: object"
      ]
     },
     "execution_count": 117,
     "metadata": {},
     "output_type": "execute_result"
    }
   ],
   "source": [
    "site1_b1['site_path_timestamp']"
   ]
  },
  {
   "cell_type": "code",
   "execution_count": 122,
   "metadata": {},
   "outputs": [],
   "source": [
    "sample_sub = pd.read_csv(base_directory+\"/sample_submission.csv\")\n",
    "working_sample_submission = sample_sub[sample_sub.site_path_timestamp.str.contains(\"5a0546857ecc773753327266\")]"
   ]
  },
  {
   "cell_type": "code",
   "execution_count": 126,
   "metadata": {},
   "outputs": [
    {
     "name": "stderr",
     "output_type": "stream",
     "text": [
      "<ipython-input-126-bef72aedffd5>:1: SettingWithCopyWarning: \n",
      "A value is trying to be set on a copy of a slice from a DataFrame.\n",
      "Try using .loc[row_indexer,col_indexer] = value instead\n",
      "\n",
      "See the caveats in the documentation: https://pandas.pydata.org/pandas-docs/stable/user_guide/indexing.html#returning-a-view-versus-a-copy\n",
      "  working_sample_submission['file_path'] = working_sample_submission.apply(lambda row: row.site_path_timestamp.split(\"_\")[1], axis=1)\n"
     ]
    }
   ],
   "source": [
    "working_sample_submission['file_path'] = working_sample_submission.apply(lambda row: row.site_path_timestamp.split(\"_\")[1], axis=1)"
   ]
  },
  {
   "cell_type": "code",
   "execution_count": 140,
   "metadata": {},
   "outputs": [],
   "source": [
    "sample_sub_unique_paths = list(set(list(working_sample_submission.file_path.values)))"
   ]
  },
  {
   "cell_type": "code",
   "execution_count": 138,
   "metadata": {},
   "outputs": [],
   "source": [
    "working_df = df.copy()\n",
    "working_df.path_id = df.apply(lambda x: x.path_id.split(\".\")[0], axis=1)"
   ]
  },
  {
   "cell_type": "code",
   "execution_count": 162,
   "metadata": {},
   "outputs": [
    {
     "data": {
      "text/plain": [
       "['d592885af4e6e380c376dc55',\n",
       " 'ffcd9524c80c0fa5bb859eaf',\n",
       " '05d052dde78384b0c543d89c',\n",
       " '3506b3b626f494b0f0b934ca',\n",
       " '7d2d723a30cce824aad9915b',\n",
       " '986924433ab01afa81a59e7a',\n",
       " '146035943a1482883ed98570',\n",
       " 'bd5921cd1008382e2f537b53',\n",
       " '1ef2771dfea25d508142ba06',\n",
       " 'ac1a2e8f11ab64d729199969',\n",
       " '6d89334316127640cff99800',\n",
       " '72963a8c7eb520c56f88a536',\n",
       " '0c06cc9f21d172618d74c6c8',\n",
       " '947e17f82dbddfbdb4cb2447',\n",
       " '3e1d46017fbfcc8136bd1e9b',\n",
       " 'dd4cbd69218f610f27cf33c8',\n",
       " '412da1891c4780f6f0f7f4bc',\n",
       " 'e91afaba9603500e8e28a454',\n",
       " 'de9cef0d69383e47bd74a64c',\n",
       " 'a3c5aadf824a220327e9cdc6',\n",
       " 'bb84ab5e77fc9f5fdbd52827',\n",
       " 'd6e09245089299ec8e5173e7',\n",
       " 'ed77f28aeaf89b317bc380fa',\n",
       " '046cfa46be49fc10834815c6',\n",
       " 'bd0f2c8626679895f3338ca5',\n",
       " '3e0aebb66ef39150bbc27c24',\n",
       " 'ea777463a91a1293fc79fc52',\n",
       " 'ec9aee8ee72b1902bd83edf5',\n",
       " 'ce80c08d743f15e6586741f6']"
      ]
     },
     "execution_count": 162,
     "metadata": {},
     "output_type": "execute_result"
    }
   ],
   "source": [
    "\n",
    "sample_sub_unique_paths"
   ]
  },
  {
   "cell_type": "code",
   "execution_count": 172,
   "metadata": {},
   "outputs": [
    {
     "name": "stderr",
     "output_type": "stream",
     "text": [
      "<ipython-input-172-5d018784fc0f>:4: SettingWithCopyWarning: \n",
      "A value is trying to be set on a copy of a slice from a DataFrame.\n",
      "Try using .loc[row_indexer,col_indexer] = value instead\n",
      "\n",
      "See the caveats in the documentation: https://pandas.pydata.org/pandas-docs/stable/user_guide/indexing.html#returning-a-view-versus-a-copy\n",
      "  working_sample_submission['site_id'] = working_sample_submission.apply(lambda x: x.site_path_timestamp.split(\"_\")[0], axis=1)\n"
     ]
    },
    {
     "data": {
      "text/plain": [
       "{'5a0546857ecc773753327266'}"
      ]
     },
     "execution_count": 172,
     "metadata": {},
     "output_type": "execute_result"
    }
   ],
   "source": [
    "junk_set = list(set(working_df.path_id.values))\n",
    "# for x in sample_sub_unique_paths:\n",
    "#     print(x in junk_set)\n",
    "working_sample_submission['site_id'] = working_sample_submission.apply(lambda x: x.site_path_timestamp.split(\"_\")[0], axis=1)\n",
    "set(working_sample_submission.site_id.values)"
   ]
  },
  {
   "cell_type": "code",
   "execution_count": 174,
   "metadata": {},
   "outputs": [
    {
     "data": {
      "text/plain": [
       "0      False\n",
       "1      False\n",
       "2      False\n",
       "3      False\n",
       "4      False\n",
       "       ...  \n",
       "509    False\n",
       "510    False\n",
       "511    False\n",
       "512    False\n",
       "513    False\n",
       "Length: 514, dtype: bool"
      ]
     },
     "execution_count": 174,
     "metadata": {},
     "output_type": "execute_result"
    }
   ],
   "source": [
    "working_df.apply(lambda row: row.path_id in sample_sub_unique_paths, axis=1)\n",
    "# row.path_id in sample_sub_unique_paths"
   ]
  },
  {
   "cell_type": "code",
   "execution_count": null,
   "metadata": {},
   "outputs": [],
   "source": [
    "acc_data = []\n",
    "for item in site1_b1.file_data.values:\n",
    "    acc_data.extend(item.acce.tolist())"
   ]
  },
  {
   "cell_type": "code",
   "execution_count": null,
   "metadata": {},
   "outputs": [],
   "source": [
    "acc_data"
   ]
  },
  {
   "cell_type": "code",
   "execution_count": null,
   "metadata": {},
   "outputs": [],
   "source": [
    "site1_b1.file_data.values[0].ahrs"
   ]
  },
  {
   "cell_type": "code",
   "execution_count": null,
   "metadata": {},
   "outputs": [],
   "source": [
    "ahrs_data = []\n",
    "for item in site1_b1.file_data.values:\n",
    "    ahrs_data.extend(item.ahrs.tolist())"
   ]
  },
  {
   "cell_type": "code",
   "execution_count": null,
   "metadata": {},
   "outputs": [],
   "source": [
    "len(ahrs_data)"
   ]
  },
  {
   "cell_type": "code",
   "execution_count": null,
   "metadata": {},
   "outputs": [],
   "source": [
    "waypoint_data = []\n",
    "for item in site1_b1.file_data.values:\n",
    "    waypoint_data.extend(item.waypoint.tolist())"
   ]
  },
  {
   "cell_type": "code",
   "execution_count": null,
   "metadata": {},
   "outputs": [],
   "source": [
    "len(waypoint_data)"
   ]
  },
  {
   "cell_type": "code",
   "execution_count": 85,
   "metadata": {},
   "outputs": [],
   "source": [
    "from compute_f import compute_step_positions"
   ]
  },
  {
   "cell_type": "code",
   "execution_count": null,
   "metadata": {},
   "outputs": [],
   "source": [
    "# step_positions = compute_step_positions(acc_data, ahrs_data, waypoint_data)"
   ]
  },
  {
   "cell_type": "code",
   "execution_count": null,
   "metadata": {},
   "outputs": [],
   "source": [
    "acc_data = np.array(acc_data)"
   ]
  },
  {
   "cell_type": "code",
   "execution_count": null,
   "metadata": {},
   "outputs": [],
   "source": [
    "ahrs_data = np.array(ahrs_data)"
   ]
  },
  {
   "cell_type": "code",
   "execution_count": null,
   "metadata": {},
   "outputs": [],
   "source": [
    "waypoint_data = np.array(waypoint_data)"
   ]
  },
  {
   "cell_type": "code",
   "execution_count": null,
   "metadata": {},
   "outputs": [],
   "source": [
    "# step_positions = compute_step_positions(acc_data, ahrs_data, waypoint_data)"
   ]
  },
  {
   "cell_type": "code",
   "execution_count": null,
   "metadata": {},
   "outputs": [],
   "source": [
    "# step_positions = compute_step_positions(site1_b1.file_data.values[0].acce, site1_b1.file_data.values[0].ahrs, site1_b1.file_data.values[0].waypoint)"
   ]
  },
  {
   "cell_type": "code",
   "execution_count": null,
   "metadata": {},
   "outputs": [],
   "source": [
    "print(site1_b1.file_data.values[0].acce.shape)\n",
    "print(site1_b1.file_data.values[0].ahrs.shape)\n",
    "print(site1_b1.file_data.values[0].waypoint.shape)"
   ]
  },
  {
   "cell_type": "code",
   "execution_count": null,
   "metadata": {},
   "outputs": [],
   "source": [
    "print(acc_data.shape)\n",
    "print(ahrs_data.shape)\n",
    "print(waypoint_data.shape)"
   ]
  },
  {
   "cell_type": "code",
   "execution_count": null,
   "metadata": {},
   "outputs": [],
   "source": [
    "step_positions.shape"
   ]
  },
  {
   "cell_type": "code",
   "execution_count": 86,
   "metadata": {},
   "outputs": [],
   "source": [
    "from main import calibrate_magnetic_wifi_ibeacon_to_position"
   ]
  },
  {
   "cell_type": "code",
   "execution_count": null,
   "metadata": {},
   "outputs": [],
   "source": [
    "mwi_datas = calibrate_magnetic_wifi_ibeacon_to_position(site1_b1.file_path.values)"
   ]
  },
  {
   "cell_type": "code",
   "execution_count": null,
   "metadata": {},
   "outputs": [],
   "source": [
    "from visualize_f import visualize_trajectory"
   ]
  },
  {
   "cell_type": "code",
   "execution_count": null,
   "metadata": {},
   "outputs": [],
   "source": [
    "# visualize_trajectory(step_positions, floor_plan_filename, width_meter, height_meter, mode='markers', title='Step Position', show=True)"
   ]
  },
  {
   "cell_type": "code",
   "execution_count": null,
   "metadata": {},
   "outputs": [],
   "source": [
    "mwi_datas = calibrate_magnetic_wifi_ibeacon_to_position(site1_b1.file_path.values)"
   ]
  },
  {
   "cell_type": "code",
   "execution_count": null,
   "metadata": {},
   "outputs": [],
   "source": [
    "meta_path = \"/\".join(site1_b1.file_path.values[0].split(\"/\")[-3:-1])\n",
    "floor_plan_filename = f\"{base_directory}/metadata/{meta_path}/floor_image.png\"\n",
    "# print(floor_plan_filename)\n",
    "step_positions = np.array(list(mwi_datas.keys()))\n",
    "visualize_trajectory(step_positions, floor_plan_filename, 270.34143433711995, 204.53342955266643, mode='markers', title='Step Position')"
   ]
  },
  {
   "cell_type": "code",
   "execution_count": null,
   "metadata": {},
   "outputs": [],
   "source": [
    "print(f\"Step Positions--{step_positions.shape}\")\n",
    "print(f\"All waypoints--{waypoint_data.shape}\")\n",
    "print(f\"Accelaration Data--{acc_data.shape}\")"
   ]
  },
  {
   "cell_type": "code",
   "execution_count": null,
   "metadata": {},
   "outputs": [],
   "source": [
    "visualize_trajectory(step_positions, floor_plan_filename, 270.34143433711995, 204.53342955266643, mode='markers', title='Step Position')"
   ]
  },
  {
   "cell_type": "code",
   "execution_count": null,
   "metadata": {},
   "outputs": [],
   "source": [
    "temp_read_data = site1_b1.file_data.values[0]\n",
    "temp_read_data.__dict__['ibeacon'][0]"
   ]
  },
  {
   "cell_type": "code",
   "execution_count": null,
   "metadata": {},
   "outputs": [],
   "source": [
    "step_positions[:,0]-temp_read_data.__dict__['ibeacon'][:,0]"
   ]
  }
 ],
 "metadata": {
  "kernelspec": {
   "display_name": "Python 3",
   "language": "python",
   "name": "python3"
  },
  "language_info": {
   "codemirror_mode": {
    "name": "ipython",
    "version": 3
   },
   "file_extension": ".py",
   "mimetype": "text/x-python",
   "name": "python",
   "nbconvert_exporter": "python",
   "pygments_lexer": "ipython3",
   "version": "3.8.5"
  },
  "toc": {
   "base_numbering": 1,
   "nav_menu": {},
   "number_sections": true,
   "sideBar": true,
   "skip_h1_title": false,
   "title_cell": "Table of Contents",
   "title_sidebar": "Contents",
   "toc_cell": false,
   "toc_position": {},
   "toc_section_display": true,
   "toc_window_display": false
  }
 },
 "nbformat": 4,
 "nbformat_minor": 4
}
