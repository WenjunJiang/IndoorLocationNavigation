{
 "cells": [
  {
   "cell_type": "code",
   "execution_count": 3,
   "metadata": {},
   "outputs": [],
   "source": [
    "import numpy as np # linear algebra\n",
    "import pandas as pd # data processing, CSV file I/O (e.g. pd.read_csv)\n",
    "import os\n",
    "from pathlib import Path"
   ]
  },
  {
   "cell_type": "code",
   "execution_count": 4,
   "metadata": {},
   "outputs": [],
   "source": [
    "abc = !pwd\n",
    "isLocal = (abc[0].find('anooshhari') != 0)"
   ]
  },
  {
   "cell_type": "code",
   "execution_count": 5,
   "metadata": {},
   "outputs": [],
   "source": [
    "if isLocal:\n",
    "    base_directory = \"/Users/anooshhari/Documents/Anoosh/Masters/Spring 21/Classes/6100 - BigData Analytics for C/Project/indoor-location-navigation\"\n",
    "    base_git = base_directory\n",
    "    test_directory = \"/Users/anooshhari/Documents/Anoosh/Masters/Spring 21/Classes/6100 - BigData Analytics for C/Project/indoor-location-navigation/test\"\n",
    "else:\n",
    "    base_directory = \"/kaggle/input/indoor-location-navigation/\"\n",
    "    base_git = \"/kaggle/working/\""
   ]
  },
  {
   "cell_type": "code",
   "execution_count": 6,
   "metadata": {},
   "outputs": [],
   "source": [
    "if not isLocal:\n",
    "    !git clone https://github.com/location-competition/indoor-location-competition-20.git"
   ]
  },
  {
   "cell_type": "code",
   "execution_count": 7,
   "metadata": {},
   "outputs": [],
   "source": [
    "import sys\n",
    "sys.path.append(base_git +'/indoor-location-competition-20')\n",
    "from io_f import read_data_file"
   ]
  },
  {
   "cell_type": "code",
   "execution_count": 8,
   "metadata": {},
   "outputs": [],
   "source": [
    "import glob\n",
    "\n",
    "txtfiles = []\n",
    "for file in glob.glob(f\"{base_directory}/train/*/*/*.txt\"):\n",
    "    lst = file.split(\"/\")[-3:]\n",
    "    lst.append(file)\n",
    "    txtfiles.append(lst)"
   ]
  },
  {
   "cell_type": "code",
   "execution_count": 9,
   "metadata": {},
   "outputs": [],
   "source": [
    "df = pd.DataFrame(txtfiles,columns=['site_id','floor','path_id',\"file_path\"])\n",
    "df[\"file_data\"] = None"
   ]
  },
  {
   "cell_type": "code",
   "execution_count": 10,
   "metadata": {},
   "outputs": [],
   "source": [
    "site1_b1 = df[df.site_id.eq('5a0546857ecc773753327266')]"
   ]
  },
  {
   "cell_type": "code",
   "execution_count": 11,
   "metadata": {},
   "outputs": [
    {
     "data": {
      "text/html": [
       "<div>\n",
       "<style scoped>\n",
       "    .dataframe tbody tr th:only-of-type {\n",
       "        vertical-align: middle;\n",
       "    }\n",
       "\n",
       "    .dataframe tbody tr th {\n",
       "        vertical-align: top;\n",
       "    }\n",
       "\n",
       "    .dataframe thead th {\n",
       "        text-align: right;\n",
       "    }\n",
       "</style>\n",
       "<table border=\"1\" class=\"dataframe\">\n",
       "  <thead>\n",
       "    <tr style=\"text-align: right;\">\n",
       "      <th></th>\n",
       "      <th>site_id</th>\n",
       "      <th>floor</th>\n",
       "      <th>path_id</th>\n",
       "      <th>file_path</th>\n",
       "      <th>file_data</th>\n",
       "    </tr>\n",
       "  </thead>\n",
       "  <tbody>\n",
       "    <tr>\n",
       "      <th>0</th>\n",
       "      <td>5a0546857ecc773753327266</td>\n",
       "      <td>F4</td>\n",
       "      <td>5d79be0d43d77a0006b63a6d.txt</td>\n",
       "      <td>/Users/anooshhari/Documents/Anoosh/Masters/Spr...</td>\n",
       "      <td>None</td>\n",
       "    </tr>\n",
       "    <tr>\n",
       "      <th>1</th>\n",
       "      <td>5a0546857ecc773753327266</td>\n",
       "      <td>F4</td>\n",
       "      <td>5d79be0043d77a0006b63a5f.txt</td>\n",
       "      <td>/Users/anooshhari/Documents/Anoosh/Masters/Spr...</td>\n",
       "      <td>None</td>\n",
       "    </tr>\n",
       "    <tr>\n",
       "      <th>2</th>\n",
       "      <td>5a0546857ecc773753327266</td>\n",
       "      <td>F4</td>\n",
       "      <td>5d11dc04ffe23f0008604f57.txt</td>\n",
       "      <td>/Users/anooshhari/Documents/Anoosh/Masters/Spr...</td>\n",
       "      <td>None</td>\n",
       "    </tr>\n",
       "    <tr>\n",
       "      <th>3</th>\n",
       "      <td>5a0546857ecc773753327266</td>\n",
       "      <td>F4</td>\n",
       "      <td>5d8f0a4db6e29d0006fb8c36.txt</td>\n",
       "      <td>/Users/anooshhari/Documents/Anoosh/Masters/Spr...</td>\n",
       "      <td>None</td>\n",
       "    </tr>\n",
       "    <tr>\n",
       "      <th>4</th>\n",
       "      <td>5a0546857ecc773753327266</td>\n",
       "      <td>F4</td>\n",
       "      <td>5d8f0a52d5bae80006eb8de3.txt</td>\n",
       "      <td>/Users/anooshhari/Documents/Anoosh/Masters/Spr...</td>\n",
       "      <td>None</td>\n",
       "    </tr>\n",
       "  </tbody>\n",
       "</table>\n",
       "</div>"
      ],
      "text/plain": [
       "                    site_id floor                       path_id  \\\n",
       "0  5a0546857ecc773753327266    F4  5d79be0d43d77a0006b63a6d.txt   \n",
       "1  5a0546857ecc773753327266    F4  5d79be0043d77a0006b63a5f.txt   \n",
       "2  5a0546857ecc773753327266    F4  5d11dc04ffe23f0008604f57.txt   \n",
       "3  5a0546857ecc773753327266    F4  5d8f0a4db6e29d0006fb8c36.txt   \n",
       "4  5a0546857ecc773753327266    F4  5d8f0a52d5bae80006eb8de3.txt   \n",
       "\n",
       "                                           file_path file_data  \n",
       "0  /Users/anooshhari/Documents/Anoosh/Masters/Spr...      None  \n",
       "1  /Users/anooshhari/Documents/Anoosh/Masters/Spr...      None  \n",
       "2  /Users/anooshhari/Documents/Anoosh/Masters/Spr...      None  \n",
       "3  /Users/anooshhari/Documents/Anoosh/Masters/Spr...      None  \n",
       "4  /Users/anooshhari/Documents/Anoosh/Masters/Spr...      None  "
      ]
     },
     "execution_count": 11,
     "metadata": {},
     "output_type": "execute_result"
    }
   ],
   "source": [
    "site1_b1.head()"
   ]
  },
  {
   "cell_type": "code",
   "execution_count": 12,
   "metadata": {},
   "outputs": [],
   "source": [
    "def remove_timestamp_column(data):\n",
    "    for k,v in data.items():\n",
    "        if k in ['acce','gyro','magn','ahrs']:\n",
    "            data[k] = v[:,1:]\n",
    "    return data"
   ]
  },
  {
   "cell_type": "code",
   "execution_count": 13,
   "metadata": {},
   "outputs": [],
   "source": [
    "# read_data_file(site1_b1.file_path.values[0])\n",
    "for i,row in site1_b1.iterrows():\n",
    "    readData = read_data_file(row.file_path)\n",
    "    row.file_data = pd.DataFrame.from_dict({k:list(v) for k,v in remove_timestamp_column(readData.__dict__).items()}, orient='index', dtype=object).transpose()"
   ]
  },
  {
   "cell_type": "code",
   "execution_count": null,
   "metadata": {},
   "outputs": [],
   "source": [
    "# pd.DataFrame.from_dict({k:list(v) for k,v in read_data_file(site1_b1.file_path.values[0]).__dict__.items()}, orient='index').transpose()"
   ]
  },
  {
   "cell_type": "code",
   "execution_count": null,
   "metadata": {},
   "outputs": [],
   "source": []
  },
  {
   "cell_type": "code",
   "execution_count": null,
   "metadata": {},
   "outputs": [],
   "source": [
    "site1_b1.file_data.values[0]['acce'].values[0][:,1:]"
   ]
  },
  {
   "cell_type": "code",
   "execution_count": null,
   "metadata": {},
   "outputs": [],
   "source": [
    "from main import calibrate_magnetic_wifi_ibeacon_to_position"
   ]
  },
  {
   "cell_type": "code",
   "execution_count": null,
   "metadata": {},
   "outputs": [],
   "source": [
    "site1_b1.file_path[0:1].values[0]"
   ]
  },
  {
   "cell_type": "code",
   "execution_count": null,
   "metadata": {},
   "outputs": [],
   "source": [
    "single_path_data = calibrate_magnetic_wifi_ibeacon_to_position(site1_b1.file_path[0:1])"
   ]
  },
  {
   "cell_type": "code",
   "execution_count": null,
   "metadata": {},
   "outputs": [],
   "source": [
    "len(single_path_data.keys())"
   ]
  },
  {
   "cell_type": "code",
   "execution_count": null,
   "metadata": {},
   "outputs": [],
   "source": [
    "# test_single_path_data = calibrate_magnetic_wifi_ibeacon_to_position([\"/Users/anooshhari/Documents/Anoosh/Masters/Spring 21/Classes/6100 - BigData Analytics for C/Project/indoor-location-navigation/test/046cfa46be49fc10834815c6.txt\"])\n",
    "\n",
    "# caliberate magnetic wifi method cannot be called without waypoints i.e., on test file"
   ]
  },
  {
   "cell_type": "code",
   "execution_count": null,
   "metadata": {},
   "outputs": [],
   "source": []
  },
  {
   "cell_type": "code",
   "execution_count": null,
   "metadata": {},
   "outputs": [],
   "source": [
    "list(site1_b1.file_data.values[0].acce.values[0][:,0])"
   ]
  },
  {
   "cell_type": "code",
   "execution_count": null,
   "metadata": {},
   "outputs": [],
   "source": [
    "site1_b1.file_data.values[0][['acce','gyro','magn','ahrs']].shape"
   ]
  },
  {
   "cell_type": "code",
   "execution_count": null,
   "metadata": {},
   "outputs": [],
   "source": [
    "site1_b1.file_data.values[0][['acce','gyro','magn','ahrs']].dropna().shape"
   ]
  },
  {
   "cell_type": "code",
   "execution_count": 14,
   "metadata": {},
   "outputs": [
    {
     "name": "stdout",
     "output_type": "stream",
     "text": [
      "Empty DataFrame\n",
      "Columns: [acce, gyro, magn, ahrs, floor]\n",
      "Index: []\n"
     ]
    }
   ],
   "source": [
    "data_combined = pd.DataFrame(columns=['acce','gyro','magn','ahrs','floor'])\n",
    "print(data_combined)\n",
    "for i,data in site1_b1.iterrows():\n",
    "    current = data.file_data[['acce','gyro','magn','ahrs']].dropna()\n",
    "    current['floor'] = data.floor\n",
    "    current.reset_index(drop=True)\n",
    "#     print(type(data))\n",
    "#     print(type(current))\n",
    "#     break\n",
    "    data_combined = pd.concat([data_combined, current])\n",
    "# print(data_combined)"
   ]
  },
  {
   "cell_type": "code",
   "execution_count": null,
   "metadata": {},
   "outputs": [],
   "source": [
    "# data_combined.describe()"
   ]
  },
  {
   "cell_type": "code",
   "execution_count": 15,
   "metadata": {},
   "outputs": [
    {
     "data": {
      "text/html": [
       "<div>\n",
       "<style scoped>\n",
       "    .dataframe tbody tr th:only-of-type {\n",
       "        vertical-align: middle;\n",
       "    }\n",
       "\n",
       "    .dataframe tbody tr th {\n",
       "        vertical-align: top;\n",
       "    }\n",
       "\n",
       "    .dataframe thead th {\n",
       "        text-align: right;\n",
       "    }\n",
       "</style>\n",
       "<table border=\"1\" class=\"dataframe\">\n",
       "  <thead>\n",
       "    <tr style=\"text-align: right;\">\n",
       "      <th></th>\n",
       "      <th>acce</th>\n",
       "      <th>gyro</th>\n",
       "      <th>magn</th>\n",
       "      <th>ahrs</th>\n",
       "      <th>floor</th>\n",
       "    </tr>\n",
       "  </thead>\n",
       "  <tbody>\n",
       "    <tr>\n",
       "      <th>0</th>\n",
       "      <td>[-1.4918823, 0.34014893, 10.652069]</td>\n",
       "      <td>[0.2646942, -0.29737854, 0.27461243]</td>\n",
       "      <td>[-23.14148, -18.16864, -23.690796]</td>\n",
       "      <td>[0.06200746, 0.026087942, -0.87248856]</td>\n",
       "      <td>F4</td>\n",
       "    </tr>\n",
       "    <tr>\n",
       "      <th>1</th>\n",
       "      <td>[-1.5619049, 0.4065857, 10.006226]</td>\n",
       "      <td>[0.2641449, -0.27552795, 0.22401428]</td>\n",
       "      <td>[-25.195312, -19.537354, -25.686646]</td>\n",
       "      <td>[0.06252557, 0.021754283, -0.8709258]</td>\n",
       "      <td>F4</td>\n",
       "    </tr>\n",
       "    <tr>\n",
       "      <th>2</th>\n",
       "      <td>[-1.6876068, 0.5298767, 9.641113]</td>\n",
       "      <td>[0.2055664, -0.17752075, 0.21813965]</td>\n",
       "      <td>[-25.195312, -17.48352, -25.686646]</td>\n",
       "      <td>[0.067413874, 0.016335025, -0.86725426]</td>\n",
       "      <td>F4</td>\n",
       "    </tr>\n",
       "    <tr>\n",
       "      <th>3</th>\n",
       "      <td>[-1.6343384, 0.6310425, 9.501663]</td>\n",
       "      <td>[0.15975952, -0.05343628, 0.24797058]</td>\n",
       "      <td>[-23.14148, -17.48352, -23.690796]</td>\n",
       "      <td>[0.067413874, 0.016335025, -0.86725426]</td>\n",
       "      <td>F4</td>\n",
       "    </tr>\n",
       "    <tr>\n",
       "      <th>4</th>\n",
       "      <td>[-1.5900421, 0.7214203, 9.437012]</td>\n",
       "      <td>[0.17041016, 0.004638672, 0.25810242]</td>\n",
       "      <td>[-23.14148, -19.537354, -24.35608]</td>\n",
       "      <td>[0.07057936, 0.014525489, -0.8652526]</td>\n",
       "      <td>F4</td>\n",
       "    </tr>\n",
       "  </tbody>\n",
       "</table>\n",
       "</div>"
      ],
      "text/plain": [
       "                                  acce                                   gyro  \\\n",
       "0  [-1.4918823, 0.34014893, 10.652069]   [0.2646942, -0.29737854, 0.27461243]   \n",
       "1   [-1.5619049, 0.4065857, 10.006226]   [0.2641449, -0.27552795, 0.22401428]   \n",
       "2    [-1.6876068, 0.5298767, 9.641113]   [0.2055664, -0.17752075, 0.21813965]   \n",
       "3    [-1.6343384, 0.6310425, 9.501663]  [0.15975952, -0.05343628, 0.24797058]   \n",
       "4    [-1.5900421, 0.7214203, 9.437012]  [0.17041016, 0.004638672, 0.25810242]   \n",
       "\n",
       "                                   magn  \\\n",
       "0    [-23.14148, -18.16864, -23.690796]   \n",
       "1  [-25.195312, -19.537354, -25.686646]   \n",
       "2   [-25.195312, -17.48352, -25.686646]   \n",
       "3    [-23.14148, -17.48352, -23.690796]   \n",
       "4    [-23.14148, -19.537354, -24.35608]   \n",
       "\n",
       "                                      ahrs floor  \n",
       "0   [0.06200746, 0.026087942, -0.87248856]    F4  \n",
       "1    [0.06252557, 0.021754283, -0.8709258]    F4  \n",
       "2  [0.067413874, 0.016335025, -0.86725426]    F4  \n",
       "3  [0.067413874, 0.016335025, -0.86725426]    F4  \n",
       "4    [0.07057936, 0.014525489, -0.8652526]    F4  "
      ]
     },
     "execution_count": 15,
     "metadata": {},
     "output_type": "execute_result"
    }
   ],
   "source": [
    "data_combined.head()"
   ]
  },
  {
   "cell_type": "code",
   "execution_count": 16,
   "metadata": {
    "scrolled": false
   },
   "outputs": [
    {
     "data": {
      "text/plain": [
       "['F2', 'F4', 'B1', 'F1', 'F3']"
      ]
     },
     "execution_count": 16,
     "metadata": {},
     "output_type": "execute_result"
    }
   ],
   "source": [
    "list(data_combined.floor.value_counts().keys())"
   ]
  },
  {
   "cell_type": "code",
   "execution_count": 17,
   "metadata": {},
   "outputs": [],
   "source": [
    "data_combined_copy = data_combined.copy()\n",
    "data_combined_copy.replace({\"floor\":{'F2':1, 'F4':3, 'B1':-1, 'F1':0, 'F3':2}}, inplace=True)"
   ]
  },
  {
   "cell_type": "code",
   "execution_count": 18,
   "metadata": {},
   "outputs": [
    {
     "data": {
      "text/html": [
       "<div>\n",
       "<style scoped>\n",
       "    .dataframe tbody tr th:only-of-type {\n",
       "        vertical-align: middle;\n",
       "    }\n",
       "\n",
       "    .dataframe tbody tr th {\n",
       "        vertical-align: top;\n",
       "    }\n",
       "\n",
       "    .dataframe thead th {\n",
       "        text-align: right;\n",
       "    }\n",
       "</style>\n",
       "<table border=\"1\" class=\"dataframe\">\n",
       "  <thead>\n",
       "    <tr style=\"text-align: right;\">\n",
       "      <th></th>\n",
       "      <th>acce</th>\n",
       "      <th>gyro</th>\n",
       "      <th>magn</th>\n",
       "      <th>ahrs</th>\n",
       "      <th>floor</th>\n",
       "    </tr>\n",
       "  </thead>\n",
       "  <tbody>\n",
       "    <tr>\n",
       "      <th>0</th>\n",
       "      <td>[-1.4918823, 0.34014893, 10.652069]</td>\n",
       "      <td>[0.2646942, -0.29737854, 0.27461243]</td>\n",
       "      <td>[-23.14148, -18.16864, -23.690796]</td>\n",
       "      <td>[0.06200746, 0.026087942, -0.87248856]</td>\n",
       "      <td>3</td>\n",
       "    </tr>\n",
       "    <tr>\n",
       "      <th>1</th>\n",
       "      <td>[-1.5619049, 0.4065857, 10.006226]</td>\n",
       "      <td>[0.2641449, -0.27552795, 0.22401428]</td>\n",
       "      <td>[-25.195312, -19.537354, -25.686646]</td>\n",
       "      <td>[0.06252557, 0.021754283, -0.8709258]</td>\n",
       "      <td>3</td>\n",
       "    </tr>\n",
       "    <tr>\n",
       "      <th>2</th>\n",
       "      <td>[-1.6876068, 0.5298767, 9.641113]</td>\n",
       "      <td>[0.2055664, -0.17752075, 0.21813965]</td>\n",
       "      <td>[-25.195312, -17.48352, -25.686646]</td>\n",
       "      <td>[0.067413874, 0.016335025, -0.86725426]</td>\n",
       "      <td>3</td>\n",
       "    </tr>\n",
       "    <tr>\n",
       "      <th>3</th>\n",
       "      <td>[-1.6343384, 0.6310425, 9.501663]</td>\n",
       "      <td>[0.15975952, -0.05343628, 0.24797058]</td>\n",
       "      <td>[-23.14148, -17.48352, -23.690796]</td>\n",
       "      <td>[0.067413874, 0.016335025, -0.86725426]</td>\n",
       "      <td>3</td>\n",
       "    </tr>\n",
       "    <tr>\n",
       "      <th>4</th>\n",
       "      <td>[-1.5900421, 0.7214203, 9.437012]</td>\n",
       "      <td>[0.17041016, 0.004638672, 0.25810242]</td>\n",
       "      <td>[-23.14148, -19.537354, -24.35608]</td>\n",
       "      <td>[0.07057936, 0.014525489, -0.8652526]</td>\n",
       "      <td>3</td>\n",
       "    </tr>\n",
       "  </tbody>\n",
       "</table>\n",
       "</div>"
      ],
      "text/plain": [
       "                                  acce                                   gyro  \\\n",
       "0  [-1.4918823, 0.34014893, 10.652069]   [0.2646942, -0.29737854, 0.27461243]   \n",
       "1   [-1.5619049, 0.4065857, 10.006226]   [0.2641449, -0.27552795, 0.22401428]   \n",
       "2    [-1.6876068, 0.5298767, 9.641113]   [0.2055664, -0.17752075, 0.21813965]   \n",
       "3    [-1.6343384, 0.6310425, 9.501663]  [0.15975952, -0.05343628, 0.24797058]   \n",
       "4    [-1.5900421, 0.7214203, 9.437012]  [0.17041016, 0.004638672, 0.25810242]   \n",
       "\n",
       "                                   magn  \\\n",
       "0    [-23.14148, -18.16864, -23.690796]   \n",
       "1  [-25.195312, -19.537354, -25.686646]   \n",
       "2   [-25.195312, -17.48352, -25.686646]   \n",
       "3    [-23.14148, -17.48352, -23.690796]   \n",
       "4    [-23.14148, -19.537354, -24.35608]   \n",
       "\n",
       "                                      ahrs  floor  \n",
       "0   [0.06200746, 0.026087942, -0.87248856]      3  \n",
       "1    [0.06252557, 0.021754283, -0.8709258]      3  \n",
       "2  [0.067413874, 0.016335025, -0.86725426]      3  \n",
       "3  [0.067413874, 0.016335025, -0.86725426]      3  \n",
       "4    [0.07057936, 0.014525489, -0.8652526]      3  "
      ]
     },
     "execution_count": 18,
     "metadata": {},
     "output_type": "execute_result"
    }
   ],
   "source": [
    "data_combined_copy.head()"
   ]
  },
  {
   "cell_type": "code",
   "execution_count": 98,
   "metadata": {},
   "outputs": [],
   "source": [
    "# data_combined_copy = pd.get_dummies(data_combined, columns=[\"floor\"], prefix=[\"floor\"])"
   ]
  },
  {
   "cell_type": "code",
   "execution_count": 17,
   "metadata": {},
   "outputs": [],
   "source": [
    "data_combined_copy.acce = data_combined_copy.acce.apply(lambda x: x/np.sqrt((x**2).sum()))\n",
    "data_combined_copy.gyro = data_combined_copy.gyro.apply(lambda x: x/np.sqrt((x**2).sum()))\n",
    "data_combined_copy.magn = data_combined_copy.magn.apply(lambda x: x/np.sqrt((x**2).sum()))\n",
    "data_combined_copy.ahrs = data_combined_copy.ahrs.apply(lambda x: x/np.sqrt((x**2).sum()))\n",
    "# data_combined_copy[['acce','gyro','magn','ahrs']] = data_combined_copy[['acce','gyro','magn','ahrs']].apply(lambda x: x/np.sqrt((x**2).sum()))"
   ]
  },
  {
   "cell_type": "code",
   "execution_count": 18,
   "metadata": {},
   "outputs": [
    {
     "data": {
      "text/plain": [
       "(1019140, 5)"
      ]
     },
     "execution_count": 18,
     "metadata": {},
     "output_type": "execute_result"
    }
   ],
   "source": [
    "data_combined_copy.shape"
   ]
  },
  {
   "cell_type": "code",
   "execution_count": 88,
   "metadata": {
    "scrolled": false
   },
   "outputs": [
    {
     "name": "stdout",
     "output_type": "stream",
     "text": [
      "Collecting layers\n",
      "  Downloading layers-0.1.5.tar.gz (5.5 kB)\n",
      "Requirement already satisfied: PyYaml in /Users/anooshhari/opt/anaconda3/lib/python3.8/site-packages (from layers) (5.3.1)\n",
      "Collecting bashutils\n",
      "  Downloading Bashutils-0.0.4.tar.gz (4.2 kB)\n",
      "Building wheels for collected packages: layers, bashutils\n",
      "  Building wheel for layers (setup.py) ... \u001b[?25ldone\n",
      "\u001b[?25h  Created wheel for layers: filename=layers-0.1.5-py3-none-any.whl size=5378 sha256=f060d205eb6c5116ae73638eb33ea4253cf7aaebc8cfb4f28878b4ea7b8f6e9d\n",
      "  Stored in directory: /Users/anooshhari/Library/Caches/pip/wheels/1e/ab/25/39853b8da8d6de047d8f82044a317d8f1042adedd4fbca7a1b\n",
      "  Building wheel for bashutils (setup.py) ... \u001b[?25ldone\n",
      "\u001b[?25h  Created wheel for bashutils: filename=Bashutils-0.0.4-py3-none-any.whl size=5472 sha256=da5304b96aaf93bf3b87e179eca1d007e2277e6eafc8e95731a926c97c87bd50\n",
      "  Stored in directory: /Users/anooshhari/Library/Caches/pip/wheels/d3/8c/b6/84627055e4d7e483978e767c370b1c501d3bc4c60bac616bbf\n",
      "Successfully built layers bashutils\n",
      "Installing collected packages: bashutils, layers\n",
      "Successfully installed bashutils-0.0.4 layers-0.1.5\n"
     ]
    }
   ],
   "source": [
    "# !pip install keras\n",
    "# !pip install tensorflow\n",
    "# !pip install layers"
   ]
  },
  {
   "cell_type": "code",
   "execution_count": 19,
   "metadata": {},
   "outputs": [],
   "source": [
    "import keras\n",
    "from keras import layers\n",
    "from sklearn.model_selection import train_test_split\n",
    "import tensorflow as tf"
   ]
  },
  {
   "cell_type": "code",
   "execution_count": 20,
   "metadata": {},
   "outputs": [],
   "source": [
    "train, test = train_test_split(data_combined_copy, test_size=0.4)"
   ]
  },
  {
   "cell_type": "code",
   "execution_count": 21,
   "metadata": {},
   "outputs": [
    {
     "name": "stdout",
     "output_type": "stream",
     "text": [
      "(611484, 5)\n",
      "(407656, 5)\n"
     ]
    }
   ],
   "source": [
    "print(train.shape)\n",
    "print(test.shape)"
   ]
  },
  {
   "cell_type": "code",
   "execution_count": 109,
   "metadata": {},
   "outputs": [
    {
     "data": {
      "text/plain": [
       "array([0.75531089, 0.82786262, 0.40684179])"
      ]
     },
     "execution_count": 109,
     "metadata": {},
     "output_type": "execute_result"
    }
   ],
   "source": [
    "np.random.uniform(0,1, 3)"
   ]
  },
  {
   "cell_type": "code",
   "execution_count": 79,
   "metadata": {},
   "outputs": [],
   "source": [
    "# df = pd.DataFrame()\n",
    "# df['tfidf'] = [[np.random.uniform(0,1, 3)],\n",
    "#               [np.random.uniform(0,1, 3)],\n",
    "#               [np.random.uniform(0,1, 3)],\n",
    "#               [np.random.uniform(0,1, 3)]]\n",
    "# df['is_similar'] = np.random.randint(0,2, 4)"
   ]
  },
  {
   "cell_type": "code",
   "execution_count": 22,
   "metadata": {
    "scrolled": false
   },
   "outputs": [
    {
     "ename": "ValueError",
     "evalue": "Failed to convert a NumPy array to a Tensor (Unsupported object type numpy.ndarray).",
     "output_type": "error",
     "traceback": [
      "\u001b[0;31m---------------------------------------------------------------------------\u001b[0m",
      "\u001b[0;31mValueError\u001b[0m                                Traceback (most recent call last)",
      "\u001b[0;32m<ipython-input-22-089c77e40d20>\u001b[0m in \u001b[0;36m<module>\u001b[0;34m\u001b[0m\n\u001b[0;32m----> 1\u001b[0;31m \u001b[0mdataset\u001b[0m \u001b[0;34m=\u001b[0m \u001b[0mtf\u001b[0m\u001b[0;34m.\u001b[0m\u001b[0mdata\u001b[0m\u001b[0;34m.\u001b[0m\u001b[0mDataset\u001b[0m\u001b[0;34m.\u001b[0m\u001b[0mfrom_tensor_slices\u001b[0m\u001b[0;34m(\u001b[0m\u001b[0;34m(\u001b[0m\u001b[0mtrain\u001b[0m\u001b[0;34m[\u001b[0m\u001b[0;34m[\u001b[0m\u001b[0;34m'acce'\u001b[0m\u001b[0;34m,\u001b[0m\u001b[0;34m'gyro'\u001b[0m\u001b[0;34m,\u001b[0m\u001b[0;34m'magn'\u001b[0m\u001b[0;34m,\u001b[0m\u001b[0;34m'ahrs'\u001b[0m\u001b[0;34m]\u001b[0m\u001b[0;34m]\u001b[0m\u001b[0;34m.\u001b[0m\u001b[0mvalues\u001b[0m\u001b[0;34m,\u001b[0m \u001b[0mtrain\u001b[0m\u001b[0;34m.\u001b[0m\u001b[0mfloor\u001b[0m\u001b[0;34m.\u001b[0m\u001b[0mvalues\u001b[0m\u001b[0;34m)\u001b[0m\u001b[0;34m)\u001b[0m\u001b[0;34m\u001b[0m\u001b[0;34m\u001b[0m\u001b[0m\n\u001b[0m",
      "\u001b[0;32m~/opt/anaconda3/lib/python3.8/site-packages/tensorflow/python/data/ops/dataset_ops.py\u001b[0m in \u001b[0;36mfrom_tensor_slices\u001b[0;34m(tensors)\u001b[0m\n\u001b[1;32m    689\u001b[0m       \u001b[0mDataset\u001b[0m\u001b[0;34m:\u001b[0m \u001b[0mA\u001b[0m\u001b[0;31m \u001b[0m\u001b[0;31m`\u001b[0m\u001b[0mDataset\u001b[0m\u001b[0;31m`\u001b[0m\u001b[0;34m.\u001b[0m\u001b[0;34m\u001b[0m\u001b[0;34m\u001b[0m\u001b[0m\n\u001b[1;32m    690\u001b[0m     \"\"\"\n\u001b[0;32m--> 691\u001b[0;31m     \u001b[0;32mreturn\u001b[0m \u001b[0mTensorSliceDataset\u001b[0m\u001b[0;34m(\u001b[0m\u001b[0mtensors\u001b[0m\u001b[0;34m)\u001b[0m\u001b[0;34m\u001b[0m\u001b[0;34m\u001b[0m\u001b[0m\n\u001b[0m\u001b[1;32m    692\u001b[0m \u001b[0;34m\u001b[0m\u001b[0m\n\u001b[1;32m    693\u001b[0m   \u001b[0;32mclass\u001b[0m \u001b[0m_GeneratorState\u001b[0m\u001b[0;34m(\u001b[0m\u001b[0mobject\u001b[0m\u001b[0;34m)\u001b[0m\u001b[0;34m:\u001b[0m\u001b[0;34m\u001b[0m\u001b[0;34m\u001b[0m\u001b[0m\n",
      "\u001b[0;32m~/opt/anaconda3/lib/python3.8/site-packages/tensorflow/python/data/ops/dataset_ops.py\u001b[0m in \u001b[0;36m__init__\u001b[0;34m(self, element)\u001b[0m\n\u001b[1;32m   3153\u001b[0m   \u001b[0;32mdef\u001b[0m \u001b[0m__init__\u001b[0m\u001b[0;34m(\u001b[0m\u001b[0mself\u001b[0m\u001b[0;34m,\u001b[0m \u001b[0melement\u001b[0m\u001b[0;34m)\u001b[0m\u001b[0;34m:\u001b[0m\u001b[0;34m\u001b[0m\u001b[0;34m\u001b[0m\u001b[0m\n\u001b[1;32m   3154\u001b[0m     \u001b[0;34m\"\"\"See `Dataset.from_tensor_slices()` for details.\"\"\"\u001b[0m\u001b[0;34m\u001b[0m\u001b[0;34m\u001b[0m\u001b[0m\n\u001b[0;32m-> 3155\u001b[0;31m     \u001b[0melement\u001b[0m \u001b[0;34m=\u001b[0m \u001b[0mstructure\u001b[0m\u001b[0;34m.\u001b[0m\u001b[0mnormalize_element\u001b[0m\u001b[0;34m(\u001b[0m\u001b[0melement\u001b[0m\u001b[0;34m)\u001b[0m\u001b[0;34m\u001b[0m\u001b[0;34m\u001b[0m\u001b[0m\n\u001b[0m\u001b[1;32m   3156\u001b[0m     \u001b[0mbatched_spec\u001b[0m \u001b[0;34m=\u001b[0m \u001b[0mstructure\u001b[0m\u001b[0;34m.\u001b[0m\u001b[0mtype_spec_from_value\u001b[0m\u001b[0;34m(\u001b[0m\u001b[0melement\u001b[0m\u001b[0;34m)\u001b[0m\u001b[0;34m\u001b[0m\u001b[0;34m\u001b[0m\u001b[0m\n\u001b[1;32m   3157\u001b[0m     \u001b[0mself\u001b[0m\u001b[0;34m.\u001b[0m\u001b[0m_tensors\u001b[0m \u001b[0;34m=\u001b[0m \u001b[0mstructure\u001b[0m\u001b[0;34m.\u001b[0m\u001b[0mto_batched_tensor_list\u001b[0m\u001b[0;34m(\u001b[0m\u001b[0mbatched_spec\u001b[0m\u001b[0;34m,\u001b[0m \u001b[0melement\u001b[0m\u001b[0;34m)\u001b[0m\u001b[0;34m\u001b[0m\u001b[0;34m\u001b[0m\u001b[0m\n",
      "\u001b[0;32m~/opt/anaconda3/lib/python3.8/site-packages/tensorflow/python/data/util/structure.py\u001b[0m in \u001b[0;36mnormalize_element\u001b[0;34m(element, element_signature)\u001b[0m\n\u001b[1;32m    127\u001b[0m           \u001b[0mdtype\u001b[0m \u001b[0;34m=\u001b[0m \u001b[0mgetattr\u001b[0m\u001b[0;34m(\u001b[0m\u001b[0mspec\u001b[0m\u001b[0;34m,\u001b[0m \u001b[0;34m\"dtype\"\u001b[0m\u001b[0;34m,\u001b[0m \u001b[0;32mNone\u001b[0m\u001b[0;34m)\u001b[0m\u001b[0;34m\u001b[0m\u001b[0;34m\u001b[0m\u001b[0m\n\u001b[1;32m    128\u001b[0m           normalized_components.append(\n\u001b[0;32m--> 129\u001b[0;31m               ops.convert_to_tensor(t, name=\"component_%d\" % i, dtype=dtype))\n\u001b[0m\u001b[1;32m    130\u001b[0m   \u001b[0;32mreturn\u001b[0m \u001b[0mnest\u001b[0m\u001b[0;34m.\u001b[0m\u001b[0mpack_sequence_as\u001b[0m\u001b[0;34m(\u001b[0m\u001b[0mpack_as\u001b[0m\u001b[0;34m,\u001b[0m \u001b[0mnormalized_components\u001b[0m\u001b[0;34m)\u001b[0m\u001b[0;34m\u001b[0m\u001b[0;34m\u001b[0m\u001b[0m\n\u001b[1;32m    131\u001b[0m \u001b[0;34m\u001b[0m\u001b[0m\n",
      "\u001b[0;32m~/opt/anaconda3/lib/python3.8/site-packages/tensorflow/python/profiler/trace.py\u001b[0m in \u001b[0;36mwrapped\u001b[0;34m(*args, **kwargs)\u001b[0m\n\u001b[1;32m    161\u001b[0m         \u001b[0;32mwith\u001b[0m \u001b[0mTrace\u001b[0m\u001b[0;34m(\u001b[0m\u001b[0mtrace_name\u001b[0m\u001b[0;34m,\u001b[0m \u001b[0;34m**\u001b[0m\u001b[0mtrace_kwargs\u001b[0m\u001b[0;34m)\u001b[0m\u001b[0;34m:\u001b[0m\u001b[0;34m\u001b[0m\u001b[0;34m\u001b[0m\u001b[0m\n\u001b[1;32m    162\u001b[0m           \u001b[0;32mreturn\u001b[0m \u001b[0mfunc\u001b[0m\u001b[0;34m(\u001b[0m\u001b[0;34m*\u001b[0m\u001b[0margs\u001b[0m\u001b[0;34m,\u001b[0m \u001b[0;34m**\u001b[0m\u001b[0mkwargs\u001b[0m\u001b[0;34m)\u001b[0m\u001b[0;34m\u001b[0m\u001b[0;34m\u001b[0m\u001b[0m\n\u001b[0;32m--> 163\u001b[0;31m       \u001b[0;32mreturn\u001b[0m \u001b[0mfunc\u001b[0m\u001b[0;34m(\u001b[0m\u001b[0;34m*\u001b[0m\u001b[0margs\u001b[0m\u001b[0;34m,\u001b[0m \u001b[0;34m**\u001b[0m\u001b[0mkwargs\u001b[0m\u001b[0;34m)\u001b[0m\u001b[0;34m\u001b[0m\u001b[0;34m\u001b[0m\u001b[0m\n\u001b[0m\u001b[1;32m    164\u001b[0m \u001b[0;34m\u001b[0m\u001b[0m\n\u001b[1;32m    165\u001b[0m     \u001b[0;32mreturn\u001b[0m \u001b[0mwrapped\u001b[0m\u001b[0;34m\u001b[0m\u001b[0;34m\u001b[0m\u001b[0m\n",
      "\u001b[0;32m~/opt/anaconda3/lib/python3.8/site-packages/tensorflow/python/framework/ops.py\u001b[0m in \u001b[0;36mconvert_to_tensor\u001b[0;34m(value, dtype, name, as_ref, preferred_dtype, dtype_hint, ctx, accepted_result_types)\u001b[0m\n\u001b[1;32m   1538\u001b[0m \u001b[0;34m\u001b[0m\u001b[0m\n\u001b[1;32m   1539\u001b[0m     \u001b[0;32mif\u001b[0m \u001b[0mret\u001b[0m \u001b[0;32mis\u001b[0m \u001b[0;32mNone\u001b[0m\u001b[0;34m:\u001b[0m\u001b[0;34m\u001b[0m\u001b[0;34m\u001b[0m\u001b[0m\n\u001b[0;32m-> 1540\u001b[0;31m       \u001b[0mret\u001b[0m \u001b[0;34m=\u001b[0m \u001b[0mconversion_func\u001b[0m\u001b[0;34m(\u001b[0m\u001b[0mvalue\u001b[0m\u001b[0;34m,\u001b[0m \u001b[0mdtype\u001b[0m\u001b[0;34m=\u001b[0m\u001b[0mdtype\u001b[0m\u001b[0;34m,\u001b[0m \u001b[0mname\u001b[0m\u001b[0;34m=\u001b[0m\u001b[0mname\u001b[0m\u001b[0;34m,\u001b[0m \u001b[0mas_ref\u001b[0m\u001b[0;34m=\u001b[0m\u001b[0mas_ref\u001b[0m\u001b[0;34m)\u001b[0m\u001b[0;34m\u001b[0m\u001b[0;34m\u001b[0m\u001b[0m\n\u001b[0m\u001b[1;32m   1541\u001b[0m \u001b[0;34m\u001b[0m\u001b[0m\n\u001b[1;32m   1542\u001b[0m     \u001b[0;32mif\u001b[0m \u001b[0mret\u001b[0m \u001b[0;32mis\u001b[0m \u001b[0mNotImplemented\u001b[0m\u001b[0;34m:\u001b[0m\u001b[0;34m\u001b[0m\u001b[0;34m\u001b[0m\u001b[0m\n",
      "\u001b[0;32m~/opt/anaconda3/lib/python3.8/site-packages/tensorflow/python/framework/tensor_conversion_registry.py\u001b[0m in \u001b[0;36m_default_conversion_function\u001b[0;34m(***failed resolving arguments***)\u001b[0m\n\u001b[1;32m     50\u001b[0m \u001b[0;32mdef\u001b[0m \u001b[0m_default_conversion_function\u001b[0m\u001b[0;34m(\u001b[0m\u001b[0mvalue\u001b[0m\u001b[0;34m,\u001b[0m \u001b[0mdtype\u001b[0m\u001b[0;34m,\u001b[0m \u001b[0mname\u001b[0m\u001b[0;34m,\u001b[0m \u001b[0mas_ref\u001b[0m\u001b[0;34m)\u001b[0m\u001b[0;34m:\u001b[0m\u001b[0;34m\u001b[0m\u001b[0;34m\u001b[0m\u001b[0m\n\u001b[1;32m     51\u001b[0m   \u001b[0;32mdel\u001b[0m \u001b[0mas_ref\u001b[0m  \u001b[0;31m# Unused.\u001b[0m\u001b[0;34m\u001b[0m\u001b[0;34m\u001b[0m\u001b[0m\n\u001b[0;32m---> 52\u001b[0;31m   \u001b[0;32mreturn\u001b[0m \u001b[0mconstant_op\u001b[0m\u001b[0;34m.\u001b[0m\u001b[0mconstant\u001b[0m\u001b[0;34m(\u001b[0m\u001b[0mvalue\u001b[0m\u001b[0;34m,\u001b[0m \u001b[0mdtype\u001b[0m\u001b[0;34m,\u001b[0m \u001b[0mname\u001b[0m\u001b[0;34m=\u001b[0m\u001b[0mname\u001b[0m\u001b[0;34m)\u001b[0m\u001b[0;34m\u001b[0m\u001b[0;34m\u001b[0m\u001b[0m\n\u001b[0m\u001b[1;32m     53\u001b[0m \u001b[0;34m\u001b[0m\u001b[0m\n\u001b[1;32m     54\u001b[0m \u001b[0;34m\u001b[0m\u001b[0m\n",
      "\u001b[0;32m~/opt/anaconda3/lib/python3.8/site-packages/tensorflow/python/framework/constant_op.py\u001b[0m in \u001b[0;36mconstant\u001b[0;34m(value, dtype, shape, name)\u001b[0m\n\u001b[1;32m    262\u001b[0m     \u001b[0mValueError\u001b[0m\u001b[0;34m:\u001b[0m \u001b[0;32mif\u001b[0m \u001b[0mcalled\u001b[0m \u001b[0mon\u001b[0m \u001b[0ma\u001b[0m \u001b[0msymbolic\u001b[0m \u001b[0mtensor\u001b[0m\u001b[0;34m.\u001b[0m\u001b[0;34m\u001b[0m\u001b[0;34m\u001b[0m\u001b[0m\n\u001b[1;32m    263\u001b[0m   \"\"\"\n\u001b[0;32m--> 264\u001b[0;31m   return _constant_impl(value, dtype, shape, name, verify_shape=False,\n\u001b[0m\u001b[1;32m    265\u001b[0m                         allow_broadcast=True)\n\u001b[1;32m    266\u001b[0m \u001b[0;34m\u001b[0m\u001b[0m\n",
      "\u001b[0;32m~/opt/anaconda3/lib/python3.8/site-packages/tensorflow/python/framework/constant_op.py\u001b[0m in \u001b[0;36m_constant_impl\u001b[0;34m(value, dtype, shape, name, verify_shape, allow_broadcast)\u001b[0m\n\u001b[1;32m    274\u001b[0m       \u001b[0;32mwith\u001b[0m \u001b[0mtrace\u001b[0m\u001b[0;34m.\u001b[0m\u001b[0mTrace\u001b[0m\u001b[0;34m(\u001b[0m\u001b[0;34m\"tf.constant\"\u001b[0m\u001b[0;34m)\u001b[0m\u001b[0;34m:\u001b[0m\u001b[0;34m\u001b[0m\u001b[0;34m\u001b[0m\u001b[0m\n\u001b[1;32m    275\u001b[0m         \u001b[0;32mreturn\u001b[0m \u001b[0m_constant_eager_impl\u001b[0m\u001b[0;34m(\u001b[0m\u001b[0mctx\u001b[0m\u001b[0;34m,\u001b[0m \u001b[0mvalue\u001b[0m\u001b[0;34m,\u001b[0m \u001b[0mdtype\u001b[0m\u001b[0;34m,\u001b[0m \u001b[0mshape\u001b[0m\u001b[0;34m,\u001b[0m \u001b[0mverify_shape\u001b[0m\u001b[0;34m)\u001b[0m\u001b[0;34m\u001b[0m\u001b[0;34m\u001b[0m\u001b[0m\n\u001b[0;32m--> 276\u001b[0;31m     \u001b[0;32mreturn\u001b[0m \u001b[0m_constant_eager_impl\u001b[0m\u001b[0;34m(\u001b[0m\u001b[0mctx\u001b[0m\u001b[0;34m,\u001b[0m \u001b[0mvalue\u001b[0m\u001b[0;34m,\u001b[0m \u001b[0mdtype\u001b[0m\u001b[0;34m,\u001b[0m \u001b[0mshape\u001b[0m\u001b[0;34m,\u001b[0m \u001b[0mverify_shape\u001b[0m\u001b[0;34m)\u001b[0m\u001b[0;34m\u001b[0m\u001b[0;34m\u001b[0m\u001b[0m\n\u001b[0m\u001b[1;32m    277\u001b[0m \u001b[0;34m\u001b[0m\u001b[0m\n\u001b[1;32m    278\u001b[0m   \u001b[0mg\u001b[0m \u001b[0;34m=\u001b[0m \u001b[0mops\u001b[0m\u001b[0;34m.\u001b[0m\u001b[0mget_default_graph\u001b[0m\u001b[0;34m(\u001b[0m\u001b[0;34m)\u001b[0m\u001b[0;34m\u001b[0m\u001b[0;34m\u001b[0m\u001b[0m\n",
      "\u001b[0;32m~/opt/anaconda3/lib/python3.8/site-packages/tensorflow/python/framework/constant_op.py\u001b[0m in \u001b[0;36m_constant_eager_impl\u001b[0;34m(ctx, value, dtype, shape, verify_shape)\u001b[0m\n\u001b[1;32m    299\u001b[0m \u001b[0;32mdef\u001b[0m \u001b[0m_constant_eager_impl\u001b[0m\u001b[0;34m(\u001b[0m\u001b[0mctx\u001b[0m\u001b[0;34m,\u001b[0m \u001b[0mvalue\u001b[0m\u001b[0;34m,\u001b[0m \u001b[0mdtype\u001b[0m\u001b[0;34m,\u001b[0m \u001b[0mshape\u001b[0m\u001b[0;34m,\u001b[0m \u001b[0mverify_shape\u001b[0m\u001b[0;34m)\u001b[0m\u001b[0;34m:\u001b[0m\u001b[0;34m\u001b[0m\u001b[0;34m\u001b[0m\u001b[0m\n\u001b[1;32m    300\u001b[0m   \u001b[0;34m\"\"\"Implementation of eager constant.\"\"\"\u001b[0m\u001b[0;34m\u001b[0m\u001b[0;34m\u001b[0m\u001b[0m\n\u001b[0;32m--> 301\u001b[0;31m   \u001b[0mt\u001b[0m \u001b[0;34m=\u001b[0m \u001b[0mconvert_to_eager_tensor\u001b[0m\u001b[0;34m(\u001b[0m\u001b[0mvalue\u001b[0m\u001b[0;34m,\u001b[0m \u001b[0mctx\u001b[0m\u001b[0;34m,\u001b[0m \u001b[0mdtype\u001b[0m\u001b[0;34m)\u001b[0m\u001b[0;34m\u001b[0m\u001b[0;34m\u001b[0m\u001b[0m\n\u001b[0m\u001b[1;32m    302\u001b[0m   \u001b[0;32mif\u001b[0m \u001b[0mshape\u001b[0m \u001b[0;32mis\u001b[0m \u001b[0;32mNone\u001b[0m\u001b[0;34m:\u001b[0m\u001b[0;34m\u001b[0m\u001b[0;34m\u001b[0m\u001b[0m\n\u001b[1;32m    303\u001b[0m     \u001b[0;32mreturn\u001b[0m \u001b[0mt\u001b[0m\u001b[0;34m\u001b[0m\u001b[0;34m\u001b[0m\u001b[0m\n",
      "\u001b[0;32m~/opt/anaconda3/lib/python3.8/site-packages/tensorflow/python/framework/constant_op.py\u001b[0m in \u001b[0;36mconvert_to_eager_tensor\u001b[0;34m(value, ctx, dtype)\u001b[0m\n\u001b[1;32m     96\u001b[0m       \u001b[0mdtype\u001b[0m \u001b[0;34m=\u001b[0m \u001b[0mdtypes\u001b[0m\u001b[0;34m.\u001b[0m\u001b[0mas_dtype\u001b[0m\u001b[0;34m(\u001b[0m\u001b[0mdtype\u001b[0m\u001b[0;34m)\u001b[0m\u001b[0;34m.\u001b[0m\u001b[0mas_datatype_enum\u001b[0m\u001b[0;34m\u001b[0m\u001b[0;34m\u001b[0m\u001b[0m\n\u001b[1;32m     97\u001b[0m   \u001b[0mctx\u001b[0m\u001b[0;34m.\u001b[0m\u001b[0mensure_initialized\u001b[0m\u001b[0;34m(\u001b[0m\u001b[0;34m)\u001b[0m\u001b[0;34m\u001b[0m\u001b[0;34m\u001b[0m\u001b[0m\n\u001b[0;32m---> 98\u001b[0;31m   \u001b[0;32mreturn\u001b[0m \u001b[0mops\u001b[0m\u001b[0;34m.\u001b[0m\u001b[0mEagerTensor\u001b[0m\u001b[0;34m(\u001b[0m\u001b[0mvalue\u001b[0m\u001b[0;34m,\u001b[0m \u001b[0mctx\u001b[0m\u001b[0;34m.\u001b[0m\u001b[0mdevice_name\u001b[0m\u001b[0;34m,\u001b[0m \u001b[0mdtype\u001b[0m\u001b[0;34m)\u001b[0m\u001b[0;34m\u001b[0m\u001b[0;34m\u001b[0m\u001b[0m\n\u001b[0m\u001b[1;32m     99\u001b[0m \u001b[0;34m\u001b[0m\u001b[0m\n\u001b[1;32m    100\u001b[0m \u001b[0;34m\u001b[0m\u001b[0m\n",
      "\u001b[0;31mValueError\u001b[0m: Failed to convert a NumPy array to a Tensor (Unsupported object type numpy.ndarray)."
     ]
    }
   ],
   "source": [
    "dataset = tf.data.Dataset.from_tensor_slices((train[['acce','gyro','magn','ahrs']].values, train.floor.values))"
   ]
  },
  {
   "cell_type": "code",
   "execution_count": 23,
   "metadata": {},
   "outputs": [],
   "source": [
    "data_combined_junk = data_combined_copy.copy()"
   ]
  },
  {
   "cell_type": "code",
   "execution_count": 24,
   "metadata": {},
   "outputs": [],
   "source": [
    "data_combined_junk[['acce_x','acce_y','acce_z']] = pd.DataFrame(data_combined_junk.acce.tolist(), index= data_combined_junk.index)"
   ]
  },
  {
   "cell_type": "code",
   "execution_count": 25,
   "metadata": {},
   "outputs": [],
   "source": [
    "data_combined_junk[['gyro_x','gyro_y','gyro_z']] = pd.DataFrame(data_combined_junk.gyro.tolist(), index= data_combined_junk.index)"
   ]
  },
  {
   "cell_type": "code",
   "execution_count": 26,
   "metadata": {},
   "outputs": [],
   "source": [
    "data_combined_junk[['magn_x','magn_y','magn_z']] = pd.DataFrame(data_combined_junk.magn.tolist(), index= data_combined_junk.index)"
   ]
  },
  {
   "cell_type": "code",
   "execution_count": 27,
   "metadata": {},
   "outputs": [],
   "source": [
    "data_combined_junk[['ahrs_x','ahrs_y','ahrs_z']] = pd.DataFrame(data_combined_junk.ahrs.tolist(), index= data_combined_junk.index)"
   ]
  },
  {
   "cell_type": "code",
   "execution_count": 28,
   "metadata": {},
   "outputs": [
    {
     "data": {
      "text/html": [
       "<div>\n",
       "<style scoped>\n",
       "    .dataframe tbody tr th:only-of-type {\n",
       "        vertical-align: middle;\n",
       "    }\n",
       "\n",
       "    .dataframe tbody tr th {\n",
       "        vertical-align: top;\n",
       "    }\n",
       "\n",
       "    .dataframe thead th {\n",
       "        text-align: right;\n",
       "    }\n",
       "</style>\n",
       "<table border=\"1\" class=\"dataframe\">\n",
       "  <thead>\n",
       "    <tr style=\"text-align: right;\">\n",
       "      <th></th>\n",
       "      <th>acce</th>\n",
       "      <th>gyro</th>\n",
       "      <th>magn</th>\n",
       "      <th>ahrs</th>\n",
       "      <th>floor</th>\n",
       "      <th>acce_x</th>\n",
       "      <th>acce_y</th>\n",
       "      <th>acce_z</th>\n",
       "      <th>gyro_x</th>\n",
       "      <th>gyro_y</th>\n",
       "      <th>gyro_z</th>\n",
       "      <th>magn_x</th>\n",
       "      <th>magn_y</th>\n",
       "      <th>magn_z</th>\n",
       "      <th>ahrs_x</th>\n",
       "      <th>ahrs_y</th>\n",
       "      <th>ahrs_z</th>\n",
       "    </tr>\n",
       "  </thead>\n",
       "  <tbody>\n",
       "    <tr>\n",
       "      <th>0</th>\n",
       "      <td>[-0.13863257916705385, 0.031608206268559966, 0...</td>\n",
       "      <td>[0.5472943401009259, -0.6148740388322708, 0.56...</td>\n",
       "      <td>[-0.6126284955170183, -0.48098162212573775, -0...</td>\n",
       "      <td>[0.07085933868485227, 0.029812127730579226, -0...</td>\n",
       "      <td>3</td>\n",
       "      <td>-0.138633</td>\n",
       "      <td>0.031608</td>\n",
       "      <td>0.989839</td>\n",
       "      <td>0.547294</td>\n",
       "      <td>-0.614874</td>\n",
       "      <td>0.567802</td>\n",
       "      <td>-0.612628</td>\n",
       "      <td>-0.480982</td>\n",
       "      <td>-0.627171</td>\n",
       "      <td>0.070859</td>\n",
       "      <td>0.029812</td>\n",
       "      <td>-0.997041</td>\n",
       "    </tr>\n",
       "    <tr>\n",
       "      <th>1</th>\n",
       "      <td>[-0.15410160938133993, 0.040114805146868195, 0...</td>\n",
       "      <td>[0.5968395970749634, -0.6225597793517522, 0.50...</td>\n",
       "      <td>[-0.6153778079284228, -0.47718615579126794, -0...</td>\n",
       "      <td>[0.07158556108818988, 0.024906491130369073, -0...</td>\n",
       "      <td>3</td>\n",
       "      <td>-0.154102</td>\n",
       "      <td>0.040115</td>\n",
       "      <td>0.987240</td>\n",
       "      <td>0.596840</td>\n",
       "      <td>-0.622560</td>\n",
       "      <td>0.506164</td>\n",
       "      <td>-0.615378</td>\n",
       "      <td>-0.477186</td>\n",
       "      <td>-0.627378</td>\n",
       "      <td>0.071586</td>\n",
       "      <td>0.024906</td>\n",
       "      <td>-0.997123</td>\n",
       "    </tr>\n",
       "    <tr>\n",
       "      <th>2</th>\n",
       "      <td>[-0.17216906371743204, 0.05405783819114892, 0....</td>\n",
       "      <td>[0.5900942479658905, -0.5095870408276394, 0.62...</td>\n",
       "      <td>[-0.629827495485245, -0.43704962311505363, -0....</td>\n",
       "      <td>[0.0774850916657818, 0.018775377149929662, -0....</td>\n",
       "      <td>3</td>\n",
       "      <td>-0.172169</td>\n",
       "      <td>0.054058</td>\n",
       "      <td>0.983583</td>\n",
       "      <td>0.590094</td>\n",
       "      <td>-0.509587</td>\n",
       "      <td>0.626187</td>\n",
       "      <td>-0.629827</td>\n",
       "      <td>-0.437050</td>\n",
       "      <td>-0.642110</td>\n",
       "      <td>0.077485</td>\n",
       "      <td>0.018775</td>\n",
       "      <td>-0.996817</td>\n",
       "    </tr>\n",
       "    <tr>\n",
       "      <th>3</th>\n",
       "      <td>[-0.1691541998296951, 0.06531296648602905, 0.9...</td>\n",
       "      <td>[0.5329228385260293, -0.17825174999193594, 0.8...</td>\n",
       "      <td>[-0.6179404199141778, -0.46685750826558736, -0...</td>\n",
       "      <td>[0.0774850916657818, 0.018775377149929662, -0....</td>\n",
       "      <td>3</td>\n",
       "      <td>-0.169154</td>\n",
       "      <td>0.065313</td>\n",
       "      <td>0.983423</td>\n",
       "      <td>0.532923</td>\n",
       "      <td>-0.178252</td>\n",
       "      <td>0.827176</td>\n",
       "      <td>-0.617940</td>\n",
       "      <td>-0.466858</td>\n",
       "      <td>-0.632609</td>\n",
       "      <td>0.077485</td>\n",
       "      <td>0.018775</td>\n",
       "      <td>-0.996817</td>\n",
       "    </tr>\n",
       "    <tr>\n",
       "      <th>4</th>\n",
       "      <td>[-0.16567804195428087, 0.07517002394469298, 0....</td>\n",
       "      <td>[0.5509211456888481, 0.014996420945293288, 0.8...</td>\n",
       "      <td>[-0.5954389565421598, -0.5027034433128215, -0....</td>\n",
       "      <td>[0.08128940613484963, 0.01672965544924594, -0....</td>\n",
       "      <td>3</td>\n",
       "      <td>-0.165678</td>\n",
       "      <td>0.075170</td>\n",
       "      <td>0.983311</td>\n",
       "      <td>0.550921</td>\n",
       "      <td>0.014996</td>\n",
       "      <td>0.834423</td>\n",
       "      <td>-0.595439</td>\n",
       "      <td>-0.502703</td>\n",
       "      <td>-0.626691</td>\n",
       "      <td>0.081289</td>\n",
       "      <td>0.016730</td>\n",
       "      <td>-0.996550</td>\n",
       "    </tr>\n",
       "  </tbody>\n",
       "</table>\n",
       "</div>"
      ],
      "text/plain": [
       "                                                acce  \\\n",
       "0  [-0.13863257916705385, 0.031608206268559966, 0...   \n",
       "1  [-0.15410160938133993, 0.040114805146868195, 0...   \n",
       "2  [-0.17216906371743204, 0.05405783819114892, 0....   \n",
       "3  [-0.1691541998296951, 0.06531296648602905, 0.9...   \n",
       "4  [-0.16567804195428087, 0.07517002394469298, 0....   \n",
       "\n",
       "                                                gyro  \\\n",
       "0  [0.5472943401009259, -0.6148740388322708, 0.56...   \n",
       "1  [0.5968395970749634, -0.6225597793517522, 0.50...   \n",
       "2  [0.5900942479658905, -0.5095870408276394, 0.62...   \n",
       "3  [0.5329228385260293, -0.17825174999193594, 0.8...   \n",
       "4  [0.5509211456888481, 0.014996420945293288, 0.8...   \n",
       "\n",
       "                                                magn  \\\n",
       "0  [-0.6126284955170183, -0.48098162212573775, -0...   \n",
       "1  [-0.6153778079284228, -0.47718615579126794, -0...   \n",
       "2  [-0.629827495485245, -0.43704962311505363, -0....   \n",
       "3  [-0.6179404199141778, -0.46685750826558736, -0...   \n",
       "4  [-0.5954389565421598, -0.5027034433128215, -0....   \n",
       "\n",
       "                                                ahrs  floor    acce_x  \\\n",
       "0  [0.07085933868485227, 0.029812127730579226, -0...      3 -0.138633   \n",
       "1  [0.07158556108818988, 0.024906491130369073, -0...      3 -0.154102   \n",
       "2  [0.0774850916657818, 0.018775377149929662, -0....      3 -0.172169   \n",
       "3  [0.0774850916657818, 0.018775377149929662, -0....      3 -0.169154   \n",
       "4  [0.08128940613484963, 0.01672965544924594, -0....      3 -0.165678   \n",
       "\n",
       "     acce_y    acce_z    gyro_x    gyro_y    gyro_z    magn_x    magn_y  \\\n",
       "0  0.031608  0.989839  0.547294 -0.614874  0.567802 -0.612628 -0.480982   \n",
       "1  0.040115  0.987240  0.596840 -0.622560  0.506164 -0.615378 -0.477186   \n",
       "2  0.054058  0.983583  0.590094 -0.509587  0.626187 -0.629827 -0.437050   \n",
       "3  0.065313  0.983423  0.532923 -0.178252  0.827176 -0.617940 -0.466858   \n",
       "4  0.075170  0.983311  0.550921  0.014996  0.834423 -0.595439 -0.502703   \n",
       "\n",
       "     magn_z    ahrs_x    ahrs_y    ahrs_z  \n",
       "0 -0.627171  0.070859  0.029812 -0.997041  \n",
       "1 -0.627378  0.071586  0.024906 -0.997123  \n",
       "2 -0.642110  0.077485  0.018775 -0.996817  \n",
       "3 -0.632609  0.077485  0.018775 -0.996817  \n",
       "4 -0.626691  0.081289  0.016730 -0.996550  "
      ]
     },
     "execution_count": 28,
     "metadata": {},
     "output_type": "execute_result"
    }
   ],
   "source": [
    "data_combined_junk.head()"
   ]
  },
  {
   "cell_type": "code",
   "execution_count": 29,
   "metadata": {},
   "outputs": [],
   "source": [
    "data_combined_split = data_combined_junk[data_combined_junk.columns[4:]].copy()"
   ]
  },
  {
   "cell_type": "code",
   "execution_count": 30,
   "metadata": {},
   "outputs": [
    {
     "data": {
      "text/html": [
       "<div>\n",
       "<style scoped>\n",
       "    .dataframe tbody tr th:only-of-type {\n",
       "        vertical-align: middle;\n",
       "    }\n",
       "\n",
       "    .dataframe tbody tr th {\n",
       "        vertical-align: top;\n",
       "    }\n",
       "\n",
       "    .dataframe thead th {\n",
       "        text-align: right;\n",
       "    }\n",
       "</style>\n",
       "<table border=\"1\" class=\"dataframe\">\n",
       "  <thead>\n",
       "    <tr style=\"text-align: right;\">\n",
       "      <th></th>\n",
       "      <th>floor</th>\n",
       "      <th>acce_x</th>\n",
       "      <th>acce_y</th>\n",
       "      <th>acce_z</th>\n",
       "      <th>gyro_x</th>\n",
       "      <th>gyro_y</th>\n",
       "      <th>gyro_z</th>\n",
       "      <th>magn_x</th>\n",
       "      <th>magn_y</th>\n",
       "      <th>magn_z</th>\n",
       "      <th>ahrs_x</th>\n",
       "      <th>ahrs_y</th>\n",
       "      <th>ahrs_z</th>\n",
       "    </tr>\n",
       "  </thead>\n",
       "  <tbody>\n",
       "    <tr>\n",
       "      <th>0</th>\n",
       "      <td>3</td>\n",
       "      <td>-0.138633</td>\n",
       "      <td>0.031608</td>\n",
       "      <td>0.989839</td>\n",
       "      <td>0.547294</td>\n",
       "      <td>-0.614874</td>\n",
       "      <td>0.567802</td>\n",
       "      <td>-0.612628</td>\n",
       "      <td>-0.480982</td>\n",
       "      <td>-0.627171</td>\n",
       "      <td>0.070859</td>\n",
       "      <td>0.029812</td>\n",
       "      <td>-0.997041</td>\n",
       "    </tr>\n",
       "    <tr>\n",
       "      <th>1</th>\n",
       "      <td>3</td>\n",
       "      <td>-0.154102</td>\n",
       "      <td>0.040115</td>\n",
       "      <td>0.987240</td>\n",
       "      <td>0.596840</td>\n",
       "      <td>-0.622560</td>\n",
       "      <td>0.506164</td>\n",
       "      <td>-0.615378</td>\n",
       "      <td>-0.477186</td>\n",
       "      <td>-0.627378</td>\n",
       "      <td>0.071586</td>\n",
       "      <td>0.024906</td>\n",
       "      <td>-0.997123</td>\n",
       "    </tr>\n",
       "    <tr>\n",
       "      <th>2</th>\n",
       "      <td>3</td>\n",
       "      <td>-0.172169</td>\n",
       "      <td>0.054058</td>\n",
       "      <td>0.983583</td>\n",
       "      <td>0.590094</td>\n",
       "      <td>-0.509587</td>\n",
       "      <td>0.626187</td>\n",
       "      <td>-0.629827</td>\n",
       "      <td>-0.437050</td>\n",
       "      <td>-0.642110</td>\n",
       "      <td>0.077485</td>\n",
       "      <td>0.018775</td>\n",
       "      <td>-0.996817</td>\n",
       "    </tr>\n",
       "    <tr>\n",
       "      <th>3</th>\n",
       "      <td>3</td>\n",
       "      <td>-0.169154</td>\n",
       "      <td>0.065313</td>\n",
       "      <td>0.983423</td>\n",
       "      <td>0.532923</td>\n",
       "      <td>-0.178252</td>\n",
       "      <td>0.827176</td>\n",
       "      <td>-0.617940</td>\n",
       "      <td>-0.466858</td>\n",
       "      <td>-0.632609</td>\n",
       "      <td>0.077485</td>\n",
       "      <td>0.018775</td>\n",
       "      <td>-0.996817</td>\n",
       "    </tr>\n",
       "    <tr>\n",
       "      <th>4</th>\n",
       "      <td>3</td>\n",
       "      <td>-0.165678</td>\n",
       "      <td>0.075170</td>\n",
       "      <td>0.983311</td>\n",
       "      <td>0.550921</td>\n",
       "      <td>0.014996</td>\n",
       "      <td>0.834423</td>\n",
       "      <td>-0.595439</td>\n",
       "      <td>-0.502703</td>\n",
       "      <td>-0.626691</td>\n",
       "      <td>0.081289</td>\n",
       "      <td>0.016730</td>\n",
       "      <td>-0.996550</td>\n",
       "    </tr>\n",
       "  </tbody>\n",
       "</table>\n",
       "</div>"
      ],
      "text/plain": [
       "   floor    acce_x    acce_y    acce_z    gyro_x    gyro_y    gyro_z  \\\n",
       "0      3 -0.138633  0.031608  0.989839  0.547294 -0.614874  0.567802   \n",
       "1      3 -0.154102  0.040115  0.987240  0.596840 -0.622560  0.506164   \n",
       "2      3 -0.172169  0.054058  0.983583  0.590094 -0.509587  0.626187   \n",
       "3      3 -0.169154  0.065313  0.983423  0.532923 -0.178252  0.827176   \n",
       "4      3 -0.165678  0.075170  0.983311  0.550921  0.014996  0.834423   \n",
       "\n",
       "     magn_x    magn_y    magn_z    ahrs_x    ahrs_y    ahrs_z  \n",
       "0 -0.612628 -0.480982 -0.627171  0.070859  0.029812 -0.997041  \n",
       "1 -0.615378 -0.477186 -0.627378  0.071586  0.024906 -0.997123  \n",
       "2 -0.629827 -0.437050 -0.642110  0.077485  0.018775 -0.996817  \n",
       "3 -0.617940 -0.466858 -0.632609  0.077485  0.018775 -0.996817  \n",
       "4 -0.595439 -0.502703 -0.626691  0.081289  0.016730 -0.996550  "
      ]
     },
     "execution_count": 30,
     "metadata": {},
     "output_type": "execute_result"
    }
   ],
   "source": [
    "data_combined_split.head()"
   ]
  },
  {
   "cell_type": "code",
   "execution_count": 31,
   "metadata": {},
   "outputs": [],
   "source": [
    "train, test = train_test_split(data_combined_split, test_size=0.4)"
   ]
  },
  {
   "cell_type": "code",
   "execution_count": null,
   "metadata": {},
   "outputs": [],
   "source": [
    "def getmodel():\n",
    "    \n",
    "    x_input = keras.Input(shape=(None, train.shape[0], train.shape[1]-1),name=\"input\")  # Variable-length sequence of ints\n",
    "    conv1d_1= layers.Conv1D(64, 1, activation='relu')(x_input)\n",
    "    flat = layers.Flatten()(conv1d_1)\n",
    "    dense1 = layers.Dense(50, name=\"dense1\", activation=\"relu\")(flat)\n",
    "    encoder_conv_dense2 = layers.Dense(50, name=\"40_dense\", activation=\"relu\")(dense1)\n",
    "    encoder_conv_dense3 = layers.Dense(1, name=\"floor\", activation=\"softmax\")(encoder_conv_dense2)\n",
    "\n",
    "    model = keras.Model(\n",
    "        inputs=x_input,\n",
    "        outputs=encoder_conv_dense3,\n",
    "    )\n",
    "    \n",
    "    return model"
   ]
  },
  {
   "cell_type": "code",
   "execution_count": 32,
   "metadata": {},
   "outputs": [
    {
     "data": {
      "text/html": [
       "<div>\n",
       "<style scoped>\n",
       "    .dataframe tbody tr th:only-of-type {\n",
       "        vertical-align: middle;\n",
       "    }\n",
       "\n",
       "    .dataframe tbody tr th {\n",
       "        vertical-align: top;\n",
       "    }\n",
       "\n",
       "    .dataframe thead th {\n",
       "        text-align: right;\n",
       "    }\n",
       "</style>\n",
       "<table border=\"1\" class=\"dataframe\">\n",
       "  <thead>\n",
       "    <tr style=\"text-align: right;\">\n",
       "      <th></th>\n",
       "      <th>acce_x</th>\n",
       "      <th>acce_y</th>\n",
       "      <th>acce_z</th>\n",
       "      <th>gyro_x</th>\n",
       "      <th>gyro_y</th>\n",
       "      <th>gyro_z</th>\n",
       "      <th>magn_x</th>\n",
       "      <th>magn_y</th>\n",
       "      <th>magn_z</th>\n",
       "      <th>ahrs_x</th>\n",
       "      <th>ahrs_y</th>\n",
       "      <th>ahrs_z</th>\n",
       "    </tr>\n",
       "  </thead>\n",
       "  <tbody>\n",
       "    <tr>\n",
       "      <th>516</th>\n",
       "      <td>-0.180021</td>\n",
       "      <td>0.226788</td>\n",
       "      <td>0.957162</td>\n",
       "      <td>0.133463</td>\n",
       "      <td>0.611130</td>\n",
       "      <td>0.780197</td>\n",
       "      <td>0.403867</td>\n",
       "      <td>-0.801018</td>\n",
       "      <td>-0.441883</td>\n",
       "      <td>0.032880</td>\n",
       "      <td>0.171471</td>\n",
       "      <td>0.984640</td>\n",
       "    </tr>\n",
       "    <tr>\n",
       "      <th>165</th>\n",
       "      <td>0.122372</td>\n",
       "      <td>0.471113</td>\n",
       "      <td>0.873543</td>\n",
       "      <td>0.841395</td>\n",
       "      <td>0.013728</td>\n",
       "      <td>-0.540246</td>\n",
       "      <td>0.435042</td>\n",
       "      <td>0.098664</td>\n",
       "      <td>-0.894988</td>\n",
       "      <td>0.650226</td>\n",
       "      <td>0.228477</td>\n",
       "      <td>0.724572</td>\n",
       "    </tr>\n",
       "    <tr>\n",
       "      <th>2609</th>\n",
       "      <td>-0.093455</td>\n",
       "      <td>0.150359</td>\n",
       "      <td>0.984204</td>\n",
       "      <td>-0.049047</td>\n",
       "      <td>0.679089</td>\n",
       "      <td>-0.732416</td>\n",
       "      <td>0.164384</td>\n",
       "      <td>0.434324</td>\n",
       "      <td>-0.885630</td>\n",
       "      <td>0.861942</td>\n",
       "      <td>0.189202</td>\n",
       "      <td>0.470382</td>\n",
       "    </tr>\n",
       "    <tr>\n",
       "      <th>356</th>\n",
       "      <td>-0.004088</td>\n",
       "      <td>0.119658</td>\n",
       "      <td>0.992807</td>\n",
       "      <td>0.592822</td>\n",
       "      <td>-0.220166</td>\n",
       "      <td>-0.774654</td>\n",
       "      <td>0.429617</td>\n",
       "      <td>0.281953</td>\n",
       "      <td>-0.857865</td>\n",
       "      <td>0.374053</td>\n",
       "      <td>0.038104</td>\n",
       "      <td>0.926624</td>\n",
       "    </tr>\n",
       "    <tr>\n",
       "      <th>1068</th>\n",
       "      <td>0.040727</td>\n",
       "      <td>0.097119</td>\n",
       "      <td>0.994439</td>\n",
       "      <td>0.397750</td>\n",
       "      <td>0.522484</td>\n",
       "      <td>-0.754192</td>\n",
       "      <td>0.736730</td>\n",
       "      <td>0.202177</td>\n",
       "      <td>-0.645254</td>\n",
       "      <td>0.029877</td>\n",
       "      <td>0.003253</td>\n",
       "      <td>0.999548</td>\n",
       "    </tr>\n",
       "    <tr>\n",
       "      <th>...</th>\n",
       "      <td>...</td>\n",
       "      <td>...</td>\n",
       "      <td>...</td>\n",
       "      <td>...</td>\n",
       "      <td>...</td>\n",
       "      <td>...</td>\n",
       "      <td>...</td>\n",
       "      <td>...</td>\n",
       "      <td>...</td>\n",
       "      <td>...</td>\n",
       "      <td>...</td>\n",
       "      <td>...</td>\n",
       "    </tr>\n",
       "    <tr>\n",
       "      <th>250</th>\n",
       "      <td>-0.078833</td>\n",
       "      <td>0.489675</td>\n",
       "      <td>0.868334</td>\n",
       "      <td>0.864302</td>\n",
       "      <td>0.324816</td>\n",
       "      <td>-0.384026</td>\n",
       "      <td>-0.603009</td>\n",
       "      <td>0.042365</td>\n",
       "      <td>-0.796609</td>\n",
       "      <td>0.545843</td>\n",
       "      <td>-0.193874</td>\n",
       "      <td>-0.815149</td>\n",
       "    </tr>\n",
       "    <tr>\n",
       "      <th>1577</th>\n",
       "      <td>0.001684</td>\n",
       "      <td>0.576069</td>\n",
       "      <td>0.817399</td>\n",
       "      <td>0.047900</td>\n",
       "      <td>-0.449634</td>\n",
       "      <td>-0.891928</td>\n",
       "      <td>-0.019050</td>\n",
       "      <td>0.164657</td>\n",
       "      <td>-0.986167</td>\n",
       "      <td>0.992469</td>\n",
       "      <td>-0.122215</td>\n",
       "      <td>0.008304</td>\n",
       "    </tr>\n",
       "    <tr>\n",
       "      <th>12460</th>\n",
       "      <td>0.001693</td>\n",
       "      <td>0.016327</td>\n",
       "      <td>0.999865</td>\n",
       "      <td>0.931768</td>\n",
       "      <td>-0.312981</td>\n",
       "      <td>-0.183985</td>\n",
       "      <td>0.452537</td>\n",
       "      <td>0.368656</td>\n",
       "      <td>-0.811975</td>\n",
       "      <td>0.300298</td>\n",
       "      <td>0.149804</td>\n",
       "      <td>0.942008</td>\n",
       "    </tr>\n",
       "    <tr>\n",
       "      <th>1841</th>\n",
       "      <td>0.011784</td>\n",
       "      <td>0.315741</td>\n",
       "      <td>0.948772</td>\n",
       "      <td>-0.753715</td>\n",
       "      <td>0.038902</td>\n",
       "      <td>-0.656049</td>\n",
       "      <td>0.177814</td>\n",
       "      <td>0.555099</td>\n",
       "      <td>-0.812556</td>\n",
       "      <td>0.632687</td>\n",
       "      <td>0.137972</td>\n",
       "      <td>0.762018</td>\n",
       "    </tr>\n",
       "    <tr>\n",
       "      <th>1914</th>\n",
       "      <td>-0.018323</td>\n",
       "      <td>0.251998</td>\n",
       "      <td>0.967554</td>\n",
       "      <td>-0.565596</td>\n",
       "      <td>-0.008346</td>\n",
       "      <td>-0.824640</td>\n",
       "      <td>0.146724</td>\n",
       "      <td>-0.819005</td>\n",
       "      <td>-0.554710</td>\n",
       "      <td>0.013243</td>\n",
       "      <td>0.137531</td>\n",
       "      <td>0.990409</td>\n",
       "    </tr>\n",
       "  </tbody>\n",
       "</table>\n",
       "<p>611484 rows × 12 columns</p>\n",
       "</div>"
      ],
      "text/plain": [
       "         acce_x    acce_y    acce_z    gyro_x    gyro_y    gyro_z    magn_x  \\\n",
       "516   -0.180021  0.226788  0.957162  0.133463  0.611130  0.780197  0.403867   \n",
       "165    0.122372  0.471113  0.873543  0.841395  0.013728 -0.540246  0.435042   \n",
       "2609  -0.093455  0.150359  0.984204 -0.049047  0.679089 -0.732416  0.164384   \n",
       "356   -0.004088  0.119658  0.992807  0.592822 -0.220166 -0.774654  0.429617   \n",
       "1068   0.040727  0.097119  0.994439  0.397750  0.522484 -0.754192  0.736730   \n",
       "...         ...       ...       ...       ...       ...       ...       ...   \n",
       "250   -0.078833  0.489675  0.868334  0.864302  0.324816 -0.384026 -0.603009   \n",
       "1577   0.001684  0.576069  0.817399  0.047900 -0.449634 -0.891928 -0.019050   \n",
       "12460  0.001693  0.016327  0.999865  0.931768 -0.312981 -0.183985  0.452537   \n",
       "1841   0.011784  0.315741  0.948772 -0.753715  0.038902 -0.656049  0.177814   \n",
       "1914  -0.018323  0.251998  0.967554 -0.565596 -0.008346 -0.824640  0.146724   \n",
       "\n",
       "         magn_y    magn_z    ahrs_x    ahrs_y    ahrs_z  \n",
       "516   -0.801018 -0.441883  0.032880  0.171471  0.984640  \n",
       "165    0.098664 -0.894988  0.650226  0.228477  0.724572  \n",
       "2609   0.434324 -0.885630  0.861942  0.189202  0.470382  \n",
       "356    0.281953 -0.857865  0.374053  0.038104  0.926624  \n",
       "1068   0.202177 -0.645254  0.029877  0.003253  0.999548  \n",
       "...         ...       ...       ...       ...       ...  \n",
       "250    0.042365 -0.796609  0.545843 -0.193874 -0.815149  \n",
       "1577   0.164657 -0.986167  0.992469 -0.122215  0.008304  \n",
       "12460  0.368656 -0.811975  0.300298  0.149804  0.942008  \n",
       "1841   0.555099 -0.812556  0.632687  0.137972  0.762018  \n",
       "1914  -0.819005 -0.554710  0.013243  0.137531  0.990409  \n",
       "\n",
       "[611484 rows x 12 columns]"
      ]
     },
     "execution_count": 32,
     "metadata": {},
     "output_type": "execute_result"
    }
   ],
   "source": [
    "train[train.columns[1:]]"
   ]
  },
  {
   "cell_type": "code",
   "execution_count": 33,
   "metadata": {},
   "outputs": [
    {
     "name": "stderr",
     "output_type": "stream",
     "text": [
      "/Users/anooshhari/opt/anaconda3/lib/python3.8/site-packages/pandas/core/generic.py:5168: SettingWithCopyWarning: \n",
      "A value is trying to be set on a copy of a slice from a DataFrame.\n",
      "Try using .loc[row_indexer,col_indexer] = value instead\n",
      "\n",
      "See the caveats in the documentation: https://pandas.pydata.org/pandas-docs/stable/user_guide/indexing.html#returning-a-view-versus-a-copy\n",
      "  self[name] = value\n"
     ]
    }
   ],
   "source": [
    "train.floor = train.floor+1\n",
    "dataset = tf.data.Dataset.from_tensor_slices((train[train.columns[1:]].values, train['floor'].values))"
   ]
  },
  {
   "cell_type": "code",
   "execution_count": 37,
   "metadata": {},
   "outputs": [],
   "source": [
    "train_dataset = dataset.shuffle(len(dataset)).batch(1)"
   ]
  },
  {
   "cell_type": "code",
   "execution_count": 35,
   "metadata": {},
   "outputs": [],
   "source": [
    "def get_compiled_model():\n",
    "  model_new = tf.keras.Sequential([\n",
    "    tf.keras.layers.Dense(100, activation='relu'),\n",
    "    tf.keras.layers.Dense(100, activation='relu'),\n",
    "    tf.keras.layers.Dense(5, activation='softmax')\n",
    "  ])\n",
    "\n",
    "  model_new.compile(optimizer='adam',\n",
    "                loss=tf.keras.losses.SparseCategoricalCrossentropy(),\n",
    "                metrics=['accuracy'])\n",
    "  return model_new"
   ]
  },
  {
   "cell_type": "code",
   "execution_count": 61,
   "metadata": {},
   "outputs": [],
   "source": [
    "# model = getmodel()\n",
    "# model.compile('adam', 'binary_crossentropy')\n",
    "# history = model.fit(\n",
    "#     {\"input\": train[train.columns[1:]]},\n",
    "#     {\"floor\": train['floor']},\n",
    "#     epochs=10,\n",
    "# )"
   ]
  },
  {
   "cell_type": "code",
   "execution_count": 38,
   "metadata": {},
   "outputs": [
    {
     "name": "stdout",
     "output_type": "stream",
     "text": [
      "Epoch 1/3\n",
      "611484/611484 [==============================] - 412s 672us/step - loss: 1.2385 - accuracy: 0.4411\n",
      "Epoch 2/3\n",
      "611484/611484 [==============================] - 444s 724us/step - loss: 1.1961 - accuracy: 0.4665\n",
      "Epoch 3/3\n",
      "611484/611484 [==============================] - 452s 738us/step - loss: 1.1976 - accuracy: 0.4660 - loss: 1.1976 - accu\n"
     ]
    },
    {
     "data": {
      "text/plain": [
       "<tensorflow.python.keras.callbacks.History at 0x7f7ff64e27f0>"
      ]
     },
     "execution_count": 38,
     "metadata": {},
     "output_type": "execute_result"
    }
   ],
   "source": [
    "model_new = get_compiled_model()\n",
    "model_new.fit(train_dataset, epochs=3)"
   ]
  },
  {
   "cell_type": "code",
   "execution_count": 39,
   "metadata": {},
   "outputs": [],
   "source": [
    "dataset_test = tf.data.Dataset.from_tensor_slices(test[test.columns[1:]].values)"
   ]
  },
  {
   "cell_type": "code",
   "execution_count": 40,
   "metadata": {},
   "outputs": [],
   "source": [
    "test_predictions = model_new.predict(test[test.columns.values[1:]])"
   ]
  },
  {
   "cell_type": "code",
   "execution_count": 41,
   "metadata": {},
   "outputs": [],
   "source": [
    "final_predictions = np.argmax(test_predictions, axis=1)-1"
   ]
  },
  {
   "cell_type": "code",
   "execution_count": 42,
   "metadata": {},
   "outputs": [
    {
     "data": {
      "text/plain": [
       "array([-1,  2,  3, ..., -1,  1,  3])"
      ]
     },
     "execution_count": 42,
     "metadata": {},
     "output_type": "execute_result"
    }
   ],
   "source": [
    "test.floor.values"
   ]
  },
  {
   "cell_type": "code",
   "execution_count": 43,
   "metadata": {},
   "outputs": [
    {
     "data": {
      "text/plain": [
       "array([-1,  2,  2, ...,  1,  1,  1])"
      ]
     },
     "execution_count": 43,
     "metadata": {},
     "output_type": "execute_result"
    }
   ],
   "source": [
    "final_predictions"
   ]
  },
  {
   "cell_type": "code",
   "execution_count": 44,
   "metadata": {},
   "outputs": [],
   "source": [
    "values = test.floor.values == final_predictions"
   ]
  },
  {
   "cell_type": "code",
   "execution_count": 45,
   "metadata": {},
   "outputs": [
    {
     "data": {
      "text/plain": [
       "191999"
      ]
     },
     "execution_count": 45,
     "metadata": {},
     "output_type": "execute_result"
    }
   ],
   "source": [
    "values.sum()"
   ]
  },
  {
   "cell_type": "code",
   "execution_count": 46,
   "metadata": {},
   "outputs": [
    {
     "data": {
      "text/plain": [
       "407656"
      ]
     },
     "execution_count": 46,
     "metadata": {},
     "output_type": "execute_result"
    }
   ],
   "source": [
    "values.size"
   ]
  },
  {
   "cell_type": "code",
   "execution_count": 91,
   "metadata": {},
   "outputs": [],
   "source": [
    "sample_csv = pd.read_csv('/Users/anooshhari/Documents/Anoosh/Masters/Spring 21/Classes/6100 - BigData Analytics for C/Project/indoor-location-navigation/sample_submission.csv')"
   ]
  },
  {
   "cell_type": "code",
   "execution_count": 92,
   "metadata": {},
   "outputs": [
    {
     "data": {
      "text/html": [
       "<div>\n",
       "<style scoped>\n",
       "    .dataframe tbody tr th:only-of-type {\n",
       "        vertical-align: middle;\n",
       "    }\n",
       "\n",
       "    .dataframe tbody tr th {\n",
       "        vertical-align: top;\n",
       "    }\n",
       "\n",
       "    .dataframe thead th {\n",
       "        text-align: right;\n",
       "    }\n",
       "</style>\n",
       "<table border=\"1\" class=\"dataframe\">\n",
       "  <thead>\n",
       "    <tr style=\"text-align: right;\">\n",
       "      <th></th>\n",
       "      <th>site_path_timestamp</th>\n",
       "      <th>floor</th>\n",
       "      <th>x</th>\n",
       "      <th>y</th>\n",
       "    </tr>\n",
       "  </thead>\n",
       "  <tbody>\n",
       "    <tr>\n",
       "      <th>0</th>\n",
       "      <td>5a0546857ecc773753327266_046cfa46be49fc1083481...</td>\n",
       "      <td>0</td>\n",
       "      <td>75</td>\n",
       "      <td>75</td>\n",
       "    </tr>\n",
       "    <tr>\n",
       "      <th>1</th>\n",
       "      <td>5a0546857ecc773753327266_046cfa46be49fc1083481...</td>\n",
       "      <td>0</td>\n",
       "      <td>75</td>\n",
       "      <td>75</td>\n",
       "    </tr>\n",
       "    <tr>\n",
       "      <th>2</th>\n",
       "      <td>5a0546857ecc773753327266_046cfa46be49fc1083481...</td>\n",
       "      <td>0</td>\n",
       "      <td>75</td>\n",
       "      <td>75</td>\n",
       "    </tr>\n",
       "    <tr>\n",
       "      <th>3</th>\n",
       "      <td>5a0546857ecc773753327266_046cfa46be49fc1083481...</td>\n",
       "      <td>0</td>\n",
       "      <td>75</td>\n",
       "      <td>75</td>\n",
       "    </tr>\n",
       "    <tr>\n",
       "      <th>4</th>\n",
       "      <td>5a0546857ecc773753327266_046cfa46be49fc1083481...</td>\n",
       "      <td>0</td>\n",
       "      <td>75</td>\n",
       "      <td>75</td>\n",
       "    </tr>\n",
       "  </tbody>\n",
       "</table>\n",
       "</div>"
      ],
      "text/plain": [
       "                                 site_path_timestamp  floor   x   y\n",
       "0  5a0546857ecc773753327266_046cfa46be49fc1083481...      0  75  75\n",
       "1  5a0546857ecc773753327266_046cfa46be49fc1083481...      0  75  75\n",
       "2  5a0546857ecc773753327266_046cfa46be49fc1083481...      0  75  75\n",
       "3  5a0546857ecc773753327266_046cfa46be49fc1083481...      0  75  75\n",
       "4  5a0546857ecc773753327266_046cfa46be49fc1083481...      0  75  75"
      ]
     },
     "execution_count": 92,
     "metadata": {},
     "output_type": "execute_result"
    }
   ],
   "source": [
    "sample_csv.head()"
   ]
  },
  {
   "cell_type": "code",
   "execution_count": 93,
   "metadata": {},
   "outputs": [],
   "source": [
    "sample_csv['site']=None\n",
    "sample_csv['path']=None"
   ]
  },
  {
   "cell_type": "code",
   "execution_count": 73,
   "metadata": {},
   "outputs": [
    {
     "ename": "SyntaxError",
     "evalue": "cannot assign to function call (<ipython-input-73-dde4b696104f>, line 4)",
     "output_type": "error",
     "traceback": [
      "\u001b[0;36m  File \u001b[0;32m\"<ipython-input-73-dde4b696104f>\"\u001b[0;36m, line \u001b[0;32m4\u001b[0m\n\u001b[0;31m    row.site.loc(i) = row.site_path_timestamp.split(\"_\")[0]\u001b[0m\n\u001b[0m    ^\u001b[0m\n\u001b[0;31mSyntaxError\u001b[0m\u001b[0;31m:\u001b[0m cannot assign to function call\n"
     ]
    }
   ],
   "source": [
    "submission_data = sample_csv.copy()\n",
    "for i, row in submission_data.iterrows():\n",
    "#     print(row.site_path_timestamp.split(\"_\"))\n",
    "    row.site.loc(i) = row.site_path_timestamp.split(\"_\")[0]\n",
    "#     print(row.site)\n",
    "#     row['path'], row['site'] = row.site_path_timestamp.split('_')[1], row.site_path_timestamp.split('_')[0]"
   ]
  },
  {
   "cell_type": "code",
   "execution_count": 94,
   "metadata": {},
   "outputs": [],
   "source": [
    "submission_data = pd.DataFrame(sample_csv)"
   ]
  },
  {
   "cell_type": "code",
   "execution_count": 102,
   "metadata": {},
   "outputs": [],
   "source": [
    "# for i,row in submission_data.iterrows():\n",
    "#     row['site'] = row.site_path_timestamp.split(\"_\")[0]\n",
    "#     row['path'] = row.site_path_timestamp.split(\"_\")[1]\n",
    "#     print(row)\n",
    "submission_data.site = submission_data.site_path_timestamp.apply(lambda x: x.split(\"_\")[0])"
   ]
  },
  {
   "cell_type": "code",
   "execution_count": 112,
   "metadata": {},
   "outputs": [],
   "source": [
    "submission_data.path = submission_data.site_path_timestamp.apply(lambda x: x.split(\"_\")[1]+\".txt\")"
   ]
  },
  {
   "cell_type": "code",
   "execution_count": 111,
   "metadata": {},
   "outputs": [
    {
     "data": {
      "text/plain": [
       "(10133, 6)"
      ]
     },
     "execution_count": 111,
     "metadata": {},
     "output_type": "execute_result"
    }
   ],
   "source": [
    "submission_data.shape"
   ]
  },
  {
   "cell_type": "code",
   "execution_count": 221,
   "metadata": {},
   "outputs": [
    {
     "data": {
      "text/html": [
       "<div>\n",
       "<style scoped>\n",
       "    .dataframe tbody tr th:only-of-type {\n",
       "        vertical-align: middle;\n",
       "    }\n",
       "\n",
       "    .dataframe tbody tr th {\n",
       "        vertical-align: top;\n",
       "    }\n",
       "\n",
       "    .dataframe thead th {\n",
       "        text-align: right;\n",
       "    }\n",
       "</style>\n",
       "<table border=\"1\" class=\"dataframe\">\n",
       "  <thead>\n",
       "    <tr style=\"text-align: right;\">\n",
       "      <th></th>\n",
       "      <th>site_path_timestamp</th>\n",
       "      <th>floor</th>\n",
       "      <th>x</th>\n",
       "      <th>y</th>\n",
       "      <th>site</th>\n",
       "      <th>path</th>\n",
       "      <th>model_input</th>\n",
       "    </tr>\n",
       "  </thead>\n",
       "  <tbody>\n",
       "    <tr>\n",
       "      <th>0</th>\n",
       "      <td>5a0546857ecc773753327266_046cfa46be49fc1083481...</td>\n",
       "      <td>0</td>\n",
       "      <td>75</td>\n",
       "      <td>75</td>\n",
       "      <td>5a0546857ecc773753327266</td>\n",
       "      <td>046cfa46be49fc10834815c6.txt</td>\n",
       "      <td>None</td>\n",
       "    </tr>\n",
       "    <tr>\n",
       "      <th>1</th>\n",
       "      <td>5a0546857ecc773753327266_046cfa46be49fc1083481...</td>\n",
       "      <td>0</td>\n",
       "      <td>75</td>\n",
       "      <td>75</td>\n",
       "      <td>5a0546857ecc773753327266</td>\n",
       "      <td>046cfa46be49fc10834815c6.txt</td>\n",
       "      <td>None</td>\n",
       "    </tr>\n",
       "    <tr>\n",
       "      <th>2</th>\n",
       "      <td>5a0546857ecc773753327266_046cfa46be49fc1083481...</td>\n",
       "      <td>0</td>\n",
       "      <td>75</td>\n",
       "      <td>75</td>\n",
       "      <td>5a0546857ecc773753327266</td>\n",
       "      <td>046cfa46be49fc10834815c6.txt</td>\n",
       "      <td>None</td>\n",
       "    </tr>\n",
       "    <tr>\n",
       "      <th>3</th>\n",
       "      <td>5a0546857ecc773753327266_046cfa46be49fc1083481...</td>\n",
       "      <td>0</td>\n",
       "      <td>75</td>\n",
       "      <td>75</td>\n",
       "      <td>5a0546857ecc773753327266</td>\n",
       "      <td>046cfa46be49fc10834815c6.txt</td>\n",
       "      <td>None</td>\n",
       "    </tr>\n",
       "    <tr>\n",
       "      <th>4</th>\n",
       "      <td>5a0546857ecc773753327266_046cfa46be49fc1083481...</td>\n",
       "      <td>0</td>\n",
       "      <td>75</td>\n",
       "      <td>75</td>\n",
       "      <td>5a0546857ecc773753327266</td>\n",
       "      <td>046cfa46be49fc10834815c6.txt</td>\n",
       "      <td>None</td>\n",
       "    </tr>\n",
       "    <tr>\n",
       "      <th>...</th>\n",
       "      <td>...</td>\n",
       "      <td>...</td>\n",
       "      <td>...</td>\n",
       "      <td>...</td>\n",
       "      <td>...</td>\n",
       "      <td>...</td>\n",
       "      <td>...</td>\n",
       "    </tr>\n",
       "    <tr>\n",
       "      <th>294</th>\n",
       "      <td>5a0546857ecc773753327266_ffcd9524c80c0fa5bb859...</td>\n",
       "      <td>0</td>\n",
       "      <td>75</td>\n",
       "      <td>75</td>\n",
       "      <td>5a0546857ecc773753327266</td>\n",
       "      <td>ffcd9524c80c0fa5bb859eaf.txt</td>\n",
       "      <td>None</td>\n",
       "    </tr>\n",
       "    <tr>\n",
       "      <th>295</th>\n",
       "      <td>5a0546857ecc773753327266_ffcd9524c80c0fa5bb859...</td>\n",
       "      <td>0</td>\n",
       "      <td>75</td>\n",
       "      <td>75</td>\n",
       "      <td>5a0546857ecc773753327266</td>\n",
       "      <td>ffcd9524c80c0fa5bb859eaf.txt</td>\n",
       "      <td>None</td>\n",
       "    </tr>\n",
       "    <tr>\n",
       "      <th>296</th>\n",
       "      <td>5a0546857ecc773753327266_ffcd9524c80c0fa5bb859...</td>\n",
       "      <td>0</td>\n",
       "      <td>75</td>\n",
       "      <td>75</td>\n",
       "      <td>5a0546857ecc773753327266</td>\n",
       "      <td>ffcd9524c80c0fa5bb859eaf.txt</td>\n",
       "      <td>None</td>\n",
       "    </tr>\n",
       "    <tr>\n",
       "      <th>297</th>\n",
       "      <td>5a0546857ecc773753327266_ffcd9524c80c0fa5bb859...</td>\n",
       "      <td>0</td>\n",
       "      <td>75</td>\n",
       "      <td>75</td>\n",
       "      <td>5a0546857ecc773753327266</td>\n",
       "      <td>ffcd9524c80c0fa5bb859eaf.txt</td>\n",
       "      <td>None</td>\n",
       "    </tr>\n",
       "    <tr>\n",
       "      <th>298</th>\n",
       "      <td>5a0546857ecc773753327266_ffcd9524c80c0fa5bb859...</td>\n",
       "      <td>0</td>\n",
       "      <td>75</td>\n",
       "      <td>75</td>\n",
       "      <td>5a0546857ecc773753327266</td>\n",
       "      <td>ffcd9524c80c0fa5bb859eaf.txt</td>\n",
       "      <td>None</td>\n",
       "    </tr>\n",
       "  </tbody>\n",
       "</table>\n",
       "<p>299 rows × 7 columns</p>\n",
       "</div>"
      ],
      "text/plain": [
       "                                   site_path_timestamp  floor   x   y  \\\n",
       "0    5a0546857ecc773753327266_046cfa46be49fc1083481...      0  75  75   \n",
       "1    5a0546857ecc773753327266_046cfa46be49fc1083481...      0  75  75   \n",
       "2    5a0546857ecc773753327266_046cfa46be49fc1083481...      0  75  75   \n",
       "3    5a0546857ecc773753327266_046cfa46be49fc1083481...      0  75  75   \n",
       "4    5a0546857ecc773753327266_046cfa46be49fc1083481...      0  75  75   \n",
       "..                                                 ...    ...  ..  ..   \n",
       "294  5a0546857ecc773753327266_ffcd9524c80c0fa5bb859...      0  75  75   \n",
       "295  5a0546857ecc773753327266_ffcd9524c80c0fa5bb859...      0  75  75   \n",
       "296  5a0546857ecc773753327266_ffcd9524c80c0fa5bb859...      0  75  75   \n",
       "297  5a0546857ecc773753327266_ffcd9524c80c0fa5bb859...      0  75  75   \n",
       "298  5a0546857ecc773753327266_ffcd9524c80c0fa5bb859...      0  75  75   \n",
       "\n",
       "                         site                          path model_input  \n",
       "0    5a0546857ecc773753327266  046cfa46be49fc10834815c6.txt        None  \n",
       "1    5a0546857ecc773753327266  046cfa46be49fc10834815c6.txt        None  \n",
       "2    5a0546857ecc773753327266  046cfa46be49fc10834815c6.txt        None  \n",
       "3    5a0546857ecc773753327266  046cfa46be49fc10834815c6.txt        None  \n",
       "4    5a0546857ecc773753327266  046cfa46be49fc10834815c6.txt        None  \n",
       "..                        ...                           ...         ...  \n",
       "294  5a0546857ecc773753327266  ffcd9524c80c0fa5bb859eaf.txt        None  \n",
       "295  5a0546857ecc773753327266  ffcd9524c80c0fa5bb859eaf.txt        None  \n",
       "296  5a0546857ecc773753327266  ffcd9524c80c0fa5bb859eaf.txt        None  \n",
       "297  5a0546857ecc773753327266  ffcd9524c80c0fa5bb859eaf.txt        None  \n",
       "298  5a0546857ecc773753327266  ffcd9524c80c0fa5bb859eaf.txt        None  \n",
       "\n",
       "[299 rows x 7 columns]"
      ]
     },
     "execution_count": 221,
     "metadata": {},
     "output_type": "execute_result"
    }
   ],
   "source": [
    "submission_data['model_input']=None\n",
    "submission_data[submission_data.site == '5a0546857ecc773753327266']"
   ]
  },
  {
   "cell_type": "code",
   "execution_count": 272,
   "metadata": {},
   "outputs": [],
   "source": [
    "def transform_file_to_dataframe(file_names):\n",
    "    file_names = list(set(file_names))\n",
    "    input_data = pd.DataFrame(columns=['file_name', 'file_data'])\n",
    "    input_data.file_name = file_names\n",
    "    for i, row in input_data.iterrows():\n",
    "        readData = read_data_file(test_directory+\"/\"+row.file_name)\n",
    "        row.file_data = pd.DataFrame.from_dict({k:list(v) \\\n",
    "                                                for k,v in remove_timestamp_column(readData.__dict__).items()},\\\n",
    "                                                orient='index', dtype=object).transpose()\n",
    "#     print(input_data)\n",
    "    \n",
    "    data_combined = pd.DataFrame(columns=['acce','gyro','magn','ahrs'])\n",
    "#     print(\"data combined empty\",data_combined)\n",
    "    for i,data in input_data.iterrows():\n",
    "        current = data.file_data[['acce','gyro','magn','ahrs']].dropna()\n",
    "        current.reset_index(drop=True)\n",
    "        data_combined = pd.concat([data_combined, current])\n",
    "        \n",
    "#     print(\"data combined full\",data_combined)\n",
    "    \n",
    "    data_combined.acce = data_combined.acce.apply(lambda x: x/np.sqrt((x**2).sum()))\n",
    "    data_combined.gyro = data_combined.gyro.apply(lambda x: x/np.sqrt((x**2).sum()))\n",
    "    data_combined.magn = data_combined.magn.apply(lambda x: x/np.sqrt((x**2).sum()))\n",
    "    data_combined.ahrs = data_combined.ahrs.apply(lambda x: x/np.sqrt((x**2).sum()))\n",
    "    \n",
    "#     print(\"after normalization\", data_combined)\n",
    "    \n",
    "    data_combined[['acce_x','acce_y','acce_z']] = pd.DataFrame\\\n",
    "    (data_combined.acce.tolist(), index= data_combined.index)\n",
    "    \n",
    "    data_combined[['gyro_x','gyro_y','gyro_z']] = pd.DataFrame\\\n",
    "    (data_combined.acce.tolist(), index= data_combined.index)\n",
    "        \n",
    "    data_combined[['magn_x','magn_y','magn_z']] = pd.DataFrame\\\n",
    "    (data_combined.acce.tolist(), index= data_combined.index)\n",
    "    \n",
    "    data_combined[['ahrs_x','ahrs_y','ahrs_z']] = pd.DataFrame\\\n",
    "    (data_combined.acce.tolist(), index= data_combined.index)\n",
    "    \n",
    "    data_combined = data_combined[['acce_x','acce_y','acce_z',\\\n",
    "                                   'gyro_x','gyro_y','gyro_z',\\\n",
    "                                   'magn_x','magn_y','magn_z',\\\n",
    "                                   'ahrs_x','ahrs_y','ahrs_z']]\n",
    "    return data_combined"
   ]
  },
  {
   "cell_type": "code",
   "execution_count": 19,
   "metadata": {
    "scrolled": true
   },
   "outputs": [],
   "source": [
    "output_onefile = transform_file_to_dataframe(['046cfa46be49fc10834815c6.txt'])\n",
    "# testing123 = pd.DataFrame(columns=['file_name', 'file_data'])"
   ]
  },
  {
   "cell_type": "code",
   "execution_count": 193,
   "metadata": {},
   "outputs": [
    {
     "data": {
      "text/html": [
       "<div>\n",
       "<style scoped>\n",
       "    .dataframe tbody tr th:only-of-type {\n",
       "        vertical-align: middle;\n",
       "    }\n",
       "\n",
       "    .dataframe tbody tr th {\n",
       "        vertical-align: top;\n",
       "    }\n",
       "\n",
       "    .dataframe thead th {\n",
       "        text-align: right;\n",
       "    }\n",
       "</style>\n",
       "<table border=\"1\" class=\"dataframe\">\n",
       "  <thead>\n",
       "    <tr style=\"text-align: right;\">\n",
       "      <th></th>\n",
       "      <th>acce_x</th>\n",
       "      <th>acce_y</th>\n",
       "      <th>acce_z</th>\n",
       "      <th>gyro_x</th>\n",
       "      <th>gyro_y</th>\n",
       "      <th>gyro_z</th>\n",
       "      <th>magn_x</th>\n",
       "      <th>magn_y</th>\n",
       "      <th>magn_z</th>\n",
       "      <th>ahrs_x</th>\n",
       "      <th>ahrs_y</th>\n",
       "      <th>ahrs_z</th>\n",
       "    </tr>\n",
       "  </thead>\n",
       "  <tbody>\n",
       "    <tr>\n",
       "      <th>0</th>\n",
       "      <td>0.089237</td>\n",
       "      <td>0.480441</td>\n",
       "      <td>0.872475</td>\n",
       "      <td>0.089237</td>\n",
       "      <td>0.480441</td>\n",
       "      <td>0.872475</td>\n",
       "      <td>0.089237</td>\n",
       "      <td>0.480441</td>\n",
       "      <td>0.872475</td>\n",
       "      <td>0.089237</td>\n",
       "      <td>0.480441</td>\n",
       "      <td>0.872475</td>\n",
       "    </tr>\n",
       "    <tr>\n",
       "      <th>1</th>\n",
       "      <td>0.003049</td>\n",
       "      <td>0.561183</td>\n",
       "      <td>0.827686</td>\n",
       "      <td>0.003049</td>\n",
       "      <td>0.561183</td>\n",
       "      <td>0.827686</td>\n",
       "      <td>0.003049</td>\n",
       "      <td>0.561183</td>\n",
       "      <td>0.827686</td>\n",
       "      <td>0.003049</td>\n",
       "      <td>0.561183</td>\n",
       "      <td>0.827686</td>\n",
       "    </tr>\n",
       "    <tr>\n",
       "      <th>2</th>\n",
       "      <td>-0.046211</td>\n",
       "      <td>0.591007</td>\n",
       "      <td>0.805342</td>\n",
       "      <td>-0.046211</td>\n",
       "      <td>0.591007</td>\n",
       "      <td>0.805342</td>\n",
       "      <td>-0.046211</td>\n",
       "      <td>0.591007</td>\n",
       "      <td>0.805342</td>\n",
       "      <td>-0.046211</td>\n",
       "      <td>0.591007</td>\n",
       "      <td>0.805342</td>\n",
       "    </tr>\n",
       "    <tr>\n",
       "      <th>3</th>\n",
       "      <td>-0.060141</td>\n",
       "      <td>0.607536</td>\n",
       "      <td>0.792012</td>\n",
       "      <td>-0.060141</td>\n",
       "      <td>0.607536</td>\n",
       "      <td>0.792012</td>\n",
       "      <td>-0.060141</td>\n",
       "      <td>0.607536</td>\n",
       "      <td>0.792012</td>\n",
       "      <td>-0.060141</td>\n",
       "      <td>0.607536</td>\n",
       "      <td>0.792012</td>\n",
       "    </tr>\n",
       "    <tr>\n",
       "      <th>4</th>\n",
       "      <td>-0.008734</td>\n",
       "      <td>0.562966</td>\n",
       "      <td>0.826434</td>\n",
       "      <td>-0.008734</td>\n",
       "      <td>0.562966</td>\n",
       "      <td>0.826434</td>\n",
       "      <td>-0.008734</td>\n",
       "      <td>0.562966</td>\n",
       "      <td>0.826434</td>\n",
       "      <td>-0.008734</td>\n",
       "      <td>0.562966</td>\n",
       "      <td>0.826434</td>\n",
       "    </tr>\n",
       "    <tr>\n",
       "      <th>...</th>\n",
       "      <td>...</td>\n",
       "      <td>...</td>\n",
       "      <td>...</td>\n",
       "      <td>...</td>\n",
       "      <td>...</td>\n",
       "      <td>...</td>\n",
       "      <td>...</td>\n",
       "      <td>...</td>\n",
       "      <td>...</td>\n",
       "      <td>...</td>\n",
       "      <td>...</td>\n",
       "      <td>...</td>\n",
       "    </tr>\n",
       "    <tr>\n",
       "      <th>3326</th>\n",
       "      <td>-0.168437</td>\n",
       "      <td>0.624349</td>\n",
       "      <td>0.762769</td>\n",
       "      <td>-0.168437</td>\n",
       "      <td>0.624349</td>\n",
       "      <td>0.762769</td>\n",
       "      <td>-0.168437</td>\n",
       "      <td>0.624349</td>\n",
       "      <td>0.762769</td>\n",
       "      <td>-0.168437</td>\n",
       "      <td>0.624349</td>\n",
       "      <td>0.762769</td>\n",
       "    </tr>\n",
       "    <tr>\n",
       "      <th>3327</th>\n",
       "      <td>-0.212063</td>\n",
       "      <td>0.755093</td>\n",
       "      <td>0.620374</td>\n",
       "      <td>-0.212063</td>\n",
       "      <td>0.755093</td>\n",
       "      <td>0.620374</td>\n",
       "      <td>-0.212063</td>\n",
       "      <td>0.755093</td>\n",
       "      <td>0.620374</td>\n",
       "      <td>-0.212063</td>\n",
       "      <td>0.755093</td>\n",
       "      <td>0.620374</td>\n",
       "    </tr>\n",
       "    <tr>\n",
       "      <th>3328</th>\n",
       "      <td>-0.264557</td>\n",
       "      <td>0.664647</td>\n",
       "      <td>0.698751</td>\n",
       "      <td>-0.264557</td>\n",
       "      <td>0.664647</td>\n",
       "      <td>0.698751</td>\n",
       "      <td>-0.264557</td>\n",
       "      <td>0.664647</td>\n",
       "      <td>0.698751</td>\n",
       "      <td>-0.264557</td>\n",
       "      <td>0.664647</td>\n",
       "      <td>0.698751</td>\n",
       "    </tr>\n",
       "    <tr>\n",
       "      <th>3329</th>\n",
       "      <td>-0.173039</td>\n",
       "      <td>0.535233</td>\n",
       "      <td>0.826791</td>\n",
       "      <td>-0.173039</td>\n",
       "      <td>0.535233</td>\n",
       "      <td>0.826791</td>\n",
       "      <td>-0.173039</td>\n",
       "      <td>0.535233</td>\n",
       "      <td>0.826791</td>\n",
       "      <td>-0.173039</td>\n",
       "      <td>0.535233</td>\n",
       "      <td>0.826791</td>\n",
       "    </tr>\n",
       "    <tr>\n",
       "      <th>3330</th>\n",
       "      <td>-0.167687</td>\n",
       "      <td>0.558687</td>\n",
       "      <td>0.812250</td>\n",
       "      <td>-0.167687</td>\n",
       "      <td>0.558687</td>\n",
       "      <td>0.812250</td>\n",
       "      <td>-0.167687</td>\n",
       "      <td>0.558687</td>\n",
       "      <td>0.812250</td>\n",
       "      <td>-0.167687</td>\n",
       "      <td>0.558687</td>\n",
       "      <td>0.812250</td>\n",
       "    </tr>\n",
       "  </tbody>\n",
       "</table>\n",
       "<p>3331 rows × 12 columns</p>\n",
       "</div>"
      ],
      "text/plain": [
       "        acce_x    acce_y    acce_z    gyro_x    gyro_y    gyro_z    magn_x  \\\n",
       "0     0.089237  0.480441  0.872475  0.089237  0.480441  0.872475  0.089237   \n",
       "1     0.003049  0.561183  0.827686  0.003049  0.561183  0.827686  0.003049   \n",
       "2    -0.046211  0.591007  0.805342 -0.046211  0.591007  0.805342 -0.046211   \n",
       "3    -0.060141  0.607536  0.792012 -0.060141  0.607536  0.792012 -0.060141   \n",
       "4    -0.008734  0.562966  0.826434 -0.008734  0.562966  0.826434 -0.008734   \n",
       "...        ...       ...       ...       ...       ...       ...       ...   \n",
       "3326 -0.168437  0.624349  0.762769 -0.168437  0.624349  0.762769 -0.168437   \n",
       "3327 -0.212063  0.755093  0.620374 -0.212063  0.755093  0.620374 -0.212063   \n",
       "3328 -0.264557  0.664647  0.698751 -0.264557  0.664647  0.698751 -0.264557   \n",
       "3329 -0.173039  0.535233  0.826791 -0.173039  0.535233  0.826791 -0.173039   \n",
       "3330 -0.167687  0.558687  0.812250 -0.167687  0.558687  0.812250 -0.167687   \n",
       "\n",
       "        magn_y    magn_z    ahrs_x    ahrs_y    ahrs_z  \n",
       "0     0.480441  0.872475  0.089237  0.480441  0.872475  \n",
       "1     0.561183  0.827686  0.003049  0.561183  0.827686  \n",
       "2     0.591007  0.805342 -0.046211  0.591007  0.805342  \n",
       "3     0.607536  0.792012 -0.060141  0.607536  0.792012  \n",
       "4     0.562966  0.826434 -0.008734  0.562966  0.826434  \n",
       "...        ...       ...       ...       ...       ...  \n",
       "3326  0.624349  0.762769 -0.168437  0.624349  0.762769  \n",
       "3327  0.755093  0.620374 -0.212063  0.755093  0.620374  \n",
       "3328  0.664647  0.698751 -0.264557  0.664647  0.698751  \n",
       "3329  0.535233  0.826791 -0.173039  0.535233  0.826791  \n",
       "3330  0.558687  0.812250 -0.167687  0.558687  0.812250  \n",
       "\n",
       "[3331 rows x 12 columns]"
      ]
     },
     "execution_count": 193,
     "metadata": {},
     "output_type": "execute_result"
    }
   ],
   "source": [
    "output_onefile"
   ]
  },
  {
   "cell_type": "code",
   "execution_count": 195,
   "metadata": {},
   "outputs": [],
   "source": [
    "predictions = model_new.predict(output_onefile)"
   ]
  },
  {
   "cell_type": "code",
   "execution_count": 347,
   "metadata": {},
   "outputs": [
    {
     "data": {
      "text/plain": [
       "array([[0., 0., 0., 0., 1.],\n",
       "       [0., 0., 0., 0., 1.],\n",
       "       [0., 0., 0., 0., 1.],\n",
       "       ...,\n",
       "       [0., 0., 0., 0., 1.],\n",
       "       [0., 0., 0., 0., 1.],\n",
       "       [0., 0., 0., 0., 1.]], dtype=float32)"
      ]
     },
     "execution_count": 347,
     "metadata": {},
     "output_type": "execute_result"
    }
   ],
   "source": [
    "predictions"
   ]
  },
  {
   "cell_type": "code",
   "execution_count": 302,
   "metadata": {},
   "outputs": [
    {
     "data": {
      "text/plain": [
       "3"
      ]
     },
     "execution_count": 302,
     "metadata": {},
     "output_type": "execute_result"
    }
   ],
   "source": [
    "pd.Series(np.argmax(predictions, axis=1)-1).value_counts()[0:1].keys().values[0]"
   ]
  },
  {
   "cell_type": "code",
   "execution_count": 229,
   "metadata": {},
   "outputs": [],
   "source": [
    "# for i, row in submission_data[submission_data.site == '5a0546857ecc773753327266'].iterrows():\n",
    "#     row.model_input = transform_file_to_dataframe([row.path])"
   ]
  },
  {
   "cell_type": "code",
   "execution_count": 271,
   "metadata": {
    "scrolled": true
   },
   "outputs": [],
   "source": [
    "# for i, row in submission_data[submission_data.site == '5a0546857ecc773753327266'].iterrows():\n",
    "#     abc = dict()\n",
    "#     if row.path in abc.keys():\n",
    "#         row.model_input = abc[row.path]\n",
    "#     else:\n",
    "#         row.model_input = transform_file_to_dataframe([row.path])\n",
    "#         abc.add(row.path, row.model_input)\n",
    "abc = dict()\n",
    "def model_inputs(val):\n",
    "    if val in abc.keys():\n",
    "        return abc[val]\n",
    "    else:\n",
    "        res = transform_file_to_dataframe([val])\n",
    "        abc[val] = res\n",
    "        return res"
   ]
  },
  {
   "cell_type": "code",
   "execution_count": 273,
   "metadata": {},
   "outputs": [
    {
     "name": "stderr",
     "output_type": "stream",
     "text": [
      "<ipython-input-273-4dd63209dca5>:1: UserWarning: Pandas doesn't allow columns to be created via a new attribute name - see https://pandas.pydata.org/pandas-docs/stable/indexing.html#attribute-access\n",
      "  submission_data[submission_data.site == '5a0546857ecc773753327266'].model_inputs = submission_data[submission_data.site == '5a0546857ecc773753327266'].path.apply(lambda x: model_inputs(x))\n"
     ]
    }
   ],
   "source": [
    "submission_data[submission_data.site == '5a0546857ecc773753327266'].model_inputs = submission_data[submission_data.site == '5a0546857ecc773753327266'].path.apply(lambda x: model_inputs(x))"
   ]
  },
  {
   "cell_type": "code",
   "execution_count": 264,
   "metadata": {},
   "outputs": [
    {
     "data": {
      "text/plain": [
       "29"
      ]
     },
     "execution_count": 264,
     "metadata": {},
     "output_type": "execute_result"
    }
   ],
   "source": [
    "# submission_data[submission_data.site == '5a0546857ecc773753327266']\n",
    "# abc[1]=123\n",
    "# len(list(abc.keys()))\n",
    "# len(set(list(submission_data.path[submission_data.site=='5a0546857ecc773753327266'].values)))"
   ]
  },
  {
   "cell_type": "code",
   "execution_count": 1,
   "metadata": {},
   "outputs": [],
   "source": [
    "submission_data[submission_data.site == '5a0546857ecc773753327266'].path.apply(lambda x: model_inputs(x)).values"
   ]
  },
  {
   "cell_type": "code",
   "execution_count": 293,
   "metadata": {},
   "outputs": [
    {
     "name": "stderr",
     "output_type": "stream",
     "text": [
      "<ipython-input-293-f604da85b020>:1: SettingWithCopyWarning: \n",
      "A value is trying to be set on a copy of a slice from a DataFrame.\n",
      "Try using .loc[row_indexer,col_indexer] = value instead\n",
      "\n",
      "See the caveats in the documentation: https://pandas.pydata.org/pandas-docs/stable/user_guide/indexing.html#returning-a-view-versus-a-copy\n",
      "  submission_data[submission_data.site == '5a0546857ecc773753327266']['model_input'] = submission_data[submission_data.site == '5a0546857ecc773753327266'].path.apply(lambda x: model_inputs(x)).values\n"
     ]
    }
   ],
   "source": [
    "submission_data[submission_data.site == '5a0546857ecc773753327266'].model_input = submission_data[submission_data.site == '5a0546857ecc773753327266'].path.apply(lambda x: model_inputs(x)).values"
   ]
  },
  {
   "cell_type": "code",
   "execution_count": 300,
   "metadata": {},
   "outputs": [],
   "source": [
    "submission_data.loc[submission_data.site.str.startswith('5a0546857ecc773753327266'), 'model_input'] = submission_data[submission_data.site == '5a0546857ecc773753327266'].path.apply(lambda x: model_inputs(x))"
   ]
  },
  {
   "cell_type": "code",
   "execution_count": 301,
   "metadata": {},
   "outputs": [
    {
     "data": {
      "text/html": [
       "<div>\n",
       "<style scoped>\n",
       "    .dataframe tbody tr th:only-of-type {\n",
       "        vertical-align: middle;\n",
       "    }\n",
       "\n",
       "    .dataframe tbody tr th {\n",
       "        vertical-align: top;\n",
       "    }\n",
       "\n",
       "    .dataframe thead th {\n",
       "        text-align: right;\n",
       "    }\n",
       "</style>\n",
       "<table border=\"1\" class=\"dataframe\">\n",
       "  <thead>\n",
       "    <tr style=\"text-align: right;\">\n",
       "      <th></th>\n",
       "      <th>site_path_timestamp</th>\n",
       "      <th>floor</th>\n",
       "      <th>x</th>\n",
       "      <th>y</th>\n",
       "      <th>site</th>\n",
       "      <th>path</th>\n",
       "      <th>model_input</th>\n",
       "    </tr>\n",
       "  </thead>\n",
       "  <tbody>\n",
       "    <tr>\n",
       "      <th>0</th>\n",
       "      <td>5a0546857ecc773753327266_046cfa46be49fc1083481...</td>\n",
       "      <td>0</td>\n",
       "      <td>75</td>\n",
       "      <td>75</td>\n",
       "      <td>5a0546857ecc773753327266</td>\n",
       "      <td>046cfa46be49fc10834815c6.txt</td>\n",
       "      <td>acce_x    acce_y    acce_z    gyro_x  ...</td>\n",
       "    </tr>\n",
       "    <tr>\n",
       "      <th>1</th>\n",
       "      <td>5a0546857ecc773753327266_046cfa46be49fc1083481...</td>\n",
       "      <td>0</td>\n",
       "      <td>75</td>\n",
       "      <td>75</td>\n",
       "      <td>5a0546857ecc773753327266</td>\n",
       "      <td>046cfa46be49fc10834815c6.txt</td>\n",
       "      <td>acce_x    acce_y    acce_z    gyro_x  ...</td>\n",
       "    </tr>\n",
       "    <tr>\n",
       "      <th>2</th>\n",
       "      <td>5a0546857ecc773753327266_046cfa46be49fc1083481...</td>\n",
       "      <td>0</td>\n",
       "      <td>75</td>\n",
       "      <td>75</td>\n",
       "      <td>5a0546857ecc773753327266</td>\n",
       "      <td>046cfa46be49fc10834815c6.txt</td>\n",
       "      <td>acce_x    acce_y    acce_z    gyro_x  ...</td>\n",
       "    </tr>\n",
       "    <tr>\n",
       "      <th>3</th>\n",
       "      <td>5a0546857ecc773753327266_046cfa46be49fc1083481...</td>\n",
       "      <td>0</td>\n",
       "      <td>75</td>\n",
       "      <td>75</td>\n",
       "      <td>5a0546857ecc773753327266</td>\n",
       "      <td>046cfa46be49fc10834815c6.txt</td>\n",
       "      <td>acce_x    acce_y    acce_z    gyro_x  ...</td>\n",
       "    </tr>\n",
       "    <tr>\n",
       "      <th>4</th>\n",
       "      <td>5a0546857ecc773753327266_046cfa46be49fc1083481...</td>\n",
       "      <td>0</td>\n",
       "      <td>75</td>\n",
       "      <td>75</td>\n",
       "      <td>5a0546857ecc773753327266</td>\n",
       "      <td>046cfa46be49fc10834815c6.txt</td>\n",
       "      <td>acce_x    acce_y    acce_z    gyro_x  ...</td>\n",
       "    </tr>\n",
       "    <tr>\n",
       "      <th>...</th>\n",
       "      <td>...</td>\n",
       "      <td>...</td>\n",
       "      <td>...</td>\n",
       "      <td>...</td>\n",
       "      <td>...</td>\n",
       "      <td>...</td>\n",
       "      <td>...</td>\n",
       "    </tr>\n",
       "    <tr>\n",
       "      <th>294</th>\n",
       "      <td>5a0546857ecc773753327266_ffcd9524c80c0fa5bb859...</td>\n",
       "      <td>0</td>\n",
       "      <td>75</td>\n",
       "      <td>75</td>\n",
       "      <td>5a0546857ecc773753327266</td>\n",
       "      <td>ffcd9524c80c0fa5bb859eaf.txt</td>\n",
       "      <td>acce_x    acce_y    acce_z    gyro_x  ...</td>\n",
       "    </tr>\n",
       "    <tr>\n",
       "      <th>295</th>\n",
       "      <td>5a0546857ecc773753327266_ffcd9524c80c0fa5bb859...</td>\n",
       "      <td>0</td>\n",
       "      <td>75</td>\n",
       "      <td>75</td>\n",
       "      <td>5a0546857ecc773753327266</td>\n",
       "      <td>ffcd9524c80c0fa5bb859eaf.txt</td>\n",
       "      <td>acce_x    acce_y    acce_z    gyro_x  ...</td>\n",
       "    </tr>\n",
       "    <tr>\n",
       "      <th>296</th>\n",
       "      <td>5a0546857ecc773753327266_ffcd9524c80c0fa5bb859...</td>\n",
       "      <td>0</td>\n",
       "      <td>75</td>\n",
       "      <td>75</td>\n",
       "      <td>5a0546857ecc773753327266</td>\n",
       "      <td>ffcd9524c80c0fa5bb859eaf.txt</td>\n",
       "      <td>acce_x    acce_y    acce_z    gyro_x  ...</td>\n",
       "    </tr>\n",
       "    <tr>\n",
       "      <th>297</th>\n",
       "      <td>5a0546857ecc773753327266_ffcd9524c80c0fa5bb859...</td>\n",
       "      <td>0</td>\n",
       "      <td>75</td>\n",
       "      <td>75</td>\n",
       "      <td>5a0546857ecc773753327266</td>\n",
       "      <td>ffcd9524c80c0fa5bb859eaf.txt</td>\n",
       "      <td>acce_x    acce_y    acce_z    gyro_x  ...</td>\n",
       "    </tr>\n",
       "    <tr>\n",
       "      <th>298</th>\n",
       "      <td>5a0546857ecc773753327266_ffcd9524c80c0fa5bb859...</td>\n",
       "      <td>0</td>\n",
       "      <td>75</td>\n",
       "      <td>75</td>\n",
       "      <td>5a0546857ecc773753327266</td>\n",
       "      <td>ffcd9524c80c0fa5bb859eaf.txt</td>\n",
       "      <td>acce_x    acce_y    acce_z    gyro_x  ...</td>\n",
       "    </tr>\n",
       "  </tbody>\n",
       "</table>\n",
       "<p>299 rows × 7 columns</p>\n",
       "</div>"
      ],
      "text/plain": [
       "                                   site_path_timestamp  floor   x   y  \\\n",
       "0    5a0546857ecc773753327266_046cfa46be49fc1083481...      0  75  75   \n",
       "1    5a0546857ecc773753327266_046cfa46be49fc1083481...      0  75  75   \n",
       "2    5a0546857ecc773753327266_046cfa46be49fc1083481...      0  75  75   \n",
       "3    5a0546857ecc773753327266_046cfa46be49fc1083481...      0  75  75   \n",
       "4    5a0546857ecc773753327266_046cfa46be49fc1083481...      0  75  75   \n",
       "..                                                 ...    ...  ..  ..   \n",
       "294  5a0546857ecc773753327266_ffcd9524c80c0fa5bb859...      0  75  75   \n",
       "295  5a0546857ecc773753327266_ffcd9524c80c0fa5bb859...      0  75  75   \n",
       "296  5a0546857ecc773753327266_ffcd9524c80c0fa5bb859...      0  75  75   \n",
       "297  5a0546857ecc773753327266_ffcd9524c80c0fa5bb859...      0  75  75   \n",
       "298  5a0546857ecc773753327266_ffcd9524c80c0fa5bb859...      0  75  75   \n",
       "\n",
       "                         site                          path  \\\n",
       "0    5a0546857ecc773753327266  046cfa46be49fc10834815c6.txt   \n",
       "1    5a0546857ecc773753327266  046cfa46be49fc10834815c6.txt   \n",
       "2    5a0546857ecc773753327266  046cfa46be49fc10834815c6.txt   \n",
       "3    5a0546857ecc773753327266  046cfa46be49fc10834815c6.txt   \n",
       "4    5a0546857ecc773753327266  046cfa46be49fc10834815c6.txt   \n",
       "..                        ...                           ...   \n",
       "294  5a0546857ecc773753327266  ffcd9524c80c0fa5bb859eaf.txt   \n",
       "295  5a0546857ecc773753327266  ffcd9524c80c0fa5bb859eaf.txt   \n",
       "296  5a0546857ecc773753327266  ffcd9524c80c0fa5bb859eaf.txt   \n",
       "297  5a0546857ecc773753327266  ffcd9524c80c0fa5bb859eaf.txt   \n",
       "298  5a0546857ecc773753327266  ffcd9524c80c0fa5bb859eaf.txt   \n",
       "\n",
       "                                           model_input  \n",
       "0            acce_x    acce_y    acce_z    gyro_x  ...  \n",
       "1            acce_x    acce_y    acce_z    gyro_x  ...  \n",
       "2            acce_x    acce_y    acce_z    gyro_x  ...  \n",
       "3            acce_x    acce_y    acce_z    gyro_x  ...  \n",
       "4            acce_x    acce_y    acce_z    gyro_x  ...  \n",
       "..                                                 ...  \n",
       "294          acce_x    acce_y    acce_z    gyro_x  ...  \n",
       "295          acce_x    acce_y    acce_z    gyro_x  ...  \n",
       "296          acce_x    acce_y    acce_z    gyro_x  ...  \n",
       "297          acce_x    acce_y    acce_z    gyro_x  ...  \n",
       "298          acce_x    acce_y    acce_z    gyro_x  ...  \n",
       "\n",
       "[299 rows x 7 columns]"
      ]
     },
     "execution_count": 301,
     "metadata": {},
     "output_type": "execute_result"
    }
   ],
   "source": [
    "submission_data[submission_data.site == '5a0546857ecc773753327266']"
   ]
  },
  {
   "cell_type": "code",
   "execution_count": 309,
   "metadata": {},
   "outputs": [],
   "source": [
    "prediction_floor = dict()\n",
    "def final_floor_predictions_submission(df):\n",
    "    for i,row in df.iterrows():\n",
    "        if row.path in prediction_floor.keys():\n",
    "            row['floor'] = prediction_floor[row.path]\n",
    "        else:\n",
    "            predicts = model_new.predict(row.model_input)\n",
    "            floor_value = pd.Series(np.argmax(predicts, axis=1)-1).value_counts()[0:1].keys().values[0]\n",
    "            prediction_floor[row.path] = floor_value\n",
    "            row['floor'] = floor_value\n",
    "        print(row.floor)"
   ]
  },
  {
   "cell_type": "code",
   "execution_count": 2,
   "metadata": {},
   "outputs": [],
   "source": [
    "final_floor_predictions_submission(submission_data[submission_data.site == '5a0546857ecc773753327266'])"
   ]
  },
  {
   "cell_type": "code",
   "execution_count": 316,
   "metadata": {},
   "outputs": [
    {
     "name": "stderr",
     "output_type": "stream",
     "text": [
      "/Users/anooshhari/opt/anaconda3/lib/python3.8/site-packages/pandas/core/indexing.py:1765: SettingWithCopyWarning: \n",
      "A value is trying to be set on a copy of a slice from a DataFrame.\n",
      "Try using .loc[row_indexer,col_indexer] = value instead\n",
      "\n",
      "See the caveats in the documentation: https://pandas.pydata.org/pandas-docs/stable/user_guide/indexing.html#returning-a-view-versus-a-copy\n",
      "  isetter(loc, value)\n"
     ]
    }
   ],
   "source": [
    "submission_data[submission_data.site == '5a0546857ecc773753327266'].loc[:,'floor'] = 3"
   ]
  },
  {
   "cell_type": "code",
   "execution_count": 319,
   "metadata": {},
   "outputs": [],
   "source": [
    "submission_data.loc[submission_data.site.str.startswith('5a0546857ecc773753327266'), 'floor']=3"
   ]
  },
  {
   "cell_type": "code",
   "execution_count": 321,
   "metadata": {},
   "outputs": [
    {
     "data": {
      "text/html": [
       "<div>\n",
       "<style scoped>\n",
       "    .dataframe tbody tr th:only-of-type {\n",
       "        vertical-align: middle;\n",
       "    }\n",
       "\n",
       "    .dataframe tbody tr th {\n",
       "        vertical-align: top;\n",
       "    }\n",
       "\n",
       "    .dataframe thead th {\n",
       "        text-align: right;\n",
       "    }\n",
       "</style>\n",
       "<table border=\"1\" class=\"dataframe\">\n",
       "  <thead>\n",
       "    <tr style=\"text-align: right;\">\n",
       "      <th></th>\n",
       "      <th>site_path_timestamp</th>\n",
       "      <th>floor</th>\n",
       "      <th>x</th>\n",
       "      <th>y</th>\n",
       "      <th>site</th>\n",
       "      <th>path</th>\n",
       "      <th>model_input</th>\n",
       "    </tr>\n",
       "  </thead>\n",
       "  <tbody>\n",
       "    <tr>\n",
       "      <th>0</th>\n",
       "      <td>5a0546857ecc773753327266_046cfa46be49fc1083481...</td>\n",
       "      <td>3</td>\n",
       "      <td>75</td>\n",
       "      <td>75</td>\n",
       "      <td>5a0546857ecc773753327266</td>\n",
       "      <td>046cfa46be49fc10834815c6.txt</td>\n",
       "      <td>acce_x    acce_y    acce_z    gyro_x  ...</td>\n",
       "    </tr>\n",
       "    <tr>\n",
       "      <th>1</th>\n",
       "      <td>5a0546857ecc773753327266_046cfa46be49fc1083481...</td>\n",
       "      <td>3</td>\n",
       "      <td>75</td>\n",
       "      <td>75</td>\n",
       "      <td>5a0546857ecc773753327266</td>\n",
       "      <td>046cfa46be49fc10834815c6.txt</td>\n",
       "      <td>acce_x    acce_y    acce_z    gyro_x  ...</td>\n",
       "    </tr>\n",
       "    <tr>\n",
       "      <th>2</th>\n",
       "      <td>5a0546857ecc773753327266_046cfa46be49fc1083481...</td>\n",
       "      <td>3</td>\n",
       "      <td>75</td>\n",
       "      <td>75</td>\n",
       "      <td>5a0546857ecc773753327266</td>\n",
       "      <td>046cfa46be49fc10834815c6.txt</td>\n",
       "      <td>acce_x    acce_y    acce_z    gyro_x  ...</td>\n",
       "    </tr>\n",
       "    <tr>\n",
       "      <th>3</th>\n",
       "      <td>5a0546857ecc773753327266_046cfa46be49fc1083481...</td>\n",
       "      <td>3</td>\n",
       "      <td>75</td>\n",
       "      <td>75</td>\n",
       "      <td>5a0546857ecc773753327266</td>\n",
       "      <td>046cfa46be49fc10834815c6.txt</td>\n",
       "      <td>acce_x    acce_y    acce_z    gyro_x  ...</td>\n",
       "    </tr>\n",
       "    <tr>\n",
       "      <th>4</th>\n",
       "      <td>5a0546857ecc773753327266_046cfa46be49fc1083481...</td>\n",
       "      <td>3</td>\n",
       "      <td>75</td>\n",
       "      <td>75</td>\n",
       "      <td>5a0546857ecc773753327266</td>\n",
       "      <td>046cfa46be49fc10834815c6.txt</td>\n",
       "      <td>acce_x    acce_y    acce_z    gyro_x  ...</td>\n",
       "    </tr>\n",
       "    <tr>\n",
       "      <th>...</th>\n",
       "      <td>...</td>\n",
       "      <td>...</td>\n",
       "      <td>...</td>\n",
       "      <td>...</td>\n",
       "      <td>...</td>\n",
       "      <td>...</td>\n",
       "      <td>...</td>\n",
       "    </tr>\n",
       "    <tr>\n",
       "      <th>294</th>\n",
       "      <td>5a0546857ecc773753327266_ffcd9524c80c0fa5bb859...</td>\n",
       "      <td>3</td>\n",
       "      <td>75</td>\n",
       "      <td>75</td>\n",
       "      <td>5a0546857ecc773753327266</td>\n",
       "      <td>ffcd9524c80c0fa5bb859eaf.txt</td>\n",
       "      <td>acce_x    acce_y    acce_z    gyro_x  ...</td>\n",
       "    </tr>\n",
       "    <tr>\n",
       "      <th>295</th>\n",
       "      <td>5a0546857ecc773753327266_ffcd9524c80c0fa5bb859...</td>\n",
       "      <td>3</td>\n",
       "      <td>75</td>\n",
       "      <td>75</td>\n",
       "      <td>5a0546857ecc773753327266</td>\n",
       "      <td>ffcd9524c80c0fa5bb859eaf.txt</td>\n",
       "      <td>acce_x    acce_y    acce_z    gyro_x  ...</td>\n",
       "    </tr>\n",
       "    <tr>\n",
       "      <th>296</th>\n",
       "      <td>5a0546857ecc773753327266_ffcd9524c80c0fa5bb859...</td>\n",
       "      <td>3</td>\n",
       "      <td>75</td>\n",
       "      <td>75</td>\n",
       "      <td>5a0546857ecc773753327266</td>\n",
       "      <td>ffcd9524c80c0fa5bb859eaf.txt</td>\n",
       "      <td>acce_x    acce_y    acce_z    gyro_x  ...</td>\n",
       "    </tr>\n",
       "    <tr>\n",
       "      <th>297</th>\n",
       "      <td>5a0546857ecc773753327266_ffcd9524c80c0fa5bb859...</td>\n",
       "      <td>3</td>\n",
       "      <td>75</td>\n",
       "      <td>75</td>\n",
       "      <td>5a0546857ecc773753327266</td>\n",
       "      <td>ffcd9524c80c0fa5bb859eaf.txt</td>\n",
       "      <td>acce_x    acce_y    acce_z    gyro_x  ...</td>\n",
       "    </tr>\n",
       "    <tr>\n",
       "      <th>298</th>\n",
       "      <td>5a0546857ecc773753327266_ffcd9524c80c0fa5bb859...</td>\n",
       "      <td>3</td>\n",
       "      <td>75</td>\n",
       "      <td>75</td>\n",
       "      <td>5a0546857ecc773753327266</td>\n",
       "      <td>ffcd9524c80c0fa5bb859eaf.txt</td>\n",
       "      <td>acce_x    acce_y    acce_z    gyro_x  ...</td>\n",
       "    </tr>\n",
       "  </tbody>\n",
       "</table>\n",
       "<p>299 rows × 7 columns</p>\n",
       "</div>"
      ],
      "text/plain": [
       "                                   site_path_timestamp  floor   x   y  \\\n",
       "0    5a0546857ecc773753327266_046cfa46be49fc1083481...      3  75  75   \n",
       "1    5a0546857ecc773753327266_046cfa46be49fc1083481...      3  75  75   \n",
       "2    5a0546857ecc773753327266_046cfa46be49fc1083481...      3  75  75   \n",
       "3    5a0546857ecc773753327266_046cfa46be49fc1083481...      3  75  75   \n",
       "4    5a0546857ecc773753327266_046cfa46be49fc1083481...      3  75  75   \n",
       "..                                                 ...    ...  ..  ..   \n",
       "294  5a0546857ecc773753327266_ffcd9524c80c0fa5bb859...      3  75  75   \n",
       "295  5a0546857ecc773753327266_ffcd9524c80c0fa5bb859...      3  75  75   \n",
       "296  5a0546857ecc773753327266_ffcd9524c80c0fa5bb859...      3  75  75   \n",
       "297  5a0546857ecc773753327266_ffcd9524c80c0fa5bb859...      3  75  75   \n",
       "298  5a0546857ecc773753327266_ffcd9524c80c0fa5bb859...      3  75  75   \n",
       "\n",
       "                         site                          path  \\\n",
       "0    5a0546857ecc773753327266  046cfa46be49fc10834815c6.txt   \n",
       "1    5a0546857ecc773753327266  046cfa46be49fc10834815c6.txt   \n",
       "2    5a0546857ecc773753327266  046cfa46be49fc10834815c6.txt   \n",
       "3    5a0546857ecc773753327266  046cfa46be49fc10834815c6.txt   \n",
       "4    5a0546857ecc773753327266  046cfa46be49fc10834815c6.txt   \n",
       "..                        ...                           ...   \n",
       "294  5a0546857ecc773753327266  ffcd9524c80c0fa5bb859eaf.txt   \n",
       "295  5a0546857ecc773753327266  ffcd9524c80c0fa5bb859eaf.txt   \n",
       "296  5a0546857ecc773753327266  ffcd9524c80c0fa5bb859eaf.txt   \n",
       "297  5a0546857ecc773753327266  ffcd9524c80c0fa5bb859eaf.txt   \n",
       "298  5a0546857ecc773753327266  ffcd9524c80c0fa5bb859eaf.txt   \n",
       "\n",
       "                                           model_input  \n",
       "0            acce_x    acce_y    acce_z    gyro_x  ...  \n",
       "1            acce_x    acce_y    acce_z    gyro_x  ...  \n",
       "2            acce_x    acce_y    acce_z    gyro_x  ...  \n",
       "3            acce_x    acce_y    acce_z    gyro_x  ...  \n",
       "4            acce_x    acce_y    acce_z    gyro_x  ...  \n",
       "..                                                 ...  \n",
       "294          acce_x    acce_y    acce_z    gyro_x  ...  \n",
       "295          acce_x    acce_y    acce_z    gyro_x  ...  \n",
       "296          acce_x    acce_y    acce_z    gyro_x  ...  \n",
       "297          acce_x    acce_y    acce_z    gyro_x  ...  \n",
       "298          acce_x    acce_y    acce_z    gyro_x  ...  \n",
       "\n",
       "[299 rows x 7 columns]"
      ]
     },
     "execution_count": 321,
     "metadata": {},
     "output_type": "execute_result"
    }
   ],
   "source": [
    "submission_data[submission_data.site == '5a0546857ecc773753327266']"
   ]
  },
  {
   "cell_type": "code",
   "execution_count": 327,
   "metadata": {},
   "outputs": [],
   "source": [
    "submission_data.iloc[:,0:4].to_csv('submission.csv', index=False)"
   ]
  },
  {
   "cell_type": "code",
   "execution_count": 346,
   "metadata": {},
   "outputs": [
    {
     "data": {
      "text/plain": [
       "array([[0., 0., 0., 0., 1.],\n",
       "       [0., 0., 0., 0., 1.],\n",
       "       [0., 0., 0., 0., 1.],\n",
       "       ...,\n",
       "       [0., 0., 0., 0., 1.],\n",
       "       [0., 0., 0., 0., 1.],\n",
       "       [0., 0., 0., 0., 1.]], dtype=float32)"
      ]
     },
     "execution_count": 346,
     "metadata": {},
     "output_type": "execute_result"
    }
   ],
   "source": [
    "# for data in list(abc.values()):\n",
    "#     for i,row in data.iterrows():\n",
    "        \n",
    "model_new.predict(list(abc.values())[9])"
   ]
  },
  {
   "cell_type": "code",
   "execution_count": 350,
   "metadata": {},
   "outputs": [
    {
     "data": {
      "text/plain": [
       "array([0, 3, 3, ..., 2, 2, 2])"
      ]
     },
     "execution_count": 350,
     "metadata": {},
     "output_type": "execute_result"
    }
   ],
   "source": [
    "np.argmax(test_predictions, axis=1)"
   ]
  }
 ],
 "metadata": {
  "kernelspec": {
   "display_name": "Python 3",
   "language": "python",
   "name": "python3"
  },
  "language_info": {
   "codemirror_mode": {
    "name": "ipython",
    "version": 3
   },
   "file_extension": ".py",
   "mimetype": "text/x-python",
   "name": "python",
   "nbconvert_exporter": "python",
   "pygments_lexer": "ipython3",
   "version": "3.8.5"
  },
  "toc": {
   "base_numbering": 1,
   "nav_menu": {},
   "number_sections": true,
   "sideBar": true,
   "skip_h1_title": false,
   "title_cell": "Table of Contents",
   "title_sidebar": "Contents",
   "toc_cell": false,
   "toc_position": {},
   "toc_section_display": true,
   "toc_window_display": false
  }
 },
 "nbformat": 4,
 "nbformat_minor": 4
}
