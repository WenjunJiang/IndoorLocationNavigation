{
 "cells": [
  {
   "cell_type": "code",
   "execution_count": 2,
   "metadata": {},
   "outputs": [],
   "source": [
    "import numpy as np # linear algebra\n",
    "import pandas as pd # data processing, CSV file I/O (e.g. pd.read_csv)\n",
    "import os\n",
    "from pathlib import Path"
   ]
  },
  {
   "cell_type": "code",
   "execution_count": 3,
   "metadata": {},
   "outputs": [],
   "source": [
    "abc = !pwd\n",
    "isLocal = (abc[0].find('anooshhari') != 0)"
   ]
  },
  {
   "cell_type": "code",
   "execution_count": 4,
   "metadata": {},
   "outputs": [],
   "source": [
    "if isLocal:\n",
    "    base_directory = \"/Users/anooshhari/Documents/Anoosh/Masters/Spring 21/Classes/6100 - BigData Analytics for C/Project/indoor-location-navigation\"\n",
    "    base_git = base_directory\n",
    "    test_directory = \"/Users/anooshhari/Documents/Anoosh/Masters/Spring 21/Classes/6100 - BigData Analytics for C/Project/indoor-location-navigation/test\"\n",
    "else:\n",
    "    base_directory = \"/kaggle/input/indoor-location-navigation/\"\n",
    "    base_git = \"/kaggle/working/\""
   ]
  },
  {
   "cell_type": "code",
   "execution_count": 5,
   "metadata": {},
   "outputs": [],
   "source": [
    "if not isLocal:\n",
    "    !git clone https://github.com/location-competition/indoor-location-competition-20.git"
   ]
  },
  {
   "cell_type": "code",
   "execution_count": 6,
   "metadata": {},
   "outputs": [],
   "source": [
    "import sys\n",
    "sys.path.append(base_git +'/indoor-location-competition-20')\n",
    "from io_f import read_data_file"
   ]
  },
  {
   "cell_type": "code",
   "execution_count": 7,
   "metadata": {},
   "outputs": [],
   "source": [
    "import glob\n",
    "\n",
    "txtfiles = []\n",
    "for file in glob.glob(f\"{base_directory}/train/*/*/*.txt\"):\n",
    "    lst = file.split(\"/\")[-3:]\n",
    "    lst.append(file)\n",
    "    txtfiles.append(lst)"
   ]
  },
  {
   "cell_type": "code",
   "execution_count": 8,
   "metadata": {},
   "outputs": [],
   "source": [
    "df = pd.DataFrame(txtfiles,columns=['site_id','floor','path_id',\"file_path\"])\n",
    "df[\"file_data\"] = None"
   ]
  },
  {
   "cell_type": "code",
   "execution_count": 9,
   "metadata": {},
   "outputs": [],
   "source": [
    "site1_b1 = df[df.site_id.eq('5a0546857ecc773753327266')]"
   ]
  },
  {
   "cell_type": "code",
   "execution_count": 10,
   "metadata": {},
   "outputs": [
    {
     "data": {
      "text/html": [
       "<div>\n",
       "<style scoped>\n",
       "    .dataframe tbody tr th:only-of-type {\n",
       "        vertical-align: middle;\n",
       "    }\n",
       "\n",
       "    .dataframe tbody tr th {\n",
       "        vertical-align: top;\n",
       "    }\n",
       "\n",
       "    .dataframe thead th {\n",
       "        text-align: right;\n",
       "    }\n",
       "</style>\n",
       "<table border=\"1\" class=\"dataframe\">\n",
       "  <thead>\n",
       "    <tr style=\"text-align: right;\">\n",
       "      <th></th>\n",
       "      <th>site_id</th>\n",
       "      <th>floor</th>\n",
       "      <th>path_id</th>\n",
       "      <th>file_path</th>\n",
       "      <th>file_data</th>\n",
       "    </tr>\n",
       "  </thead>\n",
       "  <tbody>\n",
       "    <tr>\n",
       "      <th>0</th>\n",
       "      <td>5a0546857ecc773753327266</td>\n",
       "      <td>F4</td>\n",
       "      <td>5d79be0d43d77a0006b63a6d.txt</td>\n",
       "      <td>/Users/anooshhari/Documents/Anoosh/Masters/Spr...</td>\n",
       "      <td>None</td>\n",
       "    </tr>\n",
       "    <tr>\n",
       "      <th>1</th>\n",
       "      <td>5a0546857ecc773753327266</td>\n",
       "      <td>F4</td>\n",
       "      <td>5d79be0043d77a0006b63a5f.txt</td>\n",
       "      <td>/Users/anooshhari/Documents/Anoosh/Masters/Spr...</td>\n",
       "      <td>None</td>\n",
       "    </tr>\n",
       "    <tr>\n",
       "      <th>2</th>\n",
       "      <td>5a0546857ecc773753327266</td>\n",
       "      <td>F4</td>\n",
       "      <td>5d11dc04ffe23f0008604f57.txt</td>\n",
       "      <td>/Users/anooshhari/Documents/Anoosh/Masters/Spr...</td>\n",
       "      <td>None</td>\n",
       "    </tr>\n",
       "    <tr>\n",
       "      <th>3</th>\n",
       "      <td>5a0546857ecc773753327266</td>\n",
       "      <td>F4</td>\n",
       "      <td>5d8f0a4db6e29d0006fb8c36.txt</td>\n",
       "      <td>/Users/anooshhari/Documents/Anoosh/Masters/Spr...</td>\n",
       "      <td>None</td>\n",
       "    </tr>\n",
       "    <tr>\n",
       "      <th>4</th>\n",
       "      <td>5a0546857ecc773753327266</td>\n",
       "      <td>F4</td>\n",
       "      <td>5d8f0a52d5bae80006eb8de3.txt</td>\n",
       "      <td>/Users/anooshhari/Documents/Anoosh/Masters/Spr...</td>\n",
       "      <td>None</td>\n",
       "    </tr>\n",
       "  </tbody>\n",
       "</table>\n",
       "</div>"
      ],
      "text/plain": [
       "                    site_id floor                       path_id  \\\n",
       "0  5a0546857ecc773753327266    F4  5d79be0d43d77a0006b63a6d.txt   \n",
       "1  5a0546857ecc773753327266    F4  5d79be0043d77a0006b63a5f.txt   \n",
       "2  5a0546857ecc773753327266    F4  5d11dc04ffe23f0008604f57.txt   \n",
       "3  5a0546857ecc773753327266    F4  5d8f0a4db6e29d0006fb8c36.txt   \n",
       "4  5a0546857ecc773753327266    F4  5d8f0a52d5bae80006eb8de3.txt   \n",
       "\n",
       "                                           file_path file_data  \n",
       "0  /Users/anooshhari/Documents/Anoosh/Masters/Spr...      None  \n",
       "1  /Users/anooshhari/Documents/Anoosh/Masters/Spr...      None  \n",
       "2  /Users/anooshhari/Documents/Anoosh/Masters/Spr...      None  \n",
       "3  /Users/anooshhari/Documents/Anoosh/Masters/Spr...      None  \n",
       "4  /Users/anooshhari/Documents/Anoosh/Masters/Spr...      None  "
      ]
     },
     "execution_count": 10,
     "metadata": {},
     "output_type": "execute_result"
    }
   ],
   "source": [
    "site1_b1.head()"
   ]
  },
  {
   "cell_type": "code",
   "execution_count": 11,
   "metadata": {},
   "outputs": [],
   "source": [
    "def remove_timestamp_column(data):\n",
    "    for k,v in data.items():\n",
    "        if k in ['acce','gyro','magn','ahrs']:\n",
    "            data[k] = v[:,1:]\n",
    "    return data"
   ]
  },
  {
   "cell_type": "code",
   "execution_count": 12,
   "metadata": {},
   "outputs": [],
   "source": [
    "# read_data_file(site1_b1.file_path.values[0])\n",
    "for i,row in site1_b1.iterrows():\n",
    "    readData = read_data_file(row.file_path)\n",
    "    row.file_data = pd.DataFrame.from_dict({k:list(v) for k,v in remove_timestamp_column(readData.__dict__).items()}, orient='index', dtype=object).transpose()"
   ]
  },
  {
   "cell_type": "code",
   "execution_count": null,
   "metadata": {},
   "outputs": [],
   "source": [
    "# pd.DataFrame.from_dict({k:list(v) for k,v in read_data_file(site1_b1.file_path.values[0]).__dict__.items()}, orient='index').transpose()"
   ]
  },
  {
   "cell_type": "code",
   "execution_count": 15,
   "metadata": {},
   "outputs": [
    {
     "data": {
      "text/plain": [
       "['F4', 'F4', 'F4', 'F4', 'F4']"
      ]
     },
     "execution_count": 15,
     "metadata": {},
     "output_type": "execute_result"
    }
   ],
   "source": [
    "list(site1_b1.head().floor.values)"
   ]
  },
  {
   "cell_type": "code",
   "execution_count": null,
   "metadata": {},
   "outputs": [],
   "source": [
    "site1_b1.file_data.values[0]['acce'].values[0][:,1:]"
   ]
  },
  {
   "cell_type": "code",
   "execution_count": null,
   "metadata": {},
   "outputs": [],
   "source": [
    "from main import calibrate_magnetic_wifi_ibeacon_to_position"
   ]
  },
  {
   "cell_type": "code",
   "execution_count": null,
   "metadata": {},
   "outputs": [],
   "source": [
    "site1_b1.file_path[0:1].values[0]"
   ]
  },
  {
   "cell_type": "code",
   "execution_count": null,
   "metadata": {},
   "outputs": [],
   "source": [
    "single_path_data = calibrate_magnetic_wifi_ibeacon_to_position(site1_b1.file_path[0:1])"
   ]
  },
  {
   "cell_type": "code",
   "execution_count": null,
   "metadata": {},
   "outputs": [],
   "source": [
    "len(single_path_data.keys())"
   ]
  },
  {
   "cell_type": "code",
   "execution_count": null,
   "metadata": {},
   "outputs": [],
   "source": [
    "list(site1_b1.file_data.values[0].acce.values[0][:,0])"
   ]
  },
  {
   "cell_type": "code",
   "execution_count": null,
   "metadata": {},
   "outputs": [],
   "source": [
    "site1_b1.file_data.values[0][['acce','gyro','magn','ahrs']].shape"
   ]
  },
  {
   "cell_type": "code",
   "execution_count": null,
   "metadata": {},
   "outputs": [],
   "source": [
    "site1_b1.file_data.values[0][['acce','gyro','magn','ahrs']].dropna().shape"
   ]
  },
  {
   "cell_type": "code",
   "execution_count": 13,
   "metadata": {},
   "outputs": [
    {
     "name": "stdout",
     "output_type": "stream",
     "text": [
      "Empty DataFrame\n",
      "Columns: [acce, gyro, magn, ahrs, floor]\n",
      "Index: []\n"
     ]
    }
   ],
   "source": [
    "data_combined = pd.DataFrame(columns=['acce','gyro','magn','ahrs','floor'])\n",
    "print(data_combined)\n",
    "for i,data in site1_b1.iterrows():\n",
    "    current = data.file_data[['acce','gyro','magn','ahrs']].dropna()\n",
    "    current['floor'] = data.floor\n",
    "    current.reset_index(drop=True)\n",
    "#     print(type(data))\n",
    "#     print(type(current))\n",
    "#     break\n",
    "    data_combined = pd.concat([data_combined, current])\n",
    "# print(data_combined)"
   ]
  },
  {
   "cell_type": "code",
   "execution_count": null,
   "metadata": {},
   "outputs": [],
   "source": [
    "# data_combined.describe()"
   ]
  },
  {
   "cell_type": "code",
   "execution_count": 14,
   "metadata": {},
   "outputs": [
    {
     "data": {
      "text/html": [
       "<div>\n",
       "<style scoped>\n",
       "    .dataframe tbody tr th:only-of-type {\n",
       "        vertical-align: middle;\n",
       "    }\n",
       "\n",
       "    .dataframe tbody tr th {\n",
       "        vertical-align: top;\n",
       "    }\n",
       "\n",
       "    .dataframe thead th {\n",
       "        text-align: right;\n",
       "    }\n",
       "</style>\n",
       "<table border=\"1\" class=\"dataframe\">\n",
       "  <thead>\n",
       "    <tr style=\"text-align: right;\">\n",
       "      <th></th>\n",
       "      <th>acce</th>\n",
       "      <th>gyro</th>\n",
       "      <th>magn</th>\n",
       "      <th>ahrs</th>\n",
       "      <th>floor</th>\n",
       "    </tr>\n",
       "  </thead>\n",
       "  <tbody>\n",
       "    <tr>\n",
       "      <th>0</th>\n",
       "      <td>[-1.4918823, 0.34014893, 10.652069]</td>\n",
       "      <td>[0.2646942, -0.29737854, 0.27461243]</td>\n",
       "      <td>[-23.14148, -18.16864, -23.690796]</td>\n",
       "      <td>[0.06200746, 0.026087942, -0.87248856]</td>\n",
       "      <td>F4</td>\n",
       "    </tr>\n",
       "    <tr>\n",
       "      <th>1</th>\n",
       "      <td>[-1.5619049, 0.4065857, 10.006226]</td>\n",
       "      <td>[0.2641449, -0.27552795, 0.22401428]</td>\n",
       "      <td>[-25.195312, -19.537354, -25.686646]</td>\n",
       "      <td>[0.06252557, 0.021754283, -0.8709258]</td>\n",
       "      <td>F4</td>\n",
       "    </tr>\n",
       "    <tr>\n",
       "      <th>2</th>\n",
       "      <td>[-1.6876068, 0.5298767, 9.641113]</td>\n",
       "      <td>[0.2055664, -0.17752075, 0.21813965]</td>\n",
       "      <td>[-25.195312, -17.48352, -25.686646]</td>\n",
       "      <td>[0.067413874, 0.016335025, -0.86725426]</td>\n",
       "      <td>F4</td>\n",
       "    </tr>\n",
       "    <tr>\n",
       "      <th>3</th>\n",
       "      <td>[-1.6343384, 0.6310425, 9.501663]</td>\n",
       "      <td>[0.15975952, -0.05343628, 0.24797058]</td>\n",
       "      <td>[-23.14148, -17.48352, -23.690796]</td>\n",
       "      <td>[0.067413874, 0.016335025, -0.86725426]</td>\n",
       "      <td>F4</td>\n",
       "    </tr>\n",
       "    <tr>\n",
       "      <th>4</th>\n",
       "      <td>[-1.5900421, 0.7214203, 9.437012]</td>\n",
       "      <td>[0.17041016, 0.004638672, 0.25810242]</td>\n",
       "      <td>[-23.14148, -19.537354, -24.35608]</td>\n",
       "      <td>[0.07057936, 0.014525489, -0.8652526]</td>\n",
       "      <td>F4</td>\n",
       "    </tr>\n",
       "  </tbody>\n",
       "</table>\n",
       "</div>"
      ],
      "text/plain": [
       "                                  acce                                   gyro  \\\n",
       "0  [-1.4918823, 0.34014893, 10.652069]   [0.2646942, -0.29737854, 0.27461243]   \n",
       "1   [-1.5619049, 0.4065857, 10.006226]   [0.2641449, -0.27552795, 0.22401428]   \n",
       "2    [-1.6876068, 0.5298767, 9.641113]   [0.2055664, -0.17752075, 0.21813965]   \n",
       "3    [-1.6343384, 0.6310425, 9.501663]  [0.15975952, -0.05343628, 0.24797058]   \n",
       "4    [-1.5900421, 0.7214203, 9.437012]  [0.17041016, 0.004638672, 0.25810242]   \n",
       "\n",
       "                                   magn  \\\n",
       "0    [-23.14148, -18.16864, -23.690796]   \n",
       "1  [-25.195312, -19.537354, -25.686646]   \n",
       "2   [-25.195312, -17.48352, -25.686646]   \n",
       "3    [-23.14148, -17.48352, -23.690796]   \n",
       "4    [-23.14148, -19.537354, -24.35608]   \n",
       "\n",
       "                                      ahrs floor  \n",
       "0   [0.06200746, 0.026087942, -0.87248856]    F4  \n",
       "1    [0.06252557, 0.021754283, -0.8709258]    F4  \n",
       "2  [0.067413874, 0.016335025, -0.86725426]    F4  \n",
       "3  [0.067413874, 0.016335025, -0.86725426]    F4  \n",
       "4    [0.07057936, 0.014525489, -0.8652526]    F4  "
      ]
     },
     "execution_count": 14,
     "metadata": {},
     "output_type": "execute_result"
    }
   ],
   "source": [
    "data_combined.head()"
   ]
  },
  {
   "cell_type": "code",
   "execution_count": 15,
   "metadata": {
    "scrolled": false
   },
   "outputs": [
    {
     "data": {
      "text/plain": [
       "['F2', 'F4', 'B1', 'F1', 'F3']"
      ]
     },
     "execution_count": 15,
     "metadata": {},
     "output_type": "execute_result"
    }
   ],
   "source": [
    "list(data_combined.floor.value_counts().keys())"
   ]
  },
  {
   "cell_type": "code",
   "execution_count": null,
   "metadata": {},
   "outputs": [],
   "source": [
    "data_combined_copy = data_combined.copy()\n",
    "data_combined_copy.replace({\"floor\":{'F2':1, 'F4':3, 'B1':-1, 'F1':0, 'F3':2}}, inplace=True)"
   ]
  },
  {
   "cell_type": "code",
   "execution_count": 16,
   "metadata": {},
   "outputs": [],
   "source": [
    "def floor_to_numeric(floor):\n",
    "    if 'F' in floor:\n",
    "        return int(floor.replace('F',''))-1\n",
    "    elif 'B' in floor:\n",
    "        return (int(floor.replace('B','')))*(-1)"
   ]
  },
  {
   "cell_type": "code",
   "execution_count": 21,
   "metadata": {},
   "outputs": [
    {
     "data": {
      "text/plain": [
       "0    0\n",
       "1    0\n",
       "2    1\n",
       "3    1\n",
       "4   -1\n",
       "5   -1\n",
       "6   -2\n",
       "7   -2\n",
       "dtype: int64"
      ]
     },
     "execution_count": 21,
     "metadata": {},
     "output_type": "execute_result"
    }
   ],
   "source": []
  },
  {
   "cell_type": "code",
   "execution_count": null,
   "metadata": {},
   "outputs": [],
   "source": [
    "data_combined_copy.head()"
   ]
  },
  {
   "cell_type": "code",
   "execution_count": null,
   "metadata": {},
   "outputs": [],
   "source": [
    "# data_combined_copy = pd.get_dummies(data_combined, columns=[\"floor\"], prefix=[\"floor\"])"
   ]
  },
  {
   "cell_type": "code",
   "execution_count": null,
   "metadata": {},
   "outputs": [],
   "source": [
    "data_combined_copy.acce = data_combined_copy.acce.apply(lambda x: x/np.sqrt((x**2).sum()))\n",
    "data_combined_copy.gyro = data_combined_copy.gyro.apply(lambda x: x/np.sqrt((x**2).sum()))\n",
    "data_combined_copy.magn = data_combined_copy.magn.apply(lambda x: x/np.sqrt((x**2).sum()))\n",
    "data_combined_copy.ahrs = data_combined_copy.ahrs.apply(lambda x: x/np.sqrt((x**2).sum()))\n",
    "# data_combined_copy[['acce','gyro','magn','ahrs']] = data_combined_copy[['acce','gyro','magn','ahrs']].apply(lambda x: x/np.sqrt((x**2).sum()))"
   ]
  },
  {
   "cell_type": "code",
   "execution_count": null,
   "metadata": {},
   "outputs": [],
   "source": [
    "data_combined_copy.shape"
   ]
  },
  {
   "cell_type": "code",
   "execution_count": null,
   "metadata": {
    "scrolled": false
   },
   "outputs": [],
   "source": [
    "# !pip install keras\n",
    "# !pip install tensorflow\n",
    "# !pip install layers"
   ]
  },
  {
   "cell_type": "code",
   "execution_count": null,
   "metadata": {},
   "outputs": [],
   "source": [
    "import keras\n",
    "from keras import layers\n",
    "from sklearn.model_selection import train_test_split\n",
    "import tensorflow as tf"
   ]
  },
  {
   "cell_type": "code",
   "execution_count": null,
   "metadata": {},
   "outputs": [],
   "source": [
    "train, test = train_test_split(data_combined_copy, test_size=0.4)"
   ]
  },
  {
   "cell_type": "code",
   "execution_count": null,
   "metadata": {},
   "outputs": [],
   "source": [
    "print(train.shape)\n",
    "print(test.shape)"
   ]
  },
  {
   "cell_type": "code",
   "execution_count": null,
   "metadata": {},
   "outputs": [],
   "source": [
    "np.random.uniform(0,1, 3)"
   ]
  },
  {
   "cell_type": "code",
   "execution_count": null,
   "metadata": {
    "scrolled": false
   },
   "outputs": [],
   "source": [
    "dataset = tf.data.Dataset.from_tensor_slices((train[['acce','gyro','magn','ahrs']].values, train.floor.values))"
   ]
  },
  {
   "cell_type": "code",
   "execution_count": null,
   "metadata": {},
   "outputs": [],
   "source": [
    "data_combined_junk = data_combined_copy.copy()"
   ]
  },
  {
   "cell_type": "code",
   "execution_count": null,
   "metadata": {},
   "outputs": [],
   "source": [
    "data_combined_junk[['acce_x','acce_y','acce_z']] = pd.DataFrame(data_combined_junk.acce.tolist(), index= data_combined_junk.index)"
   ]
  },
  {
   "cell_type": "code",
   "execution_count": null,
   "metadata": {},
   "outputs": [],
   "source": [
    "data_combined_junk[['gyro_x','gyro_y','gyro_z']] = pd.DataFrame(data_combined_junk.gyro.tolist(), index= data_combined_junk.index)"
   ]
  },
  {
   "cell_type": "code",
   "execution_count": null,
   "metadata": {},
   "outputs": [],
   "source": [
    "data_combined_junk[['magn_x','magn_y','magn_z']] = pd.DataFrame(data_combined_junk.magn.tolist(), index= data_combined_junk.index)"
   ]
  },
  {
   "cell_type": "code",
   "execution_count": null,
   "metadata": {},
   "outputs": [],
   "source": [
    "data_combined_junk[['ahrs_x','ahrs_y','ahrs_z']] = pd.DataFrame(data_combined_junk.ahrs.tolist(), index= data_combined_junk.index)"
   ]
  },
  {
   "cell_type": "code",
   "execution_count": null,
   "metadata": {},
   "outputs": [],
   "source": [
    "data_combined_junk.head()"
   ]
  },
  {
   "cell_type": "code",
   "execution_count": null,
   "metadata": {},
   "outputs": [],
   "source": [
    "data_combined_split = data_combined_junk[data_combined_junk.columns[4:]].copy()"
   ]
  },
  {
   "cell_type": "code",
   "execution_count": null,
   "metadata": {},
   "outputs": [],
   "source": [
    "data_combined_split.head()"
   ]
  },
  {
   "cell_type": "code",
   "execution_count": null,
   "metadata": {},
   "outputs": [],
   "source": [
    "train, test = train_test_split(data_combined_split, test_size=0.4)"
   ]
  },
  {
   "cell_type": "code",
   "execution_count": null,
   "metadata": {},
   "outputs": [],
   "source": [
    "def getmodel():\n",
    "    \n",
    "    x_input = keras.Input(shape=(None, train.shape[0], train.shape[1]-1),name=\"input\")  # Variable-length sequence of ints\n",
    "    conv1d_1= layers.Conv1D(64, 1, activation='relu')(x_input)\n",
    "    flat = layers.Flatten()(conv1d_1)\n",
    "    dense1 = layers.Dense(50, name=\"dense1\", activation=\"relu\")(flat)\n",
    "    encoder_conv_dense2 = layers.Dense(50, name=\"40_dense\", activation=\"relu\")(dense1)\n",
    "    encoder_conv_dense3 = layers.Dense(1, name=\"floor\", activation=\"softmax\")(encoder_conv_dense2)\n",
    "\n",
    "    model = keras.Model(\n",
    "        inputs=x_input,\n",
    "        outputs=encoder_conv_dense3,\n",
    "    )\n",
    "    \n",
    "    return model"
   ]
  },
  {
   "cell_type": "code",
   "execution_count": null,
   "metadata": {},
   "outputs": [],
   "source": [
    "train[train.columns[1:]]"
   ]
  },
  {
   "cell_type": "code",
   "execution_count": null,
   "metadata": {},
   "outputs": [],
   "source": [
    "train.floor = train.floor+1\n",
    "dataset = tf.data.Dataset.from_tensor_slices((train[train.columns[1:]].values, train['floor'].values))"
   ]
  },
  {
   "cell_type": "code",
   "execution_count": null,
   "metadata": {},
   "outputs": [],
   "source": [
    "train_dataset = dataset.shuffle(len(dataset)).batch(1)"
   ]
  },
  {
   "cell_type": "code",
   "execution_count": null,
   "metadata": {},
   "outputs": [],
   "source": [
    "def get_compiled_model():\n",
    "  model_new = tf.keras.Sequential([\n",
    "    tf.keras.layers.Dense(100, activation='relu'),\n",
    "    tf.keras.layers.Dense(100, activation='relu'),\n",
    "    tf.keras.layers.Dense(5, activation='softmax')\n",
    "  ])\n",
    "\n",
    "  model_new.compile(optimizer='adam',\n",
    "                loss=tf.keras.losses.SparseCategoricalCrossentropy(),\n",
    "                metrics=['accuracy'])\n",
    "  return model_new"
   ]
  },
  {
   "cell_type": "code",
   "execution_count": null,
   "metadata": {},
   "outputs": [],
   "source": [
    "model_new = get_compiled_model()\n",
    "model_new.fit(train_dataset, epochs=3)"
   ]
  },
  {
   "cell_type": "code",
   "execution_count": null,
   "metadata": {},
   "outputs": [],
   "source": [
    "dataset_test = tf.data.Dataset.from_tensor_slices(test[test.columns[1:]].values)"
   ]
  },
  {
   "cell_type": "code",
   "execution_count": null,
   "metadata": {},
   "outputs": [],
   "source": [
    "test_predictions = model_new.predict(test[test.columns.values[1:]])"
   ]
  },
  {
   "cell_type": "code",
   "execution_count": null,
   "metadata": {},
   "outputs": [],
   "source": [
    "final_predictions = np.argmax(test_predictions, axis=1)-1"
   ]
  },
  {
   "cell_type": "code",
   "execution_count": null,
   "metadata": {},
   "outputs": [],
   "source": [
    "test.floor.values"
   ]
  },
  {
   "cell_type": "code",
   "execution_count": null,
   "metadata": {},
   "outputs": [],
   "source": [
    "final_predictions"
   ]
  },
  {
   "cell_type": "code",
   "execution_count": null,
   "metadata": {},
   "outputs": [],
   "source": [
    "values = test.floor.values == final_predictions"
   ]
  },
  {
   "cell_type": "code",
   "execution_count": null,
   "metadata": {},
   "outputs": [],
   "source": [
    "values.sum()"
   ]
  },
  {
   "cell_type": "code",
   "execution_count": null,
   "metadata": {},
   "outputs": [],
   "source": [
    "values.size"
   ]
  },
  {
   "cell_type": "code",
   "execution_count": null,
   "metadata": {},
   "outputs": [],
   "source": [
    "sample_csv = pd.read_csv('/Users/anooshhari/Documents/Anoosh/Masters/Spring 21/Classes/6100 - BigData Analytics for C/Project/indoor-location-navigation/sample_submission.csv')"
   ]
  },
  {
   "cell_type": "code",
   "execution_count": null,
   "metadata": {},
   "outputs": [],
   "source": [
    "sample_csv.head()"
   ]
  },
  {
   "cell_type": "code",
   "execution_count": null,
   "metadata": {},
   "outputs": [],
   "source": [
    "sample_csv['site']=None\n",
    "sample_csv['path']=None"
   ]
  },
  {
   "cell_type": "code",
   "execution_count": null,
   "metadata": {},
   "outputs": [],
   "source": [
    "submission_data = sample_csv.copy()\n",
    "for i, row in submission_data.iterrows():\n",
    "#     print(row.site_path_timestamp.split(\"_\"))\n",
    "    row.site.loc(i) = row.site_path_timestamp.split(\"_\")[0]\n",
    "#     print(row.site)\n",
    "#     row['path'], row['site'] = row.site_path_timestamp.split('_')[1], row.site_path_timestamp.split('_')[0]"
   ]
  },
  {
   "cell_type": "code",
   "execution_count": null,
   "metadata": {},
   "outputs": [],
   "source": [
    "submission_data = pd.DataFrame(sample_csv)"
   ]
  },
  {
   "cell_type": "code",
   "execution_count": null,
   "metadata": {},
   "outputs": [],
   "source": [
    "# for i,row in submission_data.iterrows():\n",
    "#     row['site'] = row.site_path_timestamp.split(\"_\")[0]\n",
    "#     row['path'] = row.site_path_timestamp.split(\"_\")[1]\n",
    "#     print(row)\n",
    "submission_data.site = submission_data.site_path_timestamp.apply(lambda x: x.split(\"_\")[0])"
   ]
  },
  {
   "cell_type": "code",
   "execution_count": null,
   "metadata": {},
   "outputs": [],
   "source": [
    "submission_data.path = submission_data.site_path_timestamp.apply(lambda x: x.split(\"_\")[1]+\".txt\")"
   ]
  },
  {
   "cell_type": "code",
   "execution_count": null,
   "metadata": {},
   "outputs": [],
   "source": [
    "submission_data.shape"
   ]
  },
  {
   "cell_type": "code",
   "execution_count": null,
   "metadata": {},
   "outputs": [],
   "source": [
    "submission_data['model_input']=None\n",
    "submission_data[submission_data.site == '5a0546857ecc773753327266']"
   ]
  },
  {
   "cell_type": "code",
   "execution_count": null,
   "metadata": {},
   "outputs": [],
   "source": [
    "def transform_file_to_dataframe(file_names):\n",
    "    file_names = list(set(file_names))\n",
    "    input_data = pd.DataFrame(columns=['file_name', 'file_data'])\n",
    "    input_data.file_name = file_names\n",
    "    for i, row in input_data.iterrows():\n",
    "        readData = read_data_file(test_directory+\"/\"+row.file_name)\n",
    "        row.file_data = pd.DataFrame.from_dict({k:list(v) \\\n",
    "                                                for k,v in remove_timestamp_column(readData.__dict__).items()},\\\n",
    "                                                orient='index', dtype=object).transpose()\n",
    "#     print(input_data)\n",
    "    \n",
    "    data_combined = pd.DataFrame(columns=['acce','gyro','magn','ahrs'])\n",
    "#     print(\"data combined empty\",data_combined)\n",
    "    for i,data in input_data.iterrows():\n",
    "        current = data.file_data[['acce','gyro','magn','ahrs']].dropna()\n",
    "        current.reset_index(drop=True)\n",
    "        data_combined = pd.concat([data_combined, current])\n",
    "        \n",
    "#     print(\"data combined full\",data_combined)\n",
    "    \n",
    "    data_combined.acce = data_combined.acce.apply(lambda x: x/np.sqrt((x**2).sum()))\n",
    "    data_combined.gyro = data_combined.gyro.apply(lambda x: x/np.sqrt((x**2).sum()))\n",
    "    data_combined.magn = data_combined.magn.apply(lambda x: x/np.sqrt((x**2).sum()))\n",
    "    data_combined.ahrs = data_combined.ahrs.apply(lambda x: x/np.sqrt((x**2).sum()))\n",
    "    \n",
    "#     print(\"after normalization\", data_combined)\n",
    "    \n",
    "    data_combined[['acce_x','acce_y','acce_z']] = pd.DataFrame\\\n",
    "    (data_combined.acce.tolist(), index= data_combined.index)\n",
    "    \n",
    "    data_combined[['gyro_x','gyro_y','gyro_z']] = pd.DataFrame\\\n",
    "    (data_combined.acce.tolist(), index= data_combined.index)\n",
    "        \n",
    "    data_combined[['magn_x','magn_y','magn_z']] = pd.DataFrame\\\n",
    "    (data_combined.acce.tolist(), index= data_combined.index)\n",
    "    \n",
    "    data_combined[['ahrs_x','ahrs_y','ahrs_z']] = pd.DataFrame\\\n",
    "    (data_combined.acce.tolist(), index= data_combined.index)\n",
    "    \n",
    "    data_combined = data_combined[['acce_x','acce_y','acce_z',\\\n",
    "                                   'gyro_x','gyro_y','gyro_z',\\\n",
    "                                   'magn_x','magn_y','magn_z',\\\n",
    "                                   'ahrs_x','ahrs_y','ahrs_z']]\n",
    "    return data_combined"
   ]
  },
  {
   "cell_type": "code",
   "execution_count": null,
   "metadata": {
    "scrolled": true
   },
   "outputs": [],
   "source": [
    "output_onefile = transform_file_to_dataframe(['046cfa46be49fc10834815c6.txt'])\n",
    "# testing123 = pd.DataFrame(columns=['file_name', 'file_data'])"
   ]
  },
  {
   "cell_type": "code",
   "execution_count": null,
   "metadata": {},
   "outputs": [],
   "source": [
    "output_onefile"
   ]
  },
  {
   "cell_type": "code",
   "execution_count": null,
   "metadata": {},
   "outputs": [],
   "source": [
    "predictions = model_new.predict(output_onefile)"
   ]
  },
  {
   "cell_type": "code",
   "execution_count": null,
   "metadata": {},
   "outputs": [],
   "source": [
    "predictions"
   ]
  },
  {
   "cell_type": "code",
   "execution_count": null,
   "metadata": {},
   "outputs": [],
   "source": [
    "pd.Series(np.argmax(predictions, axis=1)-1).value_counts()[0:1].keys().values[0]"
   ]
  },
  {
   "cell_type": "code",
   "execution_count": null,
   "metadata": {},
   "outputs": [],
   "source": [
    "# for i, row in submission_data[submission_data.site == '5a0546857ecc773753327266'].iterrows():\n",
    "#     row.model_input = transform_file_to_dataframe([row.path])"
   ]
  },
  {
   "cell_type": "code",
   "execution_count": null,
   "metadata": {
    "scrolled": true
   },
   "outputs": [],
   "source": [
    "# for i, row in submission_data[submission_data.site == '5a0546857ecc773753327266'].iterrows():\n",
    "#     abc = dict()\n",
    "#     if row.path in abc.keys():\n",
    "#         row.model_input = abc[row.path]\n",
    "#     else:\n",
    "#         row.model_input = transform_file_to_dataframe([row.path])\n",
    "#         abc.add(row.path, row.model_input)\n",
    "abc = dict()\n",
    "def model_inputs(val):\n",
    "    if val in abc.keys():\n",
    "        return abc[val]\n",
    "    else:\n",
    "        res = transform_file_to_dataframe([val])\n",
    "        abc[val] = res\n",
    "        return res"
   ]
  },
  {
   "cell_type": "code",
   "execution_count": null,
   "metadata": {},
   "outputs": [],
   "source": [
    "submission_data[submission_data.site == '5a0546857ecc773753327266'].model_inputs = submission_data[submission_data.site == '5a0546857ecc773753327266'].path.apply(lambda x: model_inputs(x))"
   ]
  },
  {
   "cell_type": "code",
   "execution_count": null,
   "metadata": {},
   "outputs": [],
   "source": [
    "# submission_data[submission_data.site == '5a0546857ecc773753327266']\n",
    "# abc[1]=123\n",
    "# len(list(abc.keys()))\n",
    "# len(set(list(submission_data.path[submission_data.site=='5a0546857ecc773753327266'].values)))"
   ]
  },
  {
   "cell_type": "code",
   "execution_count": null,
   "metadata": {},
   "outputs": [],
   "source": [
    "submission_data[submission_data.site == '5a0546857ecc773753327266'].path.apply(lambda x: model_inputs(x)).values"
   ]
  },
  {
   "cell_type": "code",
   "execution_count": null,
   "metadata": {},
   "outputs": [],
   "source": [
    "submission_data[submission_data.site == '5a0546857ecc773753327266'].model_input = submission_data[submission_data.site == '5a0546857ecc773753327266'].path.apply(lambda x: model_inputs(x)).values"
   ]
  },
  {
   "cell_type": "code",
   "execution_count": null,
   "metadata": {},
   "outputs": [],
   "source": [
    "submission_data.loc[submission_data.site.str.startswith('5a0546857ecc773753327266'), 'model_input'] = submission_data[submission_data.site == '5a0546857ecc773753327266'].path.apply(lambda x: model_inputs(x))"
   ]
  },
  {
   "cell_type": "code",
   "execution_count": null,
   "metadata": {},
   "outputs": [],
   "source": [
    "submission_data[submission_data.site == '5a0546857ecc773753327266']"
   ]
  },
  {
   "cell_type": "code",
   "execution_count": null,
   "metadata": {},
   "outputs": [],
   "source": [
    "prediction_floor = dict()\n",
    "def final_floor_predictions_submission(df):\n",
    "    for i,row in df.iterrows():\n",
    "        if row.path in prediction_floor.keys():\n",
    "            row['floor'] = prediction_floor[row.path]\n",
    "        else:\n",
    "            predicts = model_new.predict(row.model_input)\n",
    "            floor_value = pd.Series(np.argmax(predicts, axis=1)-1).value_counts()[0:1].keys().values[0]\n",
    "            prediction_floor[row.path] = floor_value\n",
    "            row['floor'] = floor_value\n",
    "        print(row.floor)"
   ]
  },
  {
   "cell_type": "code",
   "execution_count": null,
   "metadata": {},
   "outputs": [],
   "source": [
    "final_floor_predictions_submission(submission_data[submission_data.site == '5a0546857ecc773753327266'])"
   ]
  },
  {
   "cell_type": "code",
   "execution_count": null,
   "metadata": {},
   "outputs": [],
   "source": [
    "submission_data[submission_data.site == '5a0546857ecc773753327266'].loc[:,'floor'] = 3"
   ]
  },
  {
   "cell_type": "code",
   "execution_count": null,
   "metadata": {},
   "outputs": [],
   "source": [
    "submission_data.loc[submission_data.site.str.startswith('5a0546857ecc773753327266'), 'floor']=3"
   ]
  },
  {
   "cell_type": "code",
   "execution_count": null,
   "metadata": {},
   "outputs": [],
   "source": [
    "submission_data[submission_data.site == '5a0546857ecc773753327266']"
   ]
  },
  {
   "cell_type": "code",
   "execution_count": null,
   "metadata": {},
   "outputs": [],
   "source": [
    "submission_data.iloc[:,0:4].to_csv('submission.csv', index=False)"
   ]
  },
  {
   "cell_type": "code",
   "execution_count": null,
   "metadata": {},
   "outputs": [],
   "source": [
    "# for data in list(abc.values()):\n",
    "#     for i,row in data.iterrows():\n",
    "        \n",
    "model_new.predict(list(abc.values())[9])"
   ]
  },
  {
   "cell_type": "code",
   "execution_count": null,
   "metadata": {},
   "outputs": [],
   "source": [
    "np.argmax(test_predictions, axis=1)"
   ]
  }
 ],
 "metadata": {
  "kernelspec": {
   "display_name": "Python 3",
   "language": "python",
   "name": "python3"
  },
  "language_info": {
   "codemirror_mode": {
    "name": "ipython",
    "version": 3
   },
   "file_extension": ".py",
   "mimetype": "text/x-python",
   "name": "python",
   "nbconvert_exporter": "python",
   "pygments_lexer": "ipython3",
   "version": "3.8.5"
  },
  "toc": {
   "base_numbering": 1,
   "nav_menu": {},
   "number_sections": true,
   "sideBar": true,
   "skip_h1_title": false,
   "title_cell": "Table of Contents",
   "title_sidebar": "Contents",
   "toc_cell": false,
   "toc_position": {},
   "toc_section_display": true,
   "toc_window_display": false
  }
 },
 "nbformat": 4,
 "nbformat_minor": 4
}
